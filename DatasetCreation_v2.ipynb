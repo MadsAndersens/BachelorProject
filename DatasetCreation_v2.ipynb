{
 "cells": [
  {
   "cell_type": "code",
   "execution_count": 140,
   "outputs": [],
   "source": [
    "import pandas as pd\n",
    "from scipy.io import loadmat\n",
    "import numpy as np\n",
    "import os"
   ],
   "metadata": {
    "collapsed": false
   }
  },
  {
   "cell_type": "code",
   "execution_count": 141,
   "outputs": [],
   "source": [
    "data_set = pd.read_csv('/Users/madsandersen/PycharmProjects/BscProjektData/BachelorProject/Data/VitusData/EL_data_filtered.csv')"
   ],
   "metadata": {
    "collapsed": false
   }
  },
  {
   "cell_type": "code",
   "execution_count": 4,
   "outputs": [
    {
     "data": {
      "text/plain": "                                               name  series panel_id  row  \\\n0       Serie_1_ImageCorr_-10_4081_Cell_Row10_Col_1       1  10_4081   10   \n1       Serie_1_ImageCorr_-10_4081_Cell_Row10_Col_2       1  10_4081   10   \n2       Serie_1_ImageCorr_-10_4081_Cell_Row10_Col_3       1  10_4081   10   \n3       Serie_1_ImageCorr_-10_4081_Cell_Row10_Col_4       1  10_4081   10   \n4       Serie_1_ImageCorr_-10_4081_Cell_Row10_Col_5       1  10_4081   10   \n...                                             ...     ...      ...  ...   \n36056  Serie_6_ImageCorr_-9_4283_PC_Cell_Row9_Col_2       6   9_4283    9   \n36057  Serie_6_ImageCorr_-9_4283_PC_Cell_Row9_Col_3       6   9_4283    9   \n36058  Serie_6_ImageCorr_-9_4283_PC_Cell_Row9_Col_4       6   9_4283    9   \n36059  Serie_6_ImageCorr_-9_4283_PC_Cell_Row9_Col_5       6   9_4283    9   \n36060  Serie_6_ImageCorr_-9_4283_PC_Cell_Row9_Col_6       6   9_4283    9   \n\n       col  width  height   GS_mean  \n0        1    323     323  0.494703  \n1        2    324     323  0.426713  \n2        3    325     323  0.535716  \n3        4    324     323  0.476981  \n4        5    323     323  0.468487  \n...    ...    ...     ...       ...  \n36056    2    302     300  0.415072  \n36057    3    302     300  0.550505  \n36058    4    302     300  0.638767  \n36059    5    303     300  0.523925  \n36060    6    294     300  0.507093  \n\n[36061 rows x 8 columns]",
      "text/html": "<div>\n<style scoped>\n    .dataframe tbody tr th:only-of-type {\n        vertical-align: middle;\n    }\n\n    .dataframe tbody tr th {\n        vertical-align: top;\n    }\n\n    .dataframe thead th {\n        text-align: right;\n    }\n</style>\n<table border=\"1\" class=\"dataframe\">\n  <thead>\n    <tr style=\"text-align: right;\">\n      <th></th>\n      <th>name</th>\n      <th>series</th>\n      <th>panel_id</th>\n      <th>row</th>\n      <th>col</th>\n      <th>width</th>\n      <th>height</th>\n      <th>GS_mean</th>\n    </tr>\n  </thead>\n  <tbody>\n    <tr>\n      <th>0</th>\n      <td>Serie_1_ImageCorr_-10_4081_Cell_Row10_Col_1</td>\n      <td>1</td>\n      <td>10_4081</td>\n      <td>10</td>\n      <td>1</td>\n      <td>323</td>\n      <td>323</td>\n      <td>0.494703</td>\n    </tr>\n    <tr>\n      <th>1</th>\n      <td>Serie_1_ImageCorr_-10_4081_Cell_Row10_Col_2</td>\n      <td>1</td>\n      <td>10_4081</td>\n      <td>10</td>\n      <td>2</td>\n      <td>324</td>\n      <td>323</td>\n      <td>0.426713</td>\n    </tr>\n    <tr>\n      <th>2</th>\n      <td>Serie_1_ImageCorr_-10_4081_Cell_Row10_Col_3</td>\n      <td>1</td>\n      <td>10_4081</td>\n      <td>10</td>\n      <td>3</td>\n      <td>325</td>\n      <td>323</td>\n      <td>0.535716</td>\n    </tr>\n    <tr>\n      <th>3</th>\n      <td>Serie_1_ImageCorr_-10_4081_Cell_Row10_Col_4</td>\n      <td>1</td>\n      <td>10_4081</td>\n      <td>10</td>\n      <td>4</td>\n      <td>324</td>\n      <td>323</td>\n      <td>0.476981</td>\n    </tr>\n    <tr>\n      <th>4</th>\n      <td>Serie_1_ImageCorr_-10_4081_Cell_Row10_Col_5</td>\n      <td>1</td>\n      <td>10_4081</td>\n      <td>10</td>\n      <td>5</td>\n      <td>323</td>\n      <td>323</td>\n      <td>0.468487</td>\n    </tr>\n    <tr>\n      <th>...</th>\n      <td>...</td>\n      <td>...</td>\n      <td>...</td>\n      <td>...</td>\n      <td>...</td>\n      <td>...</td>\n      <td>...</td>\n      <td>...</td>\n    </tr>\n    <tr>\n      <th>36056</th>\n      <td>Serie_6_ImageCorr_-9_4283_PC_Cell_Row9_Col_2</td>\n      <td>6</td>\n      <td>9_4283</td>\n      <td>9</td>\n      <td>2</td>\n      <td>302</td>\n      <td>300</td>\n      <td>0.415072</td>\n    </tr>\n    <tr>\n      <th>36057</th>\n      <td>Serie_6_ImageCorr_-9_4283_PC_Cell_Row9_Col_3</td>\n      <td>6</td>\n      <td>9_4283</td>\n      <td>9</td>\n      <td>3</td>\n      <td>302</td>\n      <td>300</td>\n      <td>0.550505</td>\n    </tr>\n    <tr>\n      <th>36058</th>\n      <td>Serie_6_ImageCorr_-9_4283_PC_Cell_Row9_Col_4</td>\n      <td>6</td>\n      <td>9_4283</td>\n      <td>9</td>\n      <td>4</td>\n      <td>302</td>\n      <td>300</td>\n      <td>0.638767</td>\n    </tr>\n    <tr>\n      <th>36059</th>\n      <td>Serie_6_ImageCorr_-9_4283_PC_Cell_Row9_Col_5</td>\n      <td>6</td>\n      <td>9_4283</td>\n      <td>9</td>\n      <td>5</td>\n      <td>303</td>\n      <td>300</td>\n      <td>0.523925</td>\n    </tr>\n    <tr>\n      <th>36060</th>\n      <td>Serie_6_ImageCorr_-9_4283_PC_Cell_Row9_Col_6</td>\n      <td>6</td>\n      <td>9_4283</td>\n      <td>9</td>\n      <td>6</td>\n      <td>294</td>\n      <td>300</td>\n      <td>0.507093</td>\n    </tr>\n  </tbody>\n</table>\n<p>36061 rows × 8 columns</p>\n</div>"
     },
     "execution_count": 4,
     "metadata": {},
     "output_type": "execute_result"
    }
   ],
   "source": [
    "data_set"
   ],
   "metadata": {
    "collapsed": false
   }
  },
  {
   "cell_type": "code",
   "execution_count": 6,
   "outputs": [],
   "source": [
    "m_name = 'GT_Serie_1_Image_-1_4085_Cell_Row2_Col_2.mat'"
   ],
   "metadata": {
    "collapsed": false
   }
  },
  {
   "cell_type": "code",
   "execution_count": 142,
   "outputs": [],
   "source": [
    "def mat_2_image_name(m_name):\n",
    "    serie = m_name.split('-')[0][3:-7]\n",
    "    panel_id = m_name.split('-')[1][:-4]\n",
    "    base_name = 'ImageCorr'\n",
    "    full_name = f'{serie}_{base_name}_-{panel_id}'\n",
    "    return full_name"
   ],
   "metadata": {
    "collapsed": false
   }
  },
  {
   "cell_type": "code",
   "execution_count": 16,
   "outputs": [
    {
     "data": {
      "text/plain": "'Serie_1_ImageCorr_-10_4081_Cell_Row8_Col_3'"
     },
     "execution_count": 16,
     "metadata": {},
     "output_type": "execute_result"
    }
   ],
   "source": [
    "mat_2_image_name('GT_Serie_1_Image_-10_4081_Cell_Row8_Col_3.mat')"
   ],
   "metadata": {
    "collapsed": false
   }
  },
  {
   "cell_type": "code",
   "execution_count": 19,
   "outputs": [
    {
     "data": {
      "text/plain": "                                          name  series panel_id  row  col  \\\n50  Serie_1_ImageCorr_-10_4081_Cell_Row8_Col_3       1  10_4081    8    3   \n\n    width  height   GS_mean  \n50    325     322  0.514812  ",
      "text/html": "<div>\n<style scoped>\n    .dataframe tbody tr th:only-of-type {\n        vertical-align: middle;\n    }\n\n    .dataframe tbody tr th {\n        vertical-align: top;\n    }\n\n    .dataframe thead th {\n        text-align: right;\n    }\n</style>\n<table border=\"1\" class=\"dataframe\">\n  <thead>\n    <tr style=\"text-align: right;\">\n      <th></th>\n      <th>name</th>\n      <th>series</th>\n      <th>panel_id</th>\n      <th>row</th>\n      <th>col</th>\n      <th>width</th>\n      <th>height</th>\n      <th>GS_mean</th>\n    </tr>\n  </thead>\n  <tbody>\n    <tr>\n      <th>50</th>\n      <td>Serie_1_ImageCorr_-10_4081_Cell_Row8_Col_3</td>\n      <td>1</td>\n      <td>10_4081</td>\n      <td>8</td>\n      <td>3</td>\n      <td>325</td>\n      <td>322</td>\n      <td>0.514812</td>\n    </tr>\n  </tbody>\n</table>\n</div>"
     },
     "execution_count": 19,
     "metadata": {},
     "output_type": "execute_result"
    }
   ],
   "source": [
    "data_set[data_set['name'] == mat_2_image_name('GT_Serie_1_Image_-10_4081_Cell_Row8_Col_3.mat')]"
   ],
   "metadata": {
    "collapsed": false
   }
  },
  {
   "cell_type": "code",
   "execution_count": 143,
   "outputs": [],
   "source": [
    "data_set['mask_names'] = np.empty((len(data_set), 0)).tolist()\n",
    "data_set['labels'] = np.empty((len(data_set), 0)).tolist()"
   ],
   "metadata": {
    "collapsed": false
   }
  },
  {
   "cell_type": "code",
   "execution_count": 144,
   "outputs": [],
   "source": [
    "serier = os.listdir('/Users/madsandersen/PycharmProjects/BscProjektData/BachelorProject/Data/VitusData/Serier')[1:]"
   ],
   "metadata": {
    "collapsed": false
   }
  },
  {
   "cell_type": "code",
   "execution_count": 145,
   "outputs": [],
   "source": [
    "not_in = []\n",
    "base_dir = '/Users/madsandersen/PycharmProjects/BscProjektData/BachelorProject/Data/VitusData/Serier/'\n",
    "for serie in serier:\n",
    "    dirs = os.listdir('/Users/madsandersen/PycharmProjects/BscProjektData/BachelorProject/Data/VitusData/Serier/'+serie+'/MaskGT')\n",
    "    for mask_name in dirs:\n",
    "        try:\n",
    "            data_set[data_set['name'] == mat_2_image_name(mask_name)]['mask_names'].values[0] += [mask_name]\n",
    "            tm = loadmat(f'{base_dir}{serie}/MaskGT/{mask_name}')\n",
    "            label = tm['GTLabel']\n",
    "            data_set[data_set['name'] == mat_2_image_name(mask_name)]['labels'].values[0] += [label]\n",
    "        except:\n",
    "            not_in.append(mask_name)"
   ],
   "metadata": {
    "collapsed": false
   }
  },
  {
   "cell_type": "code",
   "execution_count": 146,
   "outputs": [
    {
     "data": {
      "text/plain": "9"
     },
     "execution_count": 146,
     "metadata": {},
     "output_type": "execute_result"
    }
   ],
   "source": [
    "len(not_in)"
   ],
   "metadata": {
    "collapsed": false
   }
  },
  {
   "cell_type": "code",
   "execution_count": 147,
   "outputs": [],
   "source": [
    "data_set['mask_names'] = data_set['mask_names'].apply(lambda x: x if len(x)>0 else None)"
   ],
   "metadata": {
    "collapsed": false
   }
  },
  {
   "cell_type": "code",
   "execution_count": 148,
   "outputs": [],
   "source": [
    "data_set['labels'] = data_set['labels'].apply(lambda x: x if len(x)>0 else None)"
   ],
   "metadata": {
    "collapsed": false
   }
  },
  {
   "cell_type": "code",
   "execution_count": 149,
   "outputs": [],
   "source": [
    "data_set['labels'] = data_set['labels'].apply(lambda x: np.array(x).flatten() if x is not None else None)"
   ],
   "metadata": {
    "collapsed": false
   }
  },
  {
   "cell_type": "code",
   "execution_count": 150,
   "outputs": [
    {
     "name": "stdout",
     "output_type": "stream",
     "text": [
      "                                               name  series panel_id  row  \\\n",
      "0       Serie_1_ImageCorr_-10_4081_Cell_Row10_Col_1       1  10_4081   10   \n",
      "1       Serie_1_ImageCorr_-10_4081_Cell_Row10_Col_2       1  10_4081   10   \n",
      "2       Serie_1_ImageCorr_-10_4081_Cell_Row10_Col_3       1  10_4081   10   \n",
      "3       Serie_1_ImageCorr_-10_4081_Cell_Row10_Col_4       1  10_4081   10   \n",
      "4       Serie_1_ImageCorr_-10_4081_Cell_Row10_Col_5       1  10_4081   10   \n",
      "...                                             ...     ...      ...  ...   \n",
      "36056  Serie_6_ImageCorr_-9_4283_PC_Cell_Row9_Col_2       6   9_4283    9   \n",
      "36057  Serie_6_ImageCorr_-9_4283_PC_Cell_Row9_Col_3       6   9_4283    9   \n",
      "36058  Serie_6_ImageCorr_-9_4283_PC_Cell_Row9_Col_4       6   9_4283    9   \n",
      "36059  Serie_6_ImageCorr_-9_4283_PC_Cell_Row9_Col_5       6   9_4283    9   \n",
      "36060  Serie_6_ImageCorr_-9_4283_PC_Cell_Row9_Col_6       6   9_4283    9   \n",
      "\n",
      "       col  width  height   GS_mean  \\\n",
      "0        1    323     323  0.494703   \n",
      "1        2    324     323  0.426713   \n",
      "2        3    325     323  0.535716   \n",
      "3        4    324     323  0.476981   \n",
      "4        5    323     323  0.468487   \n",
      "...    ...    ...     ...       ...   \n",
      "36056    2    302     300  0.415072   \n",
      "36057    3    302     300  0.550505   \n",
      "36058    4    302     300  0.638767   \n",
      "36059    5    303     300  0.523925   \n",
      "36060    6    294     300  0.507093   \n",
      "\n",
      "                                             mask_names              labels  \n",
      "0                                                  None                None  \n",
      "1      [GT_Serie_1_Image_-10_4081_Cell_Row10_Col_2.mat]  [[Finger Failure]]  \n",
      "2                                                  None                None  \n",
      "3      [GT_Serie_1_Image_-10_4081_Cell_Row10_Col_4.mat]  [[Finger Failure]]  \n",
      "4                                                  None                None  \n",
      "...                                                 ...                 ...  \n",
      "36056                                              None                None  \n",
      "36057                                              None                None  \n",
      "36058                                              None                None  \n",
      "36059                                              None                None  \n",
      "36060                                              None                None  \n",
      "\n",
      "[36061 rows x 10 columns]\n"
     ]
    }
   ],
   "source": [
    "print(data_set)"
   ],
   "metadata": {
    "collapsed": false
   }
  },
  {
   "cell_type": "code",
   "execution_count": 152,
   "outputs": [
    {
     "name": "stdout",
     "output_type": "stream",
     "text": [
      "                                               name  series panel_id  row  \\\n",
      "1       Serie_1_ImageCorr_-10_4081_Cell_Row10_Col_2       1  10_4081   10   \n",
      "3       Serie_1_ImageCorr_-10_4081_Cell_Row10_Col_4       1  10_4081   10   \n",
      "6        Serie_1_ImageCorr_-10_4081_Cell_Row1_Col_1       1  10_4081    1   \n",
      "7        Serie_1_ImageCorr_-10_4081_Cell_Row1_Col_2       1  10_4081    1   \n",
      "17       Serie_1_ImageCorr_-10_4081_Cell_Row2_Col_6       1  10_4081    2   \n",
      "...                                             ...     ...      ...  ...   \n",
      "35854  Serie_6_ImageCorr_-9_4243_PC_Cell_Row5_Col_4       6   9_4243    5   \n",
      "35858  Serie_6_ImageCorr_-9_4243_PC_Cell_Row6_Col_2       6   9_4243    6   \n",
      "35864  Serie_6_ImageCorr_-9_4243_PC_Cell_Row7_Col_2       6   9_4243    7   \n",
      "35900  Serie_6_ImageCorr_-9_4254_PC_Cell_Row3_Col_2       6   9_4254    3   \n",
      "35906  Serie_6_ImageCorr_-9_4254_PC_Cell_Row4_Col_2       6   9_4254    4   \n",
      "\n",
      "       col  width  height   GS_mean  \\\n",
      "1        2    324     323  0.426713   \n",
      "3        4    324     323  0.476981   \n",
      "6        1    323     323  0.441961   \n",
      "7        2    324     323  0.437049   \n",
      "17       6    323     324  0.450674   \n",
      "...    ...    ...     ...       ...   \n",
      "35854    4    302     300  0.542705   \n",
      "35858    2    302     302  0.431700   \n",
      "35864    2    302     300  0.587060   \n",
      "35900    2    303     301  0.450687   \n",
      "35906    2    303     302  0.393475   \n",
      "\n",
      "                                              mask_names  \\\n",
      "1       [GT_Serie_1_Image_-10_4081_Cell_Row10_Col_2.mat]   \n",
      "3       [GT_Serie_1_Image_-10_4081_Cell_Row10_Col_4.mat]   \n",
      "6        [GT_Serie_1_Image_-10_4081_Cell_Row1_Col_1.mat]   \n",
      "7        [GT_Serie_1_Image_-10_4081_Cell_Row1_Col_2.mat]   \n",
      "17       [GT_Serie_1_Image_-10_4081_Cell_Row2_Col_6.mat]   \n",
      "...                                                  ...   \n",
      "35854  [GT_Serie_6_Image_-9_4243_PC_Cell_Row5_Col_4.mat]   \n",
      "35858  [GT_Serie_6_Image_-9_4243_PC_Cell_Row6_Col_2.mat]   \n",
      "35864  [GT_Serie_6_Image_-9_4243_PC_Cell_Row7_Col_2.mat]   \n",
      "35900  [GT_Serie_6_Image_-9_4254_PC_Cell_Row3_Col_2.mat]   \n",
      "35906  [GT_Serie_6_Image_-9_4254_PC_Cell_Row4_Col_2.mat]   \n",
      "\n",
      "                                     labels  \n",
      "1                        [[Finger Failure]]  \n",
      "3                        [[Finger Failure]]  \n",
      "6      [[Finger Failure], [Finger Failure]]  \n",
      "7                        [[Finger Failure]]  \n",
      "17     [[Finger Failure], [Finger Failure]]  \n",
      "...                                     ...  \n",
      "35854                           [[Crack B]]  \n",
      "35858                           [[Crack C]]  \n",
      "35864                           [[Crack C]]  \n",
      "35900                           [[Crack A]]  \n",
      "35906                           [[Crack A]]  \n",
      "\n",
      "[1432 rows x 10 columns]\n"
     ]
    }
   ],
   "source": [
    "print(data_set[data_set['labels'].notnull()])"
   ],
   "metadata": {
    "collapsed": false
   }
  },
  {
   "cell_type": "code",
   "execution_count": 153,
   "outputs": [
    {
     "data": {
      "text/plain": "                                               name  series panel_id  row  \\\n0       Serie_1_ImageCorr_-10_4081_Cell_Row10_Col_1       1  10_4081   10   \n1       Serie_1_ImageCorr_-10_4081_Cell_Row10_Col_2       1  10_4081   10   \n2       Serie_1_ImageCorr_-10_4081_Cell_Row10_Col_3       1  10_4081   10   \n3       Serie_1_ImageCorr_-10_4081_Cell_Row10_Col_4       1  10_4081   10   \n4       Serie_1_ImageCorr_-10_4081_Cell_Row10_Col_5       1  10_4081   10   \n...                                             ...     ...      ...  ...   \n36056  Serie_6_ImageCorr_-9_4283_PC_Cell_Row9_Col_2       6   9_4283    9   \n36057  Serie_6_ImageCorr_-9_4283_PC_Cell_Row9_Col_3       6   9_4283    9   \n36058  Serie_6_ImageCorr_-9_4283_PC_Cell_Row9_Col_4       6   9_4283    9   \n36059  Serie_6_ImageCorr_-9_4283_PC_Cell_Row9_Col_5       6   9_4283    9   \n36060  Serie_6_ImageCorr_-9_4283_PC_Cell_Row9_Col_6       6   9_4283    9   \n\n       col  width  height   GS_mean  \\\n0        1    323     323  0.494703   \n1        2    324     323  0.426713   \n2        3    325     323  0.535716   \n3        4    324     323  0.476981   \n4        5    323     323  0.468487   \n...    ...    ...     ...       ...   \n36056    2    302     300  0.415072   \n36057    3    302     300  0.550505   \n36058    4    302     300  0.638767   \n36059    5    303     300  0.523925   \n36060    6    294     300  0.507093   \n\n                                             mask_names              labels  \n0                                                  None                None  \n1      [GT_Serie_1_Image_-10_4081_Cell_Row10_Col_2.mat]  [[Finger Failure]]  \n2                                                  None                None  \n3      [GT_Serie_1_Image_-10_4081_Cell_Row10_Col_4.mat]  [[Finger Failure]]  \n4                                                  None                None  \n...                                                 ...                 ...  \n36056                                              None                None  \n36057                                              None                None  \n36058                                              None                None  \n36059                                              None                None  \n36060                                              None                None  \n\n[36061 rows x 10 columns]",
      "text/html": "<div>\n<style scoped>\n    .dataframe tbody tr th:only-of-type {\n        vertical-align: middle;\n    }\n\n    .dataframe tbody tr th {\n        vertical-align: top;\n    }\n\n    .dataframe thead th {\n        text-align: right;\n    }\n</style>\n<table border=\"1\" class=\"dataframe\">\n  <thead>\n    <tr style=\"text-align: right;\">\n      <th></th>\n      <th>name</th>\n      <th>series</th>\n      <th>panel_id</th>\n      <th>row</th>\n      <th>col</th>\n      <th>width</th>\n      <th>height</th>\n      <th>GS_mean</th>\n      <th>mask_names</th>\n      <th>labels</th>\n    </tr>\n  </thead>\n  <tbody>\n    <tr>\n      <th>0</th>\n      <td>Serie_1_ImageCorr_-10_4081_Cell_Row10_Col_1</td>\n      <td>1</td>\n      <td>10_4081</td>\n      <td>10</td>\n      <td>1</td>\n      <td>323</td>\n      <td>323</td>\n      <td>0.494703</td>\n      <td>None</td>\n      <td>None</td>\n    </tr>\n    <tr>\n      <th>1</th>\n      <td>Serie_1_ImageCorr_-10_4081_Cell_Row10_Col_2</td>\n      <td>1</td>\n      <td>10_4081</td>\n      <td>10</td>\n      <td>2</td>\n      <td>324</td>\n      <td>323</td>\n      <td>0.426713</td>\n      <td>[GT_Serie_1_Image_-10_4081_Cell_Row10_Col_2.mat]</td>\n      <td>[[Finger Failure]]</td>\n    </tr>\n    <tr>\n      <th>2</th>\n      <td>Serie_1_ImageCorr_-10_4081_Cell_Row10_Col_3</td>\n      <td>1</td>\n      <td>10_4081</td>\n      <td>10</td>\n      <td>3</td>\n      <td>325</td>\n      <td>323</td>\n      <td>0.535716</td>\n      <td>None</td>\n      <td>None</td>\n    </tr>\n    <tr>\n      <th>3</th>\n      <td>Serie_1_ImageCorr_-10_4081_Cell_Row10_Col_4</td>\n      <td>1</td>\n      <td>10_4081</td>\n      <td>10</td>\n      <td>4</td>\n      <td>324</td>\n      <td>323</td>\n      <td>0.476981</td>\n      <td>[GT_Serie_1_Image_-10_4081_Cell_Row10_Col_4.mat]</td>\n      <td>[[Finger Failure]]</td>\n    </tr>\n    <tr>\n      <th>4</th>\n      <td>Serie_1_ImageCorr_-10_4081_Cell_Row10_Col_5</td>\n      <td>1</td>\n      <td>10_4081</td>\n      <td>10</td>\n      <td>5</td>\n      <td>323</td>\n      <td>323</td>\n      <td>0.468487</td>\n      <td>None</td>\n      <td>None</td>\n    </tr>\n    <tr>\n      <th>...</th>\n      <td>...</td>\n      <td>...</td>\n      <td>...</td>\n      <td>...</td>\n      <td>...</td>\n      <td>...</td>\n      <td>...</td>\n      <td>...</td>\n      <td>...</td>\n      <td>...</td>\n    </tr>\n    <tr>\n      <th>36056</th>\n      <td>Serie_6_ImageCorr_-9_4283_PC_Cell_Row9_Col_2</td>\n      <td>6</td>\n      <td>9_4283</td>\n      <td>9</td>\n      <td>2</td>\n      <td>302</td>\n      <td>300</td>\n      <td>0.415072</td>\n      <td>None</td>\n      <td>None</td>\n    </tr>\n    <tr>\n      <th>36057</th>\n      <td>Serie_6_ImageCorr_-9_4283_PC_Cell_Row9_Col_3</td>\n      <td>6</td>\n      <td>9_4283</td>\n      <td>9</td>\n      <td>3</td>\n      <td>302</td>\n      <td>300</td>\n      <td>0.550505</td>\n      <td>None</td>\n      <td>None</td>\n    </tr>\n    <tr>\n      <th>36058</th>\n      <td>Serie_6_ImageCorr_-9_4283_PC_Cell_Row9_Col_4</td>\n      <td>6</td>\n      <td>9_4283</td>\n      <td>9</td>\n      <td>4</td>\n      <td>302</td>\n      <td>300</td>\n      <td>0.638767</td>\n      <td>None</td>\n      <td>None</td>\n    </tr>\n    <tr>\n      <th>36059</th>\n      <td>Serie_6_ImageCorr_-9_4283_PC_Cell_Row9_Col_5</td>\n      <td>6</td>\n      <td>9_4283</td>\n      <td>9</td>\n      <td>5</td>\n      <td>303</td>\n      <td>300</td>\n      <td>0.523925</td>\n      <td>None</td>\n      <td>None</td>\n    </tr>\n    <tr>\n      <th>36060</th>\n      <td>Serie_6_ImageCorr_-9_4283_PC_Cell_Row9_Col_6</td>\n      <td>6</td>\n      <td>9_4283</td>\n      <td>9</td>\n      <td>6</td>\n      <td>294</td>\n      <td>300</td>\n      <td>0.507093</td>\n      <td>None</td>\n      <td>None</td>\n    </tr>\n  </tbody>\n</table>\n<p>36061 rows × 10 columns</p>\n</div>"
     },
     "execution_count": 153,
     "metadata": {},
     "output_type": "execute_result"
    }
   ],
   "source": [
    "data_set"
   ],
   "metadata": {
    "collapsed": false
   }
  },
  {
   "cell_type": "code",
   "execution_count": 137,
   "outputs": [
    {
     "data": {
      "text/plain": "array(['Finger Failure', 'Finger Failure'], dtype='<U14')"
     },
     "execution_count": 137,
     "metadata": {},
     "output_type": "execute_result"
    }
   ],
   "source": [
    "a.flatten()"
   ],
   "metadata": {
    "collapsed": false
   }
  },
  {
   "cell_type": "code",
   "execution_count": null,
   "outputs": [],
   "source": [],
   "metadata": {
    "collapsed": false
   }
  }
 ],
 "metadata": {
  "kernelspec": {
   "display_name": "Python 3",
   "language": "python",
   "name": "python3"
  },
  "language_info": {
   "codemirror_mode": {
    "name": "ipython",
    "version": 2
   },
   "file_extension": ".py",
   "mimetype": "text/x-python",
   "name": "python",
   "nbconvert_exporter": "python",
   "pygments_lexer": "ipython2",
   "version": "2.7.6"
  }
 },
 "nbformat": 4,
 "nbformat_minor": 0
}
