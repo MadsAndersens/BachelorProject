{
 "cells": [
  {
   "cell_type": "code",
   "execution_count": 8,
   "id": "2d340a51",
   "metadata": {},
   "outputs": [],
   "source": [
    "import pandas as pd\n",
    "import seaborn as sns\n",
    "import matplotlib.pyplot as plt \n",
    "from sklearn.metrics import precision_recall_curve\n",
    "from sklearn.metrics import PrecisionRecallDisplay\n",
    "from sklearn.metrics import f1_score\n",
    "import numpy as np"
   ]
  },
  {
   "cell_type": "code",
   "execution_count": 74,
   "id": "963c338a",
   "metadata": {},
   "outputs": [],
   "source": [
    "negs = pd.read_csv('/Users/madsandersen/PycharmProjects/BscProjektData/BachelorProject/Data/Probabillities/GaussianMobileNet/ValNega.csv')\n",
    "pos = pd.read_csv('/Users/madsandersen/PycharmProjects/BscProjektData/BachelorProject/Data/Probabillities/GaussianMobileNet/ValPos.csv')"
   ]
  },
  {
   "cell_type": "code",
   "execution_count": 75,
   "id": "36376de3",
   "metadata": {},
   "outputs": [
    {
     "data": {
      "text/html": [
       "<div>\n",
       "<style scoped>\n",
       "    .dataframe tbody tr th:only-of-type {\n",
       "        vertical-align: middle;\n",
       "    }\n",
       "\n",
       "    .dataframe tbody tr th {\n",
       "        vertical-align: top;\n",
       "    }\n",
       "\n",
       "    .dataframe thead th {\n",
       "        text-align: right;\n",
       "    }\n",
       "</style>\n",
       "<table border=\"1\" class=\"dataframe\">\n",
       "  <thead>\n",
       "    <tr style=\"text-align: right;\">\n",
       "      <th></th>\n",
       "      <th>Positive</th>\n",
       "    </tr>\n",
       "  </thead>\n",
       "  <tbody>\n",
       "    <tr>\n",
       "      <th>0</th>\n",
       "      <td>0.969274</td>\n",
       "    </tr>\n",
       "    <tr>\n",
       "      <th>1</th>\n",
       "      <td>0.986680</td>\n",
       "    </tr>\n",
       "    <tr>\n",
       "      <th>2</th>\n",
       "      <td>0.971650</td>\n",
       "    </tr>\n",
       "    <tr>\n",
       "      <th>3</th>\n",
       "      <td>0.969305</td>\n",
       "    </tr>\n",
       "    <tr>\n",
       "      <th>4</th>\n",
       "      <td>0.970774</td>\n",
       "    </tr>\n",
       "    <tr>\n",
       "      <th>...</th>\n",
       "      <td>...</td>\n",
       "    </tr>\n",
       "    <tr>\n",
       "      <th>97</th>\n",
       "      <td>0.978242</td>\n",
       "    </tr>\n",
       "    <tr>\n",
       "      <th>98</th>\n",
       "      <td>0.971900</td>\n",
       "    </tr>\n",
       "    <tr>\n",
       "      <th>99</th>\n",
       "      <td>0.965913</td>\n",
       "    </tr>\n",
       "    <tr>\n",
       "      <th>100</th>\n",
       "      <td>0.968390</td>\n",
       "    </tr>\n",
       "    <tr>\n",
       "      <th>101</th>\n",
       "      <td>0.970526</td>\n",
       "    </tr>\n",
       "  </tbody>\n",
       "</table>\n",
       "<p>102 rows × 1 columns</p>\n",
       "</div>"
      ],
      "text/plain": [
       "     Positive\n",
       "0    0.969274\n",
       "1    0.986680\n",
       "2    0.971650\n",
       "3    0.969305\n",
       "4    0.970774\n",
       "..        ...\n",
       "97   0.978242\n",
       "98   0.971900\n",
       "99   0.965913\n",
       "100  0.968390\n",
       "101  0.970526\n",
       "\n",
       "[102 rows x 1 columns]"
      ]
     },
     "execution_count": 75,
     "metadata": {},
     "output_type": "execute_result"
    }
   ],
   "source": [
    "pos"
   ]
  },
  {
   "cell_type": "code",
   "execution_count": 76,
   "id": "588c7609",
   "metadata": {},
   "outputs": [],
   "source": [
    "negs['Label'] = 0\n",
    "pos['Label'] = 1\n",
    "negs['Positive'] = 1-negs['Negative']"
   ]
  },
  {
   "cell_type": "code",
   "execution_count": 77,
   "id": "5946e753",
   "metadata": {},
   "outputs": [],
   "source": [
    "y = pd.concat([negs,pos])\n",
    "y = y.drop(['Negative'],axis=1)"
   ]
  },
  {
   "cell_type": "code",
   "execution_count": 78,
   "id": "86cb6ec3",
   "metadata": {},
   "outputs": [
    {
     "data": {
      "text/html": [
       "<div>\n",
       "<style scoped>\n",
       "    .dataframe tbody tr th:only-of-type {\n",
       "        vertical-align: middle;\n",
       "    }\n",
       "\n",
       "    .dataframe tbody tr th {\n",
       "        vertical-align: top;\n",
       "    }\n",
       "\n",
       "    .dataframe thead th {\n",
       "        text-align: right;\n",
       "    }\n",
       "</style>\n",
       "<table border=\"1\" class=\"dataframe\">\n",
       "  <thead>\n",
       "    <tr style=\"text-align: right;\">\n",
       "      <th></th>\n",
       "      <th>Label</th>\n",
       "      <th>Positive</th>\n",
       "    </tr>\n",
       "  </thead>\n",
       "  <tbody>\n",
       "    <tr>\n",
       "      <th>0</th>\n",
       "      <td>0</td>\n",
       "      <td>0.956530</td>\n",
       "    </tr>\n",
       "    <tr>\n",
       "      <th>1</th>\n",
       "      <td>0</td>\n",
       "      <td>0.964731</td>\n",
       "    </tr>\n",
       "    <tr>\n",
       "      <th>2</th>\n",
       "      <td>0</td>\n",
       "      <td>0.961992</td>\n",
       "    </tr>\n",
       "    <tr>\n",
       "      <th>3</th>\n",
       "      <td>0</td>\n",
       "      <td>0.957242</td>\n",
       "    </tr>\n",
       "    <tr>\n",
       "      <th>4</th>\n",
       "      <td>0</td>\n",
       "      <td>0.966575</td>\n",
       "    </tr>\n",
       "  </tbody>\n",
       "</table>\n",
       "</div>"
      ],
      "text/plain": [
       "   Label  Positive\n",
       "0      0  0.956530\n",
       "1      0  0.964731\n",
       "2      0  0.961992\n",
       "3      0  0.957242\n",
       "4      0  0.966575"
      ]
     },
     "execution_count": 78,
     "metadata": {},
     "output_type": "execute_result"
    }
   ],
   "source": [
    "y.head()"
   ]
  },
  {
   "cell_type": "markdown",
   "id": "4917ec68",
   "metadata": {},
   "source": [
    "# Plot the two distributions"
   ]
  },
  {
   "cell_type": "code",
   "execution_count": 79,
   "id": "a0ac2927",
   "metadata": {},
   "outputs": [
    {
     "data": {
      "text/plain": [
       "<Axes: xlabel='Positive', ylabel='Percent'>"
      ]
     },
     "execution_count": 79,
     "metadata": {},
     "output_type": "execute_result"
    },
    {
     "data": {
      "image/png": "[encoded data removed]",
      "text/plain": [
       "<Figure size 640x480 with 1 Axes>"
      ]
     },
     "metadata": {},
     "output_type": "display_data"
    }
   ],
   "source": [
    "sns.histplot(y,x = 'Positive',hue='Label', stat = 'percent')"
   ]
  },
  {
   "cell_type": "code",
   "execution_count": 80,
   "id": "ba84136a",
   "metadata": {
    "scrolled": true
   },
   "outputs": [
    {
     "data": {
      "text/html": [
       "<div>\n",
       "<style scoped>\n",
       "    .dataframe tbody tr th:only-of-type {\n",
       "        vertical-align: middle;\n",
       "    }\n",
       "\n",
       "    .dataframe tbody tr th {\n",
       "        vertical-align: top;\n",
       "    }\n",
       "\n",
       "    .dataframe thead th {\n",
       "        text-align: right;\n",
       "    }\n",
       "</style>\n",
       "<table border=\"1\" class=\"dataframe\">\n",
       "  <thead>\n",
       "    <tr style=\"text-align: right;\">\n",
       "      <th></th>\n",
       "      <th>Positive</th>\n",
       "    </tr>\n",
       "    <tr>\n",
       "      <th>Label</th>\n",
       "      <th></th>\n",
       "    </tr>\n",
       "  </thead>\n",
       "  <tbody>\n",
       "    <tr>\n",
       "      <th>0</th>\n",
       "      <td>0.967249</td>\n",
       "    </tr>\n",
       "    <tr>\n",
       "      <th>1</th>\n",
       "      <td>0.971719</td>\n",
       "    </tr>\n",
       "  </tbody>\n",
       "</table>\n",
       "</div>"
      ],
      "text/plain": [
       "       Positive\n",
       "Label          \n",
       "0      0.967249\n",
       "1      0.971719"
      ]
     },
     "execution_count": 80,
     "metadata": {},
     "output_type": "execute_result"
    }
   ],
   "source": [
    "y.groupby('Label').mean()"
   ]
  },
  {
   "cell_type": "markdown",
   "id": "31178806",
   "metadata": {},
   "source": [
    "# Look at the precission recall curve"
   ]
  },
  {
   "cell_type": "code",
   "execution_count": 81,
   "id": "12a8fb94",
   "metadata": {},
   "outputs": [],
   "source": [
    "precision, recall, thresholds= precision_recall_curve(y['Label'],y['Positive'])"
   ]
  },
  {
   "cell_type": "code",
   "execution_count": 82,
   "id": "717d8044",
   "metadata": {},
   "outputs": [
    {
     "data": {
      "text/plain": [
       "(0.0, 1.0)"
      ]
     },
     "execution_count": 82,
     "metadata": {},
     "output_type": "execute_result"
    },
    {
     "data": {
      "image/png": "[encoded data removed]",
      "text/plain": [
       "<Figure size 640x480 with 1 Axes>"
      ]
     },
     "metadata": {},
     "output_type": "display_data"
    }
   ],
   "source": [
    "fig2,ax2 = plt.subplots(1)\n",
    "sns.lineplot(x = recall, y = precision,ax = ax2,errorbar=None)\n",
    "ax2.set_xlabel('Recall', fontsize = 12) # x-axis label with fontsize 15\n",
    "ax2.set_ylabel('Prec.', fontsize = 12) # x-axis label with fontsize 15\n",
    "ax2.set_ylim([0, 1])"
   ]
  },
  {
   "cell_type": "code",
   "execution_count": 83,
   "id": "6c620fe2",
   "metadata": {},
   "outputs": [
    {
     "data": {
      "text/plain": [
       "<sklearn.metrics._plot.precision_recall_curve.PrecisionRecallDisplay at 0x442c11060>"
      ]
     },
     "execution_count": 83,
     "metadata": {},
     "output_type": "execute_result"
    },
    {
     "data": {
      "image/png": "[encoded data removed]",
      "text/plain": [
       "<Figure size 640x480 with 1 Axes>"
      ]
     },
     "metadata": {},
     "output_type": "display_data"
    }
   ],
   "source": [
    "PrecisionRecallDisplay.from_predictions(y['Label'],y['Positive'])"
   ]
  },
  {
   "cell_type": "code",
   "execution_count": 84,
   "id": "6fa88079",
   "metadata": {},
   "outputs": [],
   "source": [
    "def find_optimal_threshold(precisions, recalls, thresholds):\n",
    "    \"\"\"\n",
    "    Given a list of precisions, recalls, and corresponding thresholds, finds the optimal threshold\n",
    "    that maximizes the F1 score (harmonic mean of precision and recall).\n",
    "\n",
    "    Args:\n",
    "    - precisions (list): A list of precisions.\n",
    "    - recalls (list): A list of recalls.\n",
    "    - thresholds (list): A list of thresholds corresponding to the precisions and recalls.\n",
    "\n",
    "    Returns:\n",
    "    - The optimal threshold (float).\n",
    "    \"\"\"\n",
    "\n",
    "    # Calculate F1 scores for each threshold\n",
    "    f1_scores = [2 * (p * r) / (p + r) if p + r > 0 else 0 for p, r in zip(precisions, recalls)]\n",
    "\n",
    "    # Find the index of the threshold with the highest F1 score\n",
    "    max_index = f1_scores.index(max(f1_scores))\n",
    "\n",
    "    # Return the corresponding threshold\n",
    "    return thresholds[max_index],f1_scores[max_index]"
   ]
  },
  {
   "cell_type": "code",
   "execution_count": 85,
   "id": "0dda1e3c",
   "metadata": {},
   "outputs": [],
   "source": [
    "def confusion_matrix(predictions, labels, threshold):\n",
    "    \"\"\"\n",
    "    Given a list of binary predictions and labels, and a threshold value, calculates and returns the confusion matrix.\n",
    "\n",
    "    Args:\n",
    "    - predictions (list): A list of binary predictions (0 or 1).\n",
    "    - labels (list): A list of binary labels (0 or 1).\n",
    "    - threshold (float): The decision threshold for the predictions.\n",
    "\n",
    "    Returns:\n",
    "    - The confusion matrix as a dictionary with keys 'true_positive', 'false_positive', 'true_negative', 'false_negative'.\n",
    "    \"\"\"\n",
    "\n",
    "    # Initialize the counts to zero\n",
    "    true_positive = 0\n",
    "    false_positive = 0\n",
    "    true_negative = 0\n",
    "    false_negative = 0\n",
    "\n",
    "    # Iterate over each prediction and label\n",
    "    for pred, label in zip(predictions, labels):\n",
    "        if pred >= threshold:\n",
    "            if label == 1:\n",
    "                true_positive += 1\n",
    "            else:\n",
    "                false_positive += 1\n",
    "        else:\n",
    "            if label == 0:\n",
    "                true_negative += 1\n",
    "            else:\n",
    "                false_negative += 1\n",
    "\n",
    "    # Return the confusion matrix as a dictionary\n",
    "    return {\n",
    "        'true_positive': true_positive,\n",
    "        'false_positive': false_positive,\n",
    "        'true_negative': true_negative,\n",
    "        'false_negative': false_negative\n",
    "    }"
   ]
  },
  {
   "cell_type": "code",
   "execution_count": 86,
   "id": "90220e0c",
   "metadata": {},
   "outputs": [],
   "source": [
    "thres,f1 = find_optimal_threshold(precision, recall, thresholds)"
   ]
  },
  {
   "cell_type": "code",
   "execution_count": 87,
   "id": "cb517396",
   "metadata": {},
   "outputs": [
    {
     "data": {
      "text/plain": [
       "(7203, 7203, 7202)"
      ]
     },
     "execution_count": 87,
     "metadata": {},
     "output_type": "execute_result"
    }
   ],
   "source": [
    "len(precision),len(recall),len(thresholds)"
   ]
  },
  {
   "cell_type": "markdown",
   "id": "29edb0e7",
   "metadata": {},
   "source": [
    "### Run on test set"
   ]
  },
  {
   "cell_type": "code",
   "execution_count": 88,
   "id": "0a81d719",
   "metadata": {},
   "outputs": [],
   "source": [
    "negs = pd.read_csv('/Users/madsandersen/PycharmProjects/BscProjektData/BachelorProject/Data/Probabillities/GaussianMobileNet/TestNega.csv')\n",
    "pos = pd.read_csv('/Users/madsandersen/PycharmProjects/BscProjektData/BachelorProject/Data/Probabillities/GaussianMobileNet/TestPos.csv')"
   ]
  },
  {
   "cell_type": "code",
   "execution_count": 89,
   "id": "3ac37758",
   "metadata": {},
   "outputs": [
    {
     "data": {
      "text/plain": [
       "<Axes: xlabel='Positive', ylabel='Count'>"
      ]
     },
     "execution_count": 89,
     "metadata": {},
     "output_type": "execute_result"
    },
    {
     "data": {
      "image/png": "[encoded data removed]",
      "text/plain": [
       "<Figure size 640x480 with 1 Axes>"
      ]
     },
     "metadata": {},
     "output_type": "display_data"
    }
   ],
   "source": [
    "sns.histplot(y,x = 'Positive',hue='Label')"
   ]
  },
  {
   "cell_type": "code",
   "execution_count": 90,
   "id": "fb3a6b80",
   "metadata": {},
   "outputs": [
    {
     "data": {
      "text/plain": [
       "(0.9813445806503296, 0.13333333333333333)"
      ]
     },
     "execution_count": 90,
     "metadata": {},
     "output_type": "execute_result"
    }
   ],
   "source": [
    "thres,f1"
   ]
  },
  {
   "cell_type": "code",
   "execution_count": 65,
   "id": "6ba5033a",
   "metadata": {},
   "outputs": [],
   "source": [
    "negs['Label'] = 0\n",
    "pos['Label'] = 1\n",
    "negs['Positive'] = 1-negs['Negative']\n",
    "\n",
    "y = pd.concat([negs,pos])\n",
    "y = y.drop(['Negative'],axis=1)"
   ]
  },
  {
   "cell_type": "code",
   "execution_count": 100,
   "id": "0f728cf8",
   "metadata": {},
   "outputs": [
    {
     "data": {
      "text/plain": [
       "Text(0.5, 1.0, 'MobileNetV2Gaussian-Validation')"
      ]
     },
     "execution_count": 100,
     "metadata": {},
     "output_type": "execute_result"
    },
    {
     "data": {
      "image/png": "[encoded data removed]",
      "text/plain": [
       "<Figure size 640x480 with 1 Axes>"
      ]
     },
     "metadata": {},
     "output_type": "display_data"
    }
   ],
   "source": [
    "cm = confusion_matrix(y['Positive'],y['Label'],0.96b903445806503296)\n",
    "cm = np.array([[cm['true_negative'],cm['false_positive']],\n",
    "                [cm['false_negative'],cm['true_positive']]])\n",
    "\n",
    "fig1,ax1 = plt.subplots(1)\n",
    "sns.heatmap(cm,annot = True,\n",
    "            linewidth=.5,\n",
    "            fmt='g',\n",
    "            cmap = 'Blues',\n",
    "            cbar = False,\n",
    "            xticklabels= ['Negative','Positive'],\n",
    "            yticklabels= ['Negative','Positive'])\n",
    "\n",
    "ax1.set_xlabel('Predicted', fontsize = 12) # x-axis label with fontsize 15\n",
    "ax1.set_ylabel('Ground Truth', fontsize = 12) # y-axis label with fontsize 15\n",
    "ax1.set_title('MobileNetV2Gaussian-Validation', fontsize = 16)"
   ]
  },
  {
   "cell_type": "code",
   "execution_count": 92,
   "id": "439f07d9",
   "metadata": {},
   "outputs": [],
   "source": [
    "prec = cm[1,1]/(cm[1,1]+cm[0,1])\n",
    "recall = cm[1,1]/(cm[1,1]+cm[1,0])\n",
    "f1 = (2*prec*recall)/(prec+recall)"
   ]
  },
  {
   "cell_type": "code",
   "execution_count": 93,
   "id": "cdd62f50",
   "metadata": {},
   "outputs": [
    {
     "name": "stdout",
     "output_type": "stream",
     "text": [
      "Threshold:0.9813445806503296\n",
      "Precission:0.11594202898550725\n",
      "Recall:0.1568627450980392\n",
      "F1:0.13333333333333333\n"
     ]
    }
   ],
   "source": [
    "s = f'Threshold:{thres}\\nPrecission:{prec}\\nRecall:{recall}\\nF1:{f1}'\n",
    "print(s)"
   ]
  },
  {
   "cell_type": "code",
   "execution_count": null,
   "id": "7ffaeb16",
   "metadata": {},
   "outputs": [],
   "source": []
  },
  {
   "cell_type": "code",
   "execution_count": null,
   "id": "60b141b2",
   "metadata": {},
   "outputs": [],
   "source": []
  }
 ],
 "metadata": {
  "kernelspec": {
   "display_name": "Python 3 (ipykernel)",
   "language": "python",
   "name": "python3"
  },
  "language_info": {
   "codemirror_mode": {
    "name": "ipython",
    "version": 3
   },
   "file_extension": ".py",
   "mimetype": "text/x-python",
   "name": "python",
   "nbconvert_exporter": "python",
   "pygments_lexer": "ipython3",
   "version": "3.10.9"
  }
 },
 "nbformat": 4,
 "nbformat_minor": 5
}
