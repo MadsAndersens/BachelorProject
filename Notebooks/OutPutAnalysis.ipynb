{
 "cells": [
  {
   "cell_type": "code",
   "execution_count": 2,
   "id": "2d340a51",
   "metadata": {},
   "outputs": [],
   "source": [
    "import pandas as pd\n",
    "import seaborn as sns\n",
    "import matplotlib.pyplot as plt \n",
    "from sklearn.metrics import precision_recall_curve\n",
    "from sklearn.metrics import PrecisionRecallDisplay\n",
    "from sklearn.metrics import f1_score\n",
    "import numpy as np"
   ]
  },
  {
   "cell_type": "code",
   "execution_count": 38,
   "id": "963c338a",
   "metadata": {},
   "outputs": [],
   "source": [
    "negs = pd.read_csv('/Users/madsandersen/PycharmProjects/BscProjektData/BachelorProject/Data/Probabillities/3888FintuneSGD/TestNeg.csv')\n",
    "pos = pd.read_csv('/Users/madsandersen/PycharmProjects/BscProjektData/BachelorProject/Data/Probabillities/3888FintuneSGD/TestPos.csv')"
   ]
  },
  {
   "cell_type": "code",
   "execution_count": 4,
   "id": "36376de3",
   "metadata": {},
   "outputs": [
    {
     "data": {
      "text/html": [
       "<div>\n",
       "<style scoped>\n",
       "    .dataframe tbody tr th:only-of-type {\n",
       "        vertical-align: middle;\n",
       "    }\n",
       "\n",
       "    .dataframe tbody tr th {\n",
       "        vertical-align: top;\n",
       "    }\n",
       "\n",
       "    .dataframe thead th {\n",
       "        text-align: right;\n",
       "    }\n",
       "</style>\n",
       "<table border=\"1\" class=\"dataframe\">\n",
       "  <thead>\n",
       "    <tr style=\"text-align: right;\">\n",
       "      <th></th>\n",
       "      <th>Positive</th>\n",
       "    </tr>\n",
       "  </thead>\n",
       "  <tbody>\n",
       "    <tr>\n",
       "      <th>0</th>\n",
       "      <td>0.985451</td>\n",
       "    </tr>\n",
       "    <tr>\n",
       "      <th>1</th>\n",
       "      <td>0.999963</td>\n",
       "    </tr>\n",
       "    <tr>\n",
       "      <th>2</th>\n",
       "      <td>0.695997</td>\n",
       "    </tr>\n",
       "    <tr>\n",
       "      <th>3</th>\n",
       "      <td>0.974707</td>\n",
       "    </tr>\n",
       "    <tr>\n",
       "      <th>4</th>\n",
       "      <td>0.674686</td>\n",
       "    </tr>\n",
       "    <tr>\n",
       "      <th>...</th>\n",
       "      <td>...</td>\n",
       "    </tr>\n",
       "    <tr>\n",
       "      <th>195</th>\n",
       "      <td>0.653860</td>\n",
       "    </tr>\n",
       "    <tr>\n",
       "      <th>196</th>\n",
       "      <td>0.557514</td>\n",
       "    </tr>\n",
       "    <tr>\n",
       "      <th>197</th>\n",
       "      <td>0.995350</td>\n",
       "    </tr>\n",
       "    <tr>\n",
       "      <th>198</th>\n",
       "      <td>0.911810</td>\n",
       "    </tr>\n",
       "    <tr>\n",
       "      <th>199</th>\n",
       "      <td>0.999027</td>\n",
       "    </tr>\n",
       "  </tbody>\n",
       "</table>\n",
       "<p>200 rows × 1 columns</p>\n",
       "</div>"
      ],
      "text/plain": [
       "     Positive\n",
       "0    0.985451\n",
       "1    0.999963\n",
       "2    0.695997\n",
       "3    0.974707\n",
       "4    0.674686\n",
       "..        ...\n",
       "195  0.653860\n",
       "196  0.557514\n",
       "197  0.995350\n",
       "198  0.911810\n",
       "199  0.999027\n",
       "\n",
       "[200 rows x 1 columns]"
      ]
     },
     "execution_count": 4,
     "metadata": {},
     "output_type": "execute_result"
    }
   ],
   "source": [
    "pos"
   ]
  },
  {
   "cell_type": "code",
   "execution_count": 39,
   "id": "588c7609",
   "metadata": {},
   "outputs": [],
   "source": [
    "negs['Label'] = 0\n",
    "pos['Label'] = 1\n",
    "negs['Positive'] = negs['Negative']"
   ]
  },
  {
   "cell_type": "code",
   "execution_count": 40,
   "id": "5946e753",
   "metadata": {},
   "outputs": [],
   "source": [
    "y = pd.concat([negs,pos])\n",
    "y = y.drop(['Negative'],axis=1)"
   ]
  },
  {
   "cell_type": "code",
   "execution_count": 41,
   "id": "86cb6ec3",
   "metadata": {},
   "outputs": [
    {
     "data": {
      "text/html": [
       "<div>\n",
       "<style scoped>\n",
       "    .dataframe tbody tr th:only-of-type {\n",
       "        vertical-align: middle;\n",
       "    }\n",
       "\n",
       "    .dataframe tbody tr th {\n",
       "        vertical-align: top;\n",
       "    }\n",
       "\n",
       "    .dataframe thead th {\n",
       "        text-align: right;\n",
       "    }\n",
       "</style>\n",
       "<table border=\"1\" class=\"dataframe\">\n",
       "  <thead>\n",
       "    <tr style=\"text-align: right;\">\n",
       "      <th></th>\n",
       "      <th>Label</th>\n",
       "      <th>Positive</th>\n",
       "    </tr>\n",
       "  </thead>\n",
       "  <tbody>\n",
       "    <tr>\n",
       "      <th>0</th>\n",
       "      <td>0</td>\n",
       "      <td>0.872249</td>\n",
       "    </tr>\n",
       "    <tr>\n",
       "      <th>1</th>\n",
       "      <td>0</td>\n",
       "      <td>0.938196</td>\n",
       "    </tr>\n",
       "    <tr>\n",
       "      <th>2</th>\n",
       "      <td>0</td>\n",
       "      <td>0.464101</td>\n",
       "    </tr>\n",
       "    <tr>\n",
       "      <th>3</th>\n",
       "      <td>0</td>\n",
       "      <td>0.896717</td>\n",
       "    </tr>\n",
       "    <tr>\n",
       "      <th>4</th>\n",
       "      <td>0</td>\n",
       "      <td>0.928892</td>\n",
       "    </tr>\n",
       "  </tbody>\n",
       "</table>\n",
       "</div>"
      ],
      "text/plain": [
       "   Label  Positive\n",
       "0      0  0.872249\n",
       "1      0  0.938196\n",
       "2      0  0.464101\n",
       "3      0  0.896717\n",
       "4      0  0.928892"
      ]
     },
     "execution_count": 41,
     "metadata": {},
     "output_type": "execute_result"
    }
   ],
   "source": [
    "y.head()"
   ]
  },
  {
   "cell_type": "code",
   "execution_count": 42,
   "id": "677e2fac",
   "metadata": {},
   "outputs": [
    {
     "data": {
      "text/html": [
       "<div>\n",
       "<style scoped>\n",
       "    .dataframe tbody tr th:only-of-type {\n",
       "        vertical-align: middle;\n",
       "    }\n",
       "\n",
       "    .dataframe tbody tr th {\n",
       "        vertical-align: top;\n",
       "    }\n",
       "\n",
       "    .dataframe thead th {\n",
       "        text-align: right;\n",
       "    }\n",
       "</style>\n",
       "<table border=\"1\" class=\"dataframe\">\n",
       "  <thead>\n",
       "    <tr style=\"text-align: right;\">\n",
       "      <th></th>\n",
       "      <th>Positive</th>\n",
       "    </tr>\n",
       "    <tr>\n",
       "      <th>Label</th>\n",
       "      <th></th>\n",
       "    </tr>\n",
       "  </thead>\n",
       "  <tbody>\n",
       "    <tr>\n",
       "      <th>0</th>\n",
       "      <td>0.657616</td>\n",
       "    </tr>\n",
       "    <tr>\n",
       "      <th>1</th>\n",
       "      <td>0.857059</td>\n",
       "    </tr>\n",
       "  </tbody>\n",
       "</table>\n",
       "</div>"
      ],
      "text/plain": [
       "       Positive\n",
       "Label          \n",
       "0      0.657616\n",
       "1      0.857059"
      ]
     },
     "execution_count": 42,
     "metadata": {},
     "output_type": "execute_result"
    }
   ],
   "source": [
    "y.groupby('Label').mean()"
   ]
  },
  {
   "cell_type": "markdown",
   "id": "4917ec68",
   "metadata": {},
   "source": [
    "# Plot the two distributions"
   ]
  },
  {
   "cell_type": "code",
   "execution_count": 43,
   "id": "a0ac2927",
   "metadata": {},
   "outputs": [
    {
     "data": {
      "text/plain": [
       "<Axes: xlabel='Positive', ylabel='Percent'>"
      ]
     },
     "execution_count": 43,
     "metadata": {},
     "output_type": "execute_result"
    },
    {
     "data": {
      "image/png": "[encoded data removed]",
      "text/plain": [
       "<Figure size 640x480 with 1 Axes>"
      ]
     },
     "metadata": {},
     "output_type": "display_data"
    }
   ],
   "source": [
    "fig,ax = plt.subplots(1,1)\n",
    "sns.histplot(y,x = 'Positive',hue='Label', stat = 'percent',ax = ax)\n",
    "#ax.set_yscale('log')\n",
    "#ax.set_xscale('log')"
   ]
  },
  {
   "cell_type": "code",
   "execution_count": 10,
   "id": "106f2c6b",
   "metadata": {},
   "outputs": [
    {
     "data": {
      "text/plain": [
       "<Axes: xlabel='Positive', ylabel='Percent'>"
      ]
     },
     "execution_count": 10,
     "metadata": {},
     "output_type": "execute_result"
    },
    {
     "data": {
      "image/png": "[encoded data removed]",
      "text/plain": [
       "<Figure size 640x480 with 1 Axes>"
      ]
     },
     "metadata": {},
     "output_type": "display_data"
    }
   ],
   "source": [
    "sns.histplot(data = y[y['Label']!= 0],x = 'Positive', stat = 'percent')"
   ]
  },
  {
   "cell_type": "code",
   "execution_count": 11,
   "id": "ba84136a",
   "metadata": {
    "scrolled": true
   },
   "outputs": [
    {
     "data": {
      "text/html": [
       "<div>\n",
       "<style scoped>\n",
       "    .dataframe tbody tr th:only-of-type {\n",
       "        vertical-align: middle;\n",
       "    }\n",
       "\n",
       "    .dataframe tbody tr th {\n",
       "        vertical-align: top;\n",
       "    }\n",
       "\n",
       "    .dataframe thead th {\n",
       "        text-align: right;\n",
       "    }\n",
       "</style>\n",
       "<table border=\"1\" class=\"dataframe\">\n",
       "  <thead>\n",
       "    <tr style=\"text-align: right;\">\n",
       "      <th></th>\n",
       "      <th>Positive</th>\n",
       "    </tr>\n",
       "    <tr>\n",
       "      <th>Label</th>\n",
       "      <th></th>\n",
       "    </tr>\n",
       "  </thead>\n",
       "  <tbody>\n",
       "    <tr>\n",
       "      <th>0</th>\n",
       "      <td>0.657616</td>\n",
       "    </tr>\n",
       "    <tr>\n",
       "      <th>1</th>\n",
       "      <td>0.857059</td>\n",
       "    </tr>\n",
       "  </tbody>\n",
       "</table>\n",
       "</div>"
      ],
      "text/plain": [
       "       Positive\n",
       "Label          \n",
       "0      0.657616\n",
       "1      0.857059"
      ]
     },
     "execution_count": 11,
     "metadata": {},
     "output_type": "execute_result"
    }
   ],
   "source": [
    "y.groupby('Label').mean()"
   ]
  },
  {
   "cell_type": "markdown",
   "id": "31178806",
   "metadata": {},
   "source": [
    "# Look at the precission recall curve"
   ]
  },
  {
   "cell_type": "code",
   "execution_count": 12,
   "id": "12a8fb94",
   "metadata": {},
   "outputs": [],
   "source": [
    "precision, recall, thresholds= precision_recall_curve(y['Label'],y['Positive'])"
   ]
  },
  {
   "cell_type": "code",
   "execution_count": 13,
   "id": "717d8044",
   "metadata": {},
   "outputs": [
    {
     "data": {
      "text/plain": [
       "(0.0, 1.0)"
      ]
     },
     "execution_count": 13,
     "metadata": {},
     "output_type": "execute_result"
    },
    {
     "data": {
      "image/png": "[encoded data removed]",
      "text/plain": [
       "<Figure size 640x480 with 1 Axes>"
      ]
     },
     "metadata": {},
     "output_type": "display_data"
    }
   ],
   "source": [
    "fig2,ax2 = plt.subplots(1)\n",
    "sns.lineplot(x = recall, y = precision,ax = ax2,errorbar=None)\n",
    "ax2.set_xlabel('Recall', fontsize = 12) # x-axis label with fontsize 15\n",
    "ax2.set_ylabel('Prec.', fontsize = 12) # x-axis label with fontsize 15\n",
    "ax2.set_ylim([0, 1])"
   ]
  },
  {
   "cell_type": "code",
   "execution_count": 14,
   "id": "6c620fe2",
   "metadata": {},
   "outputs": [
    {
     "data": {
      "text/plain": [
       "<sklearn.metrics._plot.precision_recall_curve.PrecisionRecallDisplay at 0x13158c490>"
      ]
     },
     "execution_count": 14,
     "metadata": {},
     "output_type": "execute_result"
    },
    {
     "data": {
      "image/png": "[encoded data removed]",
      "text/plain": [
       "<Figure size 640x480 with 1 Axes>"
      ]
     },
     "metadata": {},
     "output_type": "display_data"
    }
   ],
   "source": [
    "PrecisionRecallDisplay.from_predictions(y['Label'],y['Positive'])"
   ]
  },
  {
   "cell_type": "code",
   "execution_count": 18,
   "id": "6fa88079",
   "metadata": {},
   "outputs": [],
   "source": [
    "def find_optimal_threshold(precisions, recalls, thresholds):\n",
    "    \"\"\"\n",
    "    Given a list of precisions, recalls, and corresponding thresholds, finds the optimal threshold\n",
    "    that maximizes the F1 score (harmonic mean of precision and recall).\n",
    "\n",
    "    Args:\n",
    "    - precisions (list): A list of precisions.\n",
    "    - recalls (list): A list of recalls.\n",
    "    - thresholds (list): A list of thresholds corresponding to the precisions and recalls.\n",
    "\n",
    "    Returns:\n",
    "    - The optimal threshold (float).\n",
    "    \"\"\"\n",
    "\n",
    "    # Calculate F1 scores for each threshold\n",
    "    f1_scores = [2 * (p * r) / (p + r) if p + r > 0 else 0 for p, r in zip(precisions, recalls)]\n",
    "\n",
    "    # Find the index of the threshold with the highest F1 score\n",
    "    max_index = f1_scores.index(max(f1_scores))\n",
    "\n",
    "    # Return the corresponding threshold\n",
    "    return thresholds[max_index],f1_scores[max_index]"
   ]
  },
  {
   "cell_type": "code",
   "execution_count": 19,
   "id": "0dda1e3c",
   "metadata": {},
   "outputs": [],
   "source": [
    "def confusion_matrix(predictions, labels, threshold):\n",
    "    \"\"\"\n",
    "    Given a list of binary predictions and labels, and a threshold value, calculates and returns the confusion matrix.\n",
    "\n",
    "    Args:\n",
    "    - predictions (list): A list of binary predictions (0 or 1).\n",
    "    - labels (list): A list of binary labels (0 or 1).\n",
    "    - threshold (float): The decision threshold for the predictions.\n",
    "\n",
    "    Returns:\n",
    "    - The confusion matrix as a dictionary with keys 'true_positive', 'false_positive', 'true_negative', 'false_negative'.\n",
    "    \"\"\"\n",
    "\n",
    "    # Initialize the counts to zero\n",
    "    true_positive = 0\n",
    "    false_positive = 0\n",
    "    true_negative = 0\n",
    "    false_negative = 0\n",
    "\n",
    "    # Iterate over each prediction and label\n",
    "    for pred, label in zip(predictions, labels):\n",
    "        if pred >= threshold:\n",
    "            if label == 1:\n",
    "                true_positive += 1\n",
    "            else:\n",
    "                false_positive += 1\n",
    "        else:\n",
    "            if label == 0:\n",
    "                true_negative += 1\n",
    "            else:\n",
    "                false_negative += 1\n",
    "\n",
    "    # Return the confusion matrix as a dictionary\n",
    "    return {\n",
    "        'true_positive': true_positive,\n",
    "        'false_positive': false_positive,\n",
    "        'true_negative': true_negative,\n",
    "        'false_negative': false_negative\n",
    "    }"
   ]
  },
  {
   "cell_type": "code",
   "execution_count": 20,
   "id": "90220e0c",
   "metadata": {},
   "outputs": [],
   "source": [
    "thres,f1 = find_optimal_threshold(precision, recall, thresholds)"
   ]
  },
  {
   "cell_type": "code",
   "execution_count": 101,
   "id": "cb517396",
   "metadata": {},
   "outputs": [
    {
     "data": {
      "text/plain": [
       "(7204, 7204, 7203)"
      ]
     },
     "execution_count": 101,
     "metadata": {},
     "output_type": "execute_result"
    }
   ],
   "source": [
    "len(precision),len(recall),len(thresholds)"
   ]
  },
  {
   "cell_type": "markdown",
   "id": "29edb0e7",
   "metadata": {},
   "source": [
    "### Run on test set"
   ]
  },
  {
   "cell_type": "code",
   "execution_count": 88,
   "id": "0a81d719",
   "metadata": {},
   "outputs": [],
   "source": [
    "negs = pd.read_csv('/Users/madsandersen/PycharmProjects/BscProjektData/BachelorProject/Data/Probabillities/GaussianMobileNet/TestNega.csv')\n",
    "pos = pd.read_csv('/Users/madsandersen/PycharmProjects/BscProjektData/BachelorProject/Data/Probabillities/GaussianMobileNet/TestPos.csv')"
   ]
  },
  {
   "cell_type": "code",
   "execution_count": 44,
   "id": "3ac37758",
   "metadata": {},
   "outputs": [
    {
     "data": {
      "text/plain": [
       "<Axes: xlabel='Positive', ylabel='Count'>"
      ]
     },
     "execution_count": 44,
     "metadata": {},
     "output_type": "execute_result"
    },
    {
     "data": {
      "image/png": "[encoded data removed]",
      "text/plain": [
       "<Figure size 640x480 with 1 Axes>"
      ]
     },
     "metadata": {},
     "output_type": "display_data"
    }
   ],
   "source": [
    "sns.histplot(y,x = 'Positive',hue='Label')"
   ]
  },
  {
   "cell_type": "code",
   "execution_count": 21,
   "id": "fb3a6b80",
   "metadata": {},
   "outputs": [
    {
     "data": {
      "text/plain": [
       "(0.9666607975959778, 0.3407407407407407)"
      ]
     },
     "execution_count": 21,
     "metadata": {},
     "output_type": "execute_result"
    }
   ],
   "source": [
    "thres,f1"
   ]
  },
  {
   "cell_type": "code",
   "execution_count": 22,
   "id": "6ba5033a",
   "metadata": {},
   "outputs": [],
   "source": [
    "negs['Label'] = 0\n",
    "pos['Label'] = 1\n",
    "negs['Positive'] = 1-negs['Negative']\n",
    "\n",
    "y = pd.concat([negs,pos])\n",
    "y = y.drop(['Negative'],axis=1)"
   ]
  },
  {
   "cell_type": "code",
   "execution_count": 44,
   "id": "0f728cf8",
   "metadata": {},
   "outputs": [
    {
     "data": {
      "text/plain": [
       "Text(0.5, 1.0, 'Config. C')"
      ]
     },
     "execution_count": 44,
     "metadata": {},
     "output_type": "execute_result"
    },
    {
     "data": {
      "image/png": "[encoded data removed]",
      "text/plain": [
       "<Figure size 640x480 with 1 Axes>"
      ]
     },
     "metadata": {},
     "output_type": "display_data"
    }
   ],
   "source": [
    "cm = confusion_matrix(y['Positive'],y['Label'],0.96)\n",
    "cm = np.array([[cm['true_negative'],cm['false_positive']],\n",
    "                [cm['false_negative'],cm['true_positive']]])\n",
    "\n",
    "fig1,ax1 = plt.subplots(1)\n",
    "sns.heatmap(cm,annot = True,\n",
    "            linewidth=.5,\n",
    "            fmt='g',\n",
    "            cmap = 'Blues',\n",
    "            cbar = False,\n",
    "            xticklabels= ['Negative','Positive'],\n",
    "            yticklabels= ['Negative','Positive'])\n",
    "\n",
    "ax1.set_xlabel('Predicted', fontsize = 12) # x-axis label with fontsize 15\n",
    "ax1.set_ylabel('Ground Truth', fontsize = 12) # y-axis label with fontsize 15\n",
    "ax1.set_title('Config. C', fontsize = 16)"
   ]
  },
  {
   "cell_type": "code",
   "execution_count": 45,
   "id": "439f07d9",
   "metadata": {},
   "outputs": [],
   "source": [
    "prec = cm[1,1]/(cm[1,1]+cm[0,1])\n",
    "recall = cm[1,1]/(cm[1,1]+cm[1,0])\n",
    "f1 = (2*prec*recall)/(prec+recall)"
   ]
  },
  {
   "cell_type": "code",
   "execution_count": 46,
   "id": "cdd62f50",
   "metadata": {},
   "outputs": [
    {
     "name": "stdout",
     "output_type": "stream",
     "text": [
      "Threshold:0.9666607975959778\n",
      "Precission:0.28063241106719367\n",
      "Recall:0.355\n",
      "F1:0.31346578366445915\n"
     ]
    }
   ],
   "source": [
    "s = f'Threshold:{thres}\\nPrecission:{prec}\\nRecall:{recall}\\nF1:{f1}'\n",
    "print(s)"
   ]
  },
  {
   "cell_type": "code",
   "execution_count": 49,
   "id": "0e7e36f4",
   "metadata": {},
   "outputs": [],
   "source": [
    "cm = np.array([[6351,659],\n",
    "               [40,160]])\n",
    "prec = cm[1,1]/(cm[1,1]+cm[0,1])\n",
    "recall = cm[1,1]/(cm[1,1]+cm[1,0])\n",
    "f1 = (2*prec*recall)/(prec+recall)"
   ]
  },
  {
   "cell_type": "code",
   "execution_count": 50,
   "id": "6c4ac308",
   "metadata": {},
   "outputs": [
    {
     "name": "stdout",
     "output_type": "stream",
     "text": [
      "Precission:0.19536019536019536\n",
      "Recall:0.8\n",
      "F1:0.3140333660451423\n"
     ]
    }
   ],
   "source": [
    "s = f'Precission:{prec}\\nRecall:{recall}\\nF1:{f1}'\n",
    "print(s)"
   ]
  },
  {
   "cell_type": "code",
   "execution_count": null,
   "id": "2e621d53",
   "metadata": {},
   "outputs": [],
   "source": []
  }
 ],
 "metadata": {
  "kernelspec": {
   "display_name": "Python 3 (ipykernel)",
   "language": "python",
   "name": "python3"
  },
  "language_info": {
   "codemirror_mode": {
    "name": "ipython",
    "version": 3
   },
   "file_extension": ".py",
   "mimetype": "text/x-python",
   "name": "python",
   "nbconvert_exporter": "python",
   "pygments_lexer": "ipython3",
   "version": "3.10.9"
  }
 },
 "nbformat": 4,
 "nbformat_minor": 5
}
