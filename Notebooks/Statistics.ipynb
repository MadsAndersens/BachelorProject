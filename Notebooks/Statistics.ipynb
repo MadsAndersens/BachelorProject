{
 "cells": [
  {
   "cell_type": "code",
   "execution_count": 1,
   "metadata": {},
   "outputs": [],
   "source": [
    "import numpy as np\n",
    "import pandas as pd\n",
    "import matplotlib.pyplot as plt\n",
    "import seaborn as sns\n",
    "import scipy.stats as stats\n",
    "from scipy.io import loadmat"
   ]
  },
  {
   "cell_type": "code",
   "execution_count": 2,
   "metadata": {},
   "outputs": [],
   "source": [
    "Data_corr = pd.read_csv('/Users/madsandersen/PycharmProjects/BscProjektData/BachelorProject/Data/VitusData/EL_data_filtered.csv')\n",
    "Data_no_corr = pd.read_csv('/Users/madsandersen/PycharmProjects/BscProjektData/BachelorProject/Data/VitusData/EL_data_all.csv')"
   ]
  },
  {
   "cell_type": "code",
   "execution_count": 3,
   "metadata": {},
   "outputs": [
    {
     "data": {
      "text/html": [
       "<div>\n",
       "<style scoped>\n",
       "    .dataframe tbody tr th:only-of-type {\n",
       "        vertical-align: middle;\n",
       "    }\n",
       "\n",
       "    .dataframe tbody tr th {\n",
       "        vertical-align: top;\n",
       "    }\n",
       "\n",
       "    .dataframe thead th {\n",
       "        text-align: right;\n",
       "    }\n",
       "</style>\n",
       "<table border=\"1\" class=\"dataframe\">\n",
       "  <thead>\n",
       "    <tr style=\"text-align: right;\">\n",
       "      <th></th>\n",
       "      <th>name</th>\n",
       "      <th>series</th>\n",
       "      <th>panel_id</th>\n",
       "      <th>row</th>\n",
       "      <th>col</th>\n",
       "      <th>width</th>\n",
       "      <th>height</th>\n",
       "      <th>GS_mean</th>\n",
       "    </tr>\n",
       "  </thead>\n",
       "  <tbody>\n",
       "    <tr>\n",
       "      <th>0</th>\n",
       "      <td>Serie_1_ImageCorr_-10_4081_Cell_Row10_Col_1</td>\n",
       "      <td>1</td>\n",
       "      <td>10_4081</td>\n",
       "      <td>10</td>\n",
       "      <td>1</td>\n",
       "      <td>323</td>\n",
       "      <td>323</td>\n",
       "      <td>0.494703</td>\n",
       "    </tr>\n",
       "    <tr>\n",
       "      <th>1</th>\n",
       "      <td>Serie_1_ImageCorr_-10_4081_Cell_Row10_Col_2</td>\n",
       "      <td>1</td>\n",
       "      <td>10_4081</td>\n",
       "      <td>10</td>\n",
       "      <td>2</td>\n",
       "      <td>324</td>\n",
       "      <td>323</td>\n",
       "      <td>0.426713</td>\n",
       "    </tr>\n",
       "    <tr>\n",
       "      <th>2</th>\n",
       "      <td>Serie_1_ImageCorr_-10_4081_Cell_Row10_Col_3</td>\n",
       "      <td>1</td>\n",
       "      <td>10_4081</td>\n",
       "      <td>10</td>\n",
       "      <td>3</td>\n",
       "      <td>325</td>\n",
       "      <td>323</td>\n",
       "      <td>0.535716</td>\n",
       "    </tr>\n",
       "    <tr>\n",
       "      <th>3</th>\n",
       "      <td>Serie_1_ImageCorr_-10_4081_Cell_Row10_Col_4</td>\n",
       "      <td>1</td>\n",
       "      <td>10_4081</td>\n",
       "      <td>10</td>\n",
       "      <td>4</td>\n",
       "      <td>324</td>\n",
       "      <td>323</td>\n",
       "      <td>0.476981</td>\n",
       "    </tr>\n",
       "    <tr>\n",
       "      <th>4</th>\n",
       "      <td>Serie_1_ImageCorr_-10_4081_Cell_Row10_Col_5</td>\n",
       "      <td>1</td>\n",
       "      <td>10_4081</td>\n",
       "      <td>10</td>\n",
       "      <td>5</td>\n",
       "      <td>323</td>\n",
       "      <td>323</td>\n",
       "      <td>0.468487</td>\n",
       "    </tr>\n",
       "  </tbody>\n",
       "</table>\n",
       "</div>"
      ],
      "text/plain": [
       "                                          name  series panel_id  row  col  \\\n",
       "0  Serie_1_ImageCorr_-10_4081_Cell_Row10_Col_1       1  10_4081   10    1   \n",
       "1  Serie_1_ImageCorr_-10_4081_Cell_Row10_Col_2       1  10_4081   10    2   \n",
       "2  Serie_1_ImageCorr_-10_4081_Cell_Row10_Col_3       1  10_4081   10    3   \n",
       "3  Serie_1_ImageCorr_-10_4081_Cell_Row10_Col_4       1  10_4081   10    4   \n",
       "4  Serie_1_ImageCorr_-10_4081_Cell_Row10_Col_5       1  10_4081   10    5   \n",
       "\n",
       "   width  height   GS_mean  \n",
       "0    323     323  0.494703  \n",
       "1    324     323  0.426713  \n",
       "2    325     323  0.535716  \n",
       "3    324     323  0.476981  \n",
       "4    323     323  0.468487  "
      ]
     },
     "execution_count": 3,
     "metadata": {},
     "output_type": "execute_result"
    }
   ],
   "source": [
    "Data_corr.head()"
   ]
  },
  {
   "cell_type": "code",
   "execution_count": 4,
   "metadata": {},
   "outputs": [
    {
     "data": {
      "text/html": [
       "<div>\n",
       "<style scoped>\n",
       "    .dataframe tbody tr th:only-of-type {\n",
       "        vertical-align: middle;\n",
       "    }\n",
       "\n",
       "    .dataframe tbody tr th {\n",
       "        vertical-align: top;\n",
       "    }\n",
       "\n",
       "    .dataframe thead th {\n",
       "        text-align: right;\n",
       "    }\n",
       "</style>\n",
       "<table border=\"1\" class=\"dataframe\">\n",
       "  <thead>\n",
       "    <tr style=\"text-align: right;\">\n",
       "      <th></th>\n",
       "      <th>name</th>\n",
       "      <th>series</th>\n",
       "      <th>panel_id</th>\n",
       "      <th>row</th>\n",
       "      <th>col</th>\n",
       "      <th>width</th>\n",
       "      <th>height</th>\n",
       "      <th>GS_mean</th>\n",
       "    </tr>\n",
       "  </thead>\n",
       "  <tbody>\n",
       "    <tr>\n",
       "      <th>0</th>\n",
       "      <td>Serie_1_ImageCorr_-10_4081_Cell_Row10_Col_1</td>\n",
       "      <td>1</td>\n",
       "      <td>10_4081</td>\n",
       "      <td>10</td>\n",
       "      <td>1</td>\n",
       "      <td>323</td>\n",
       "      <td>323</td>\n",
       "      <td>0.494703</td>\n",
       "    </tr>\n",
       "    <tr>\n",
       "      <th>1</th>\n",
       "      <td>Serie_1_ImageCorr_-10_4081_Cell_Row10_Col_2</td>\n",
       "      <td>1</td>\n",
       "      <td>10_4081</td>\n",
       "      <td>10</td>\n",
       "      <td>2</td>\n",
       "      <td>324</td>\n",
       "      <td>323</td>\n",
       "      <td>0.426713</td>\n",
       "    </tr>\n",
       "    <tr>\n",
       "      <th>2</th>\n",
       "      <td>Serie_1_ImageCorr_-10_4081_Cell_Row10_Col_3</td>\n",
       "      <td>1</td>\n",
       "      <td>10_4081</td>\n",
       "      <td>10</td>\n",
       "      <td>3</td>\n",
       "      <td>325</td>\n",
       "      <td>323</td>\n",
       "      <td>0.535716</td>\n",
       "    </tr>\n",
       "    <tr>\n",
       "      <th>3</th>\n",
       "      <td>Serie_1_ImageCorr_-10_4081_Cell_Row10_Col_4</td>\n",
       "      <td>1</td>\n",
       "      <td>10_4081</td>\n",
       "      <td>10</td>\n",
       "      <td>4</td>\n",
       "      <td>324</td>\n",
       "      <td>323</td>\n",
       "      <td>0.476981</td>\n",
       "    </tr>\n",
       "    <tr>\n",
       "      <th>4</th>\n",
       "      <td>Serie_1_ImageCorr_-10_4081_Cell_Row10_Col_5</td>\n",
       "      <td>1</td>\n",
       "      <td>10_4081</td>\n",
       "      <td>10</td>\n",
       "      <td>5</td>\n",
       "      <td>323</td>\n",
       "      <td>323</td>\n",
       "      <td>0.468487</td>\n",
       "    </tr>\n",
       "  </tbody>\n",
       "</table>\n",
       "</div>"
      ],
      "text/plain": [
       "                                          name  series panel_id  row  col  \\\n",
       "0  Serie_1_ImageCorr_-10_4081_Cell_Row10_Col_1       1  10_4081   10    1   \n",
       "1  Serie_1_ImageCorr_-10_4081_Cell_Row10_Col_2       1  10_4081   10    2   \n",
       "2  Serie_1_ImageCorr_-10_4081_Cell_Row10_Col_3       1  10_4081   10    3   \n",
       "3  Serie_1_ImageCorr_-10_4081_Cell_Row10_Col_4       1  10_4081   10    4   \n",
       "4  Serie_1_ImageCorr_-10_4081_Cell_Row10_Col_5       1  10_4081   10    5   \n",
       "\n",
       "   width  height   GS_mean  \n",
       "0    323     323  0.494703  \n",
       "1    324     323  0.426713  \n",
       "2    325     323  0.535716  \n",
       "3    324     323  0.476981  \n",
       "4    323     323  0.468487  "
      ]
     },
     "execution_count": 4,
     "metadata": {},
     "output_type": "execute_result"
    }
   ],
   "source": [
    "Data_no_corr.head()"
   ]
  },
  {
   "cell_type": "code",
   "execution_count": 5,
   "metadata": {},
   "outputs": [
    {
     "data": {
      "text/plain": [
       "(36061, 36564)"
      ]
     },
     "execution_count": 5,
     "metadata": {},
     "output_type": "execute_result"
    }
   ],
   "source": [
    "len(Data_corr),len(Data_no_corr)"
   ]
  },
  {
   "cell_type": "markdown",
   "metadata": {},
   "source": [
    "# Check the before and after count of labels"
   ]
  },
  {
   "cell_type": "code",
   "execution_count": 6,
   "metadata": {
    "scrolled": true
   },
   "outputs": [
    {
     "ename": "KeyError",
     "evalue": "'Label'",
     "output_type": "error",
     "traceback": [
      "\u001b[0;31m---------------------------------------------------------------------------\u001b[0m",
      "\u001b[0;31mKeyError\u001b[0m                                  Traceback (most recent call last)",
      "Cell \u001b[0;32mIn[6], line 1\u001b[0m\n\u001b[0;32m----> 1\u001b[0m \u001b[43mData_corr\u001b[49m\u001b[38;5;241;43m.\u001b[39;49m\u001b[43mgroupby\u001b[49m\u001b[43m(\u001b[49m\u001b[38;5;124;43m'\u001b[39;49m\u001b[38;5;124;43mLabel\u001b[39;49m\u001b[38;5;124;43m'\u001b[39;49m\u001b[43m)\u001b[49m\u001b[38;5;241m.\u001b[39mcount()\u001b[38;5;241m.\u001b[39msum()\n",
      "File \u001b[0;32m/Library/Frameworks/Python.framework/Versions/3.10/lib/python3.10/site-packages/pandas/core/frame.py:8402\u001b[0m, in \u001b[0;36mDataFrame.groupby\u001b[0;34m(self, by, axis, level, as_index, sort, group_keys, squeeze, observed, dropna)\u001b[0m\n\u001b[1;32m   8399\u001b[0m     \u001b[38;5;28;01mraise\u001b[39;00m \u001b[38;5;167;01mTypeError\u001b[39;00m(\u001b[38;5;124m\"\u001b[39m\u001b[38;5;124mYou have to supply one of \u001b[39m\u001b[38;5;124m'\u001b[39m\u001b[38;5;124mby\u001b[39m\u001b[38;5;124m'\u001b[39m\u001b[38;5;124m and \u001b[39m\u001b[38;5;124m'\u001b[39m\u001b[38;5;124mlevel\u001b[39m\u001b[38;5;124m'\u001b[39m\u001b[38;5;124m\"\u001b[39m)\n\u001b[1;32m   8400\u001b[0m axis \u001b[38;5;241m=\u001b[39m \u001b[38;5;28mself\u001b[39m\u001b[38;5;241m.\u001b[39m_get_axis_number(axis)\n\u001b[0;32m-> 8402\u001b[0m \u001b[38;5;28;01mreturn\u001b[39;00m \u001b[43mDataFrameGroupBy\u001b[49m\u001b[43m(\u001b[49m\n\u001b[1;32m   8403\u001b[0m \u001b[43m    \u001b[49m\u001b[43mobj\u001b[49m\u001b[38;5;241;43m=\u001b[39;49m\u001b[38;5;28;43mself\u001b[39;49m\u001b[43m,\u001b[49m\n\u001b[1;32m   8404\u001b[0m \u001b[43m    \u001b[49m\u001b[43mkeys\u001b[49m\u001b[38;5;241;43m=\u001b[39;49m\u001b[43mby\u001b[49m\u001b[43m,\u001b[49m\n\u001b[1;32m   8405\u001b[0m \u001b[43m    \u001b[49m\u001b[43maxis\u001b[49m\u001b[38;5;241;43m=\u001b[39;49m\u001b[43maxis\u001b[49m\u001b[43m,\u001b[49m\n\u001b[1;32m   8406\u001b[0m \u001b[43m    \u001b[49m\u001b[43mlevel\u001b[49m\u001b[38;5;241;43m=\u001b[39;49m\u001b[43mlevel\u001b[49m\u001b[43m,\u001b[49m\n\u001b[1;32m   8407\u001b[0m \u001b[43m    \u001b[49m\u001b[43mas_index\u001b[49m\u001b[38;5;241;43m=\u001b[39;49m\u001b[43mas_index\u001b[49m\u001b[43m,\u001b[49m\n\u001b[1;32m   8408\u001b[0m \u001b[43m    \u001b[49m\u001b[43msort\u001b[49m\u001b[38;5;241;43m=\u001b[39;49m\u001b[43msort\u001b[49m\u001b[43m,\u001b[49m\n\u001b[1;32m   8409\u001b[0m \u001b[43m    \u001b[49m\u001b[43mgroup_keys\u001b[49m\u001b[38;5;241;43m=\u001b[39;49m\u001b[43mgroup_keys\u001b[49m\u001b[43m,\u001b[49m\n\u001b[1;32m   8410\u001b[0m \u001b[43m    \u001b[49m\u001b[43msqueeze\u001b[49m\u001b[38;5;241;43m=\u001b[39;49m\u001b[43msqueeze\u001b[49m\u001b[43m,\u001b[49m\n\u001b[1;32m   8411\u001b[0m \u001b[43m    \u001b[49m\u001b[43mobserved\u001b[49m\u001b[38;5;241;43m=\u001b[39;49m\u001b[43mobserved\u001b[49m\u001b[43m,\u001b[49m\n\u001b[1;32m   8412\u001b[0m \u001b[43m    \u001b[49m\u001b[43mdropna\u001b[49m\u001b[38;5;241;43m=\u001b[39;49m\u001b[43mdropna\u001b[49m\u001b[43m,\u001b[49m\n\u001b[1;32m   8413\u001b[0m \u001b[43m\u001b[49m\u001b[43m)\u001b[49m\n",
      "File \u001b[0;32m/Library/Frameworks/Python.framework/Versions/3.10/lib/python3.10/site-packages/pandas/core/groupby/groupby.py:965\u001b[0m, in \u001b[0;36mGroupBy.__init__\u001b[0;34m(self, obj, keys, axis, level, grouper, exclusions, selection, as_index, sort, group_keys, squeeze, observed, mutated, dropna)\u001b[0m\n\u001b[1;32m    962\u001b[0m \u001b[38;5;28;01mif\u001b[39;00m grouper \u001b[38;5;129;01mis\u001b[39;00m \u001b[38;5;28;01mNone\u001b[39;00m:\n\u001b[1;32m    963\u001b[0m     \u001b[38;5;28;01mfrom\u001b[39;00m \u001b[38;5;21;01mpandas\u001b[39;00m\u001b[38;5;21;01m.\u001b[39;00m\u001b[38;5;21;01mcore\u001b[39;00m\u001b[38;5;21;01m.\u001b[39;00m\u001b[38;5;21;01mgroupby\u001b[39;00m\u001b[38;5;21;01m.\u001b[39;00m\u001b[38;5;21;01mgrouper\u001b[39;00m \u001b[38;5;28;01mimport\u001b[39;00m get_grouper\n\u001b[0;32m--> 965\u001b[0m     grouper, exclusions, obj \u001b[38;5;241m=\u001b[39m \u001b[43mget_grouper\u001b[49m\u001b[43m(\u001b[49m\n\u001b[1;32m    966\u001b[0m \u001b[43m        \u001b[49m\u001b[43mobj\u001b[49m\u001b[43m,\u001b[49m\n\u001b[1;32m    967\u001b[0m \u001b[43m        \u001b[49m\u001b[43mkeys\u001b[49m\u001b[43m,\u001b[49m\n\u001b[1;32m    968\u001b[0m \u001b[43m        \u001b[49m\u001b[43maxis\u001b[49m\u001b[38;5;241;43m=\u001b[39;49m\u001b[43maxis\u001b[49m\u001b[43m,\u001b[49m\n\u001b[1;32m    969\u001b[0m \u001b[43m        \u001b[49m\u001b[43mlevel\u001b[49m\u001b[38;5;241;43m=\u001b[39;49m\u001b[43mlevel\u001b[49m\u001b[43m,\u001b[49m\n\u001b[1;32m    970\u001b[0m \u001b[43m        \u001b[49m\u001b[43msort\u001b[49m\u001b[38;5;241;43m=\u001b[39;49m\u001b[43msort\u001b[49m\u001b[43m,\u001b[49m\n\u001b[1;32m    971\u001b[0m \u001b[43m        \u001b[49m\u001b[43mobserved\u001b[49m\u001b[38;5;241;43m=\u001b[39;49m\u001b[43mobserved\u001b[49m\u001b[43m,\u001b[49m\n\u001b[1;32m    972\u001b[0m \u001b[43m        \u001b[49m\u001b[43mmutated\u001b[49m\u001b[38;5;241;43m=\u001b[39;49m\u001b[38;5;28;43mself\u001b[39;49m\u001b[38;5;241;43m.\u001b[39;49m\u001b[43mmutated\u001b[49m\u001b[43m,\u001b[49m\n\u001b[1;32m    973\u001b[0m \u001b[43m        \u001b[49m\u001b[43mdropna\u001b[49m\u001b[38;5;241;43m=\u001b[39;49m\u001b[38;5;28;43mself\u001b[39;49m\u001b[38;5;241;43m.\u001b[39;49m\u001b[43mdropna\u001b[49m\u001b[43m,\u001b[49m\n\u001b[1;32m    974\u001b[0m \u001b[43m    \u001b[49m\u001b[43m)\u001b[49m\n\u001b[1;32m    976\u001b[0m \u001b[38;5;28mself\u001b[39m\u001b[38;5;241m.\u001b[39mobj \u001b[38;5;241m=\u001b[39m obj\n\u001b[1;32m    977\u001b[0m \u001b[38;5;28mself\u001b[39m\u001b[38;5;241m.\u001b[39maxis \u001b[38;5;241m=\u001b[39m obj\u001b[38;5;241m.\u001b[39m_get_axis_number(axis)\n",
      "File \u001b[0;32m/Library/Frameworks/Python.framework/Versions/3.10/lib/python3.10/site-packages/pandas/core/groupby/grouper.py:888\u001b[0m, in \u001b[0;36mget_grouper\u001b[0;34m(obj, key, axis, level, sort, observed, mutated, validate, dropna)\u001b[0m\n\u001b[1;32m    886\u001b[0m         in_axis, level, gpr \u001b[38;5;241m=\u001b[39m \u001b[38;5;28;01mFalse\u001b[39;00m, gpr, \u001b[38;5;28;01mNone\u001b[39;00m\n\u001b[1;32m    887\u001b[0m     \u001b[38;5;28;01melse\u001b[39;00m:\n\u001b[0;32m--> 888\u001b[0m         \u001b[38;5;28;01mraise\u001b[39;00m \u001b[38;5;167;01mKeyError\u001b[39;00m(gpr)\n\u001b[1;32m    889\u001b[0m \u001b[38;5;28;01melif\u001b[39;00m \u001b[38;5;28misinstance\u001b[39m(gpr, Grouper) \u001b[38;5;129;01mand\u001b[39;00m gpr\u001b[38;5;241m.\u001b[39mkey \u001b[38;5;129;01mis\u001b[39;00m \u001b[38;5;129;01mnot\u001b[39;00m \u001b[38;5;28;01mNone\u001b[39;00m:\n\u001b[1;32m    890\u001b[0m     \u001b[38;5;66;03m# Add key to exclusions\u001b[39;00m\n\u001b[1;32m    891\u001b[0m     exclusions\u001b[38;5;241m.\u001b[39madd(gpr\u001b[38;5;241m.\u001b[39mkey)\n",
      "\u001b[0;31mKeyError\u001b[0m: 'Label'"
     ]
    }
   ],
   "source": [
    "Data_corr.groupby('Label').count().sum()"
   ]
  },
  {
   "cell_type": "code",
   "execution_count": null,
   "metadata": {},
   "outputs": [],
   "source": [
    "Data_no_corr.groupby('Label').count().sum()"
   ]
  },
  {
   "cell_type": "code",
   "execution_count": 7,
   "metadata": {},
   "outputs": [],
   "source": [
    "dat_no_corr_count = Data_no_corr.groupby('Label').count().loc[['Crack A','Crack B','Crack C','Finger Failure']]\n",
    "dat_no_corr_count.reset_index(inplace=True)\n",
    "\n",
    "dat_corr_count = Data_corr.groupby('Label').count().loc[['CrackA','CrackB','CrackC','FingerFailure']]\n",
    "dat_corr_count.reset_index(inplace=True)\n",
    "\n",
    "# merge them and create a new variable indicating the dataset\n",
    "dat_corr_count['Dataset'] = 'Before'\n",
    "dat_no_corr_count['Dataset'] = 'After'\n",
    "\n",
    "#Rename the labels of Data_corr such that CrackA = Crack A\n",
    "dat_corr_count['Label'] = dat_corr_count['Label'].str.replace('CrackA', 'Crack A')\n",
    "dat_corr_count['Label'] = dat_corr_count['Label'].str.replace('CrackB', 'Crack B')\n",
    "dat_corr_count['Label'] = dat_corr_count['Label'].str.replace('CrackC', 'Crack C')\n",
    "dat_corr_count['Label'] = dat_corr_count['Label'].str.replace('FingerFailure', 'Finger Failure')\n",
    "\n",
    "#merge the two datasets\n",
    "dat_count = pd.concat([dat_corr_count, dat_no_corr_count], axis=0)"
   ]
  },
  {
   "cell_type": "code",
   "execution_count": 8,
   "metadata": {},
   "outputs": [
    {
     "data": {
      "text/html": [
       "<div>\n",
       "<style scoped>\n",
       "    .dataframe tbody tr th:only-of-type {\n",
       "        vertical-align: middle;\n",
       "    }\n",
       "\n",
       "    .dataframe tbody tr th {\n",
       "        vertical-align: top;\n",
       "    }\n",
       "\n",
       "    .dataframe thead th {\n",
       "        text-align: right;\n",
       "    }\n",
       "</style>\n",
       "<table border=\"1\" class=\"dataframe\">\n",
       "  <thead>\n",
       "    <tr style=\"text-align: right;\">\n",
       "      <th></th>\n",
       "      <th>Label</th>\n",
       "      <th>Unnamed: 0</th>\n",
       "      <th>ImageDir</th>\n",
       "      <th>MaskDir</th>\n",
       "      <th>Dataset</th>\n",
       "    </tr>\n",
       "  </thead>\n",
       "  <tbody>\n",
       "    <tr>\n",
       "      <th>0</th>\n",
       "      <td>Crack A</td>\n",
       "      <td>89.0</td>\n",
       "      <td>89</td>\n",
       "      <td>89</td>\n",
       "      <td>Before</td>\n",
       "    </tr>\n",
       "    <tr>\n",
       "      <th>1</th>\n",
       "      <td>Crack B</td>\n",
       "      <td>120.0</td>\n",
       "      <td>120</td>\n",
       "      <td>120</td>\n",
       "      <td>Before</td>\n",
       "    </tr>\n",
       "    <tr>\n",
       "      <th>2</th>\n",
       "      <td>Crack C</td>\n",
       "      <td>79.0</td>\n",
       "      <td>79</td>\n",
       "      <td>79</td>\n",
       "      <td>Before</td>\n",
       "    </tr>\n",
       "    <tr>\n",
       "      <th>3</th>\n",
       "      <td>Finger Failure</td>\n",
       "      <td>312.0</td>\n",
       "      <td>312</td>\n",
       "      <td>312</td>\n",
       "      <td>Before</td>\n",
       "    </tr>\n",
       "    <tr>\n",
       "      <th>0</th>\n",
       "      <td>Crack A</td>\n",
       "      <td>NaN</td>\n",
       "      <td>335</td>\n",
       "      <td>335</td>\n",
       "      <td>After</td>\n",
       "    </tr>\n",
       "    <tr>\n",
       "      <th>1</th>\n",
       "      <td>Crack B</td>\n",
       "      <td>NaN</td>\n",
       "      <td>470</td>\n",
       "      <td>470</td>\n",
       "      <td>After</td>\n",
       "    </tr>\n",
       "    <tr>\n",
       "      <th>2</th>\n",
       "      <td>Crack C</td>\n",
       "      <td>NaN</td>\n",
       "      <td>247</td>\n",
       "      <td>247</td>\n",
       "      <td>After</td>\n",
       "    </tr>\n",
       "    <tr>\n",
       "      <th>3</th>\n",
       "      <td>Finger Failure</td>\n",
       "      <td>NaN</td>\n",
       "      <td>1000</td>\n",
       "      <td>1000</td>\n",
       "      <td>After</td>\n",
       "    </tr>\n",
       "  </tbody>\n",
       "</table>\n",
       "</div>"
      ],
      "text/plain": [
       "            Label  Unnamed: 0  ImageDir  MaskDir Dataset\n",
       "0         Crack A        89.0        89       89  Before\n",
       "1         Crack B       120.0       120      120  Before\n",
       "2         Crack C        79.0        79       79  Before\n",
       "3  Finger Failure       312.0       312      312  Before\n",
       "0         Crack A         NaN       335      335   After\n",
       "1         Crack B         NaN       470      470   After\n",
       "2         Crack C         NaN       247      247   After\n",
       "3  Finger Failure         NaN      1000     1000   After"
      ]
     },
     "execution_count": 8,
     "metadata": {},
     "output_type": "execute_result"
    }
   ],
   "source": [
    "dat_count"
   ]
  },
  {
   "cell_type": "code",
   "execution_count": 54,
   "metadata": {},
   "outputs": [
    {
     "data": {
      "text/plain": [
       "<seaborn.axisgrid.FacetGrid at 0x2827edba0>"
      ]
     },
     "execution_count": 54,
     "metadata": {},
     "output_type": "execute_result"
    },
    {
     "data": {
      "image/png": "[encoded data removed]",
      "text/plain": [
       "<Figure size 691.125x600 with 1 Axes>"
      ]
     },
     "metadata": {},
     "output_type": "display_data"
    }
   ],
   "source": [
    "# Plot histogram of the data before and after with overlay\n",
    "g = sns.catplot(\n",
    "    data=dat_count,\n",
    "    kind=\"bar\",\n",
    "    x=\"Label\",\n",
    "    y=\"ImageDir\",\n",
    "    hue=\"Dataset\",\n",
    "    errorbar=\"sd\",\n",
    "    palette=\"dark\",\n",
    "    alpha=.6,\n",
    "    height=6\n",
    ")\n",
    "\n",
    "g.despine(left=True)\n",
    "g.set_axis_labels(\"\", \"Count in Dataset\")\n",
    "#g.legend.set_title(\"Before and after correction\")"
   ]
  },
  {
   "cell_type": "markdown",
   "metadata": {},
   "source": [
    "# Stats for report "
   ]
  },
  {
   "cell_type": "code",
   "execution_count": 7,
   "metadata": {},
   "outputs": [],
   "source": [
    "train = pd.read_csv('/Users/madsandersen/PycharmProjects/BscProjektData/BachelorProject/Data/VitusData/Train.csv')\n",
    "val = pd.read_csv('/Users/madsandersen/PycharmProjects/BscProjektData/BachelorProject/Data/VitusData/Val.csv')\n",
    "test = pd.read_csv('/Users/madsandersen/PycharmProjects/BscProjektData/BachelorProject/Data/VitusData/Test.csv')"
   ]
  },
  {
   "cell_type": "code",
   "execution_count": 8,
   "metadata": {},
   "outputs": [
    {
     "data": {
      "text/plain": [
       "36052"
      ]
     },
     "execution_count": 8,
     "metadata": {},
     "output_type": "execute_result"
    }
   ],
   "source": [
    "len(train)+len(val)+len(test)"
   ]
  },
  {
   "cell_type": "code",
   "execution_count": 9,
   "metadata": {},
   "outputs": [],
   "source": [
    "data = pd.concat([train,val,test])"
   ]
  },
  {
   "cell_type": "code",
   "execution_count": 10,
   "metadata": {},
   "outputs": [],
   "source": [
    "import ast\n",
    "converters = {'Label': lambda x: ast.literal_eval(x)}"
   ]
  },
  {
   "cell_type": "code",
   "execution_count": 12,
   "metadata": {},
   "outputs": [
    {
     "data": {
      "text/plain": [
       "(36052, 36061)"
      ]
     },
     "execution_count": 12,
     "metadata": {},
     "output_type": "execute_result"
    }
   ],
   "source": [
    "len(data),len(Data_corr)"
   ]
  },
  {
   "cell_type": "code",
   "execution_count": 13,
   "metadata": {},
   "outputs": [],
   "source": [
    "Data = pd.read_csv('/Users/madsandersen/PycharmProjects/BscProjektData/BachelorProject/Data/VitusData/DataSetVitusStats.csv', converters=converters)"
   ]
  },
  {
   "cell_type": "code",
   "execution_count": 14,
   "metadata": {},
   "outputs": [
    {
     "data": {
      "text/plain": [
       "1000"
      ]
     },
     "execution_count": 14,
     "metadata": {},
     "output_type": "execute_result"
    }
   ],
   "source": [
    "Data.is_fault.sum()"
   ]
  },
  {
   "cell_type": "code",
   "execution_count": 15,
   "metadata": {},
   "outputs": [
    {
     "data": {
      "text/html": [
       "<div>\n",
       "<style scoped>\n",
       "    .dataframe tbody tr th:only-of-type {\n",
       "        vertical-align: middle;\n",
       "    }\n",
       "\n",
       "    .dataframe tbody tr th {\n",
       "        vertical-align: top;\n",
       "    }\n",
       "\n",
       "    .dataframe thead th {\n",
       "        text-align: right;\n",
       "    }\n",
       "</style>\n",
       "<table border=\"1\" class=\"dataframe\">\n",
       "  <thead>\n",
       "    <tr style=\"text-align: right;\">\n",
       "      <th></th>\n",
       "      <th>ImageDir</th>\n",
       "      <th>MaskDir</th>\n",
       "      <th>is_fault</th>\n",
       "    </tr>\n",
       "    <tr>\n",
       "      <th>Label</th>\n",
       "      <th></th>\n",
       "      <th></th>\n",
       "      <th></th>\n",
       "    </tr>\n",
       "  </thead>\n",
       "  <tbody>\n",
       "    <tr>\n",
       "      <th>CrackA</th>\n",
       "      <td>248</td>\n",
       "      <td>248</td>\n",
       "      <td>248</td>\n",
       "    </tr>\n",
       "    <tr>\n",
       "      <th>CrackB</th>\n",
       "      <td>341</td>\n",
       "      <td>341</td>\n",
       "      <td>341</td>\n",
       "    </tr>\n",
       "    <tr>\n",
       "      <th>CrackC</th>\n",
       "      <td>161</td>\n",
       "      <td>161</td>\n",
       "      <td>161</td>\n",
       "    </tr>\n",
       "    <tr>\n",
       "      <th>FingerFailure</th>\n",
       "      <td>708</td>\n",
       "      <td>708</td>\n",
       "      <td>708</td>\n",
       "    </tr>\n",
       "    <tr>\n",
       "      <th>Negative</th>\n",
       "      <td>35052</td>\n",
       "      <td>0</td>\n",
       "      <td>35052</td>\n",
       "    </tr>\n",
       "  </tbody>\n",
       "</table>\n",
       "</div>"
      ],
      "text/plain": [
       "               ImageDir  MaskDir  is_fault\n",
       "Label                                     \n",
       "CrackA              248      248       248\n",
       "CrackB              341      341       341\n",
       "CrackC              161      161       161\n",
       "FingerFailure       708      708       708\n",
       "Negative          35052        0     35052"
      ]
     },
     "execution_count": 15,
     "metadata": {},
     "output_type": "execute_result"
    }
   ],
   "source": [
    "Data.explode('Label').groupby('Label').count()"
   ]
  },
  {
   "cell_type": "code",
   "execution_count": 16,
   "metadata": {},
   "outputs": [
    {
     "data": {
      "text/plain": [
       "36510"
      ]
     },
     "execution_count": 16,
     "metadata": {},
     "output_type": "execute_result"
    }
   ],
   "source": [
    "Data.explode('Label').groupby('Label').count()['is_fault'].sum()"
   ]
  },
  {
   "cell_type": "code",
   "execution_count": 17,
   "metadata": {},
   "outputs": [
    {
     "data": {
      "text/plain": [
       "35052"
      ]
     },
     "execution_count": 17,
     "metadata": {},
     "output_type": "execute_result"
    }
   ],
   "source": [
    "len(Data[Data['is_fault'] == 0])"
   ]
  },
  {
   "cell_type": "code",
   "execution_count": 18,
   "metadata": {},
   "outputs": [
    {
     "data": {
      "text/plain": [
       "0        False\n",
       "1        False\n",
       "2        False\n",
       "3        False\n",
       "4        False\n",
       "         ...  \n",
       "36047    False\n",
       "36048    False\n",
       "36049    False\n",
       "36050    False\n",
       "36051    False\n",
       "Name: is_fault, Length: 36052, dtype: bool"
      ]
     },
     "execution_count": 18,
     "metadata": {},
     "output_type": "execute_result"
    }
   ],
   "source": [
    "Data['is_fault'] == 1"
   ]
  },
  {
   "cell_type": "code",
   "execution_count": 19,
   "metadata": {},
   "outputs": [],
   "source": [
    "train = pd.read_csv('/Users/madsandersen/PycharmProjects/BscProjektData/BachelorProject/Data/VitusData/TrainVitusStat.csv', converters=converters)\n",
    "val = pd.read_csv('/Users/madsandersen/PycharmProjects/BscProjektData/BachelorProject/Data/VitusData/ValVitusStat.csv', converters=converters)\n",
    "test = pd.read_csv('/Users/madsandersen/PycharmProjects/BscProjektData/BachelorProject/Data/VitusData/TestVitusStat.csv', converters=converters)"
   ]
  },
  {
   "cell_type": "code",
   "execution_count": 20,
   "metadata": {},
   "outputs": [
    {
     "data": {
      "text/html": [
       "<div>\n",
       "<style scoped>\n",
       "    .dataframe tbody tr th:only-of-type {\n",
       "        vertical-align: middle;\n",
       "    }\n",
       "\n",
       "    .dataframe tbody tr th {\n",
       "        vertical-align: top;\n",
       "    }\n",
       "\n",
       "    .dataframe thead th {\n",
       "        text-align: right;\n",
       "    }\n",
       "</style>\n",
       "<table border=\"1\" class=\"dataframe\">\n",
       "  <thead>\n",
       "    <tr style=\"text-align: right;\">\n",
       "      <th></th>\n",
       "      <th>Unnamed: 0</th>\n",
       "      <th>ImageDir</th>\n",
       "      <th>MaskDir</th>\n",
       "      <th>is_fault</th>\n",
       "      <th>main_lab</th>\n",
       "    </tr>\n",
       "    <tr>\n",
       "      <th>Label</th>\n",
       "      <th></th>\n",
       "      <th></th>\n",
       "      <th></th>\n",
       "      <th></th>\n",
       "      <th></th>\n",
       "    </tr>\n",
       "  </thead>\n",
       "  <tbody>\n",
       "    <tr>\n",
       "      <th>CrackA</th>\n",
       "      <td>148</td>\n",
       "      <td>148</td>\n",
       "      <td>148</td>\n",
       "      <td>148</td>\n",
       "      <td>148</td>\n",
       "    </tr>\n",
       "    <tr>\n",
       "      <th>CrackB</th>\n",
       "      <td>217</td>\n",
       "      <td>217</td>\n",
       "      <td>217</td>\n",
       "      <td>217</td>\n",
       "      <td>217</td>\n",
       "    </tr>\n",
       "    <tr>\n",
       "      <th>CrackC</th>\n",
       "      <td>99</td>\n",
       "      <td>99</td>\n",
       "      <td>99</td>\n",
       "      <td>99</td>\n",
       "      <td>99</td>\n",
       "    </tr>\n",
       "    <tr>\n",
       "      <th>FingerFailure</th>\n",
       "      <td>415</td>\n",
       "      <td>415</td>\n",
       "      <td>415</td>\n",
       "      <td>415</td>\n",
       "      <td>415</td>\n",
       "    </tr>\n",
       "    <tr>\n",
       "      <th>Negative</th>\n",
       "      <td>21031</td>\n",
       "      <td>21031</td>\n",
       "      <td>0</td>\n",
       "      <td>21031</td>\n",
       "      <td>21031</td>\n",
       "    </tr>\n",
       "  </tbody>\n",
       "</table>\n",
       "</div>"
      ],
      "text/plain": [
       "               Unnamed: 0  ImageDir  MaskDir  is_fault  main_lab\n",
       "Label                                                           \n",
       "CrackA                148       148      148       148       148\n",
       "CrackB                217       217      217       217       217\n",
       "CrackC                 99        99       99        99        99\n",
       "FingerFailure         415       415      415       415       415\n",
       "Negative            21031     21031        0     21031     21031"
      ]
     },
     "execution_count": 20,
     "metadata": {},
     "output_type": "execute_result"
    }
   ],
   "source": [
    "train.explode('Label').groupby('Label').count()"
   ]
  },
  {
   "cell_type": "code",
   "execution_count": 23,
   "metadata": {},
   "outputs": [
    {
     "data": {
      "text/plain": [
       "600"
      ]
     },
     "execution_count": 23,
     "metadata": {},
     "output_type": "execute_result"
    }
   ],
   "source": [
    "train.is_fault.sum()"
   ]
  },
  {
   "cell_type": "code",
   "execution_count": 17,
   "metadata": {},
   "outputs": [
    {
     "data": {
      "text/html": [
       "<div>\n",
       "<style scoped>\n",
       "    .dataframe tbody tr th:only-of-type {\n",
       "        vertical-align: middle;\n",
       "    }\n",
       "\n",
       "    .dataframe tbody tr th {\n",
       "        vertical-align: top;\n",
       "    }\n",
       "\n",
       "    .dataframe thead th {\n",
       "        text-align: right;\n",
       "    }\n",
       "</style>\n",
       "<table border=\"1\" class=\"dataframe\">\n",
       "  <thead>\n",
       "    <tr style=\"text-align: right;\">\n",
       "      <th></th>\n",
       "      <th>Unnamed: 0</th>\n",
       "      <th>ImageDir</th>\n",
       "      <th>MaskDir</th>\n",
       "      <th>is_fault</th>\n",
       "      <th>main_lab</th>\n",
       "    </tr>\n",
       "    <tr>\n",
       "      <th>Label</th>\n",
       "      <th></th>\n",
       "      <th></th>\n",
       "      <th></th>\n",
       "      <th></th>\n",
       "      <th></th>\n",
       "    </tr>\n",
       "  </thead>\n",
       "  <tbody>\n",
       "    <tr>\n",
       "      <th>CrackA</th>\n",
       "      <td>55</td>\n",
       "      <td>55</td>\n",
       "      <td>55</td>\n",
       "      <td>55</td>\n",
       "      <td>55</td>\n",
       "    </tr>\n",
       "    <tr>\n",
       "      <th>CrackB</th>\n",
       "      <td>67</td>\n",
       "      <td>67</td>\n",
       "      <td>67</td>\n",
       "      <td>67</td>\n",
       "      <td>67</td>\n",
       "    </tr>\n",
       "    <tr>\n",
       "      <th>CrackC</th>\n",
       "      <td>30</td>\n",
       "      <td>30</td>\n",
       "      <td>30</td>\n",
       "      <td>30</td>\n",
       "      <td>30</td>\n",
       "    </tr>\n",
       "    <tr>\n",
       "      <th>FingerFailure</th>\n",
       "      <td>124</td>\n",
       "      <td>124</td>\n",
       "      <td>124</td>\n",
       "      <td>124</td>\n",
       "      <td>124</td>\n",
       "    </tr>\n",
       "    <tr>\n",
       "      <th>Negative</th>\n",
       "      <td>7011</td>\n",
       "      <td>7011</td>\n",
       "      <td>0</td>\n",
       "      <td>7011</td>\n",
       "      <td>7011</td>\n",
       "    </tr>\n",
       "  </tbody>\n",
       "</table>\n",
       "</div>"
      ],
      "text/plain": [
       "               Unnamed: 0  ImageDir  MaskDir  is_fault  main_lab\n",
       "Label                                                           \n",
       "CrackA                 55        55       55        55        55\n",
       "CrackB                 67        67       67        67        67\n",
       "CrackC                 30        30       30        30        30\n",
       "FingerFailure         124       124      124       124       124\n",
       "Negative             7011      7011        0      7011      7011"
      ]
     },
     "execution_count": 17,
     "metadata": {},
     "output_type": "execute_result"
    }
   ],
   "source": [
    "val.explode('Label').groupby('Label').count()"
   ]
  },
  {
   "cell_type": "code",
   "execution_count": 24,
   "metadata": {},
   "outputs": [
    {
     "data": {
      "text/plain": [
       "200"
      ]
     },
     "execution_count": 24,
     "metadata": {},
     "output_type": "execute_result"
    }
   ],
   "source": [
    "val.is_fault.sum()"
   ]
  },
  {
   "cell_type": "code",
   "execution_count": 18,
   "metadata": {},
   "outputs": [
    {
     "data": {
      "text/html": [
       "<div>\n",
       "<style scoped>\n",
       "    .dataframe tbody tr th:only-of-type {\n",
       "        vertical-align: middle;\n",
       "    }\n",
       "\n",
       "    .dataframe tbody tr th {\n",
       "        vertical-align: top;\n",
       "    }\n",
       "\n",
       "    .dataframe thead th {\n",
       "        text-align: right;\n",
       "    }\n",
       "</style>\n",
       "<table border=\"1\" class=\"dataframe\">\n",
       "  <thead>\n",
       "    <tr style=\"text-align: right;\">\n",
       "      <th></th>\n",
       "      <th>Unnamed: 0</th>\n",
       "      <th>ImageDir</th>\n",
       "      <th>MaskDir</th>\n",
       "      <th>is_fault</th>\n",
       "      <th>main_lab</th>\n",
       "    </tr>\n",
       "    <tr>\n",
       "      <th>Label</th>\n",
       "      <th></th>\n",
       "      <th></th>\n",
       "      <th></th>\n",
       "      <th></th>\n",
       "      <th></th>\n",
       "    </tr>\n",
       "  </thead>\n",
       "  <tbody>\n",
       "    <tr>\n",
       "      <th>CrackA</th>\n",
       "      <td>45</td>\n",
       "      <td>45</td>\n",
       "      <td>45</td>\n",
       "      <td>45</td>\n",
       "      <td>45</td>\n",
       "    </tr>\n",
       "    <tr>\n",
       "      <th>CrackB</th>\n",
       "      <td>57</td>\n",
       "      <td>57</td>\n",
       "      <td>57</td>\n",
       "      <td>57</td>\n",
       "      <td>57</td>\n",
       "    </tr>\n",
       "    <tr>\n",
       "      <th>CrackC</th>\n",
       "      <td>32</td>\n",
       "      <td>32</td>\n",
       "      <td>32</td>\n",
       "      <td>32</td>\n",
       "      <td>32</td>\n",
       "    </tr>\n",
       "    <tr>\n",
       "      <th>FingerFailure</th>\n",
       "      <td>169</td>\n",
       "      <td>169</td>\n",
       "      <td>169</td>\n",
       "      <td>169</td>\n",
       "      <td>169</td>\n",
       "    </tr>\n",
       "    <tr>\n",
       "      <th>Negative</th>\n",
       "      <td>7010</td>\n",
       "      <td>7010</td>\n",
       "      <td>0</td>\n",
       "      <td>7010</td>\n",
       "      <td>7010</td>\n",
       "    </tr>\n",
       "  </tbody>\n",
       "</table>\n",
       "</div>"
      ],
      "text/plain": [
       "               Unnamed: 0  ImageDir  MaskDir  is_fault  main_lab\n",
       "Label                                                           \n",
       "CrackA                 45        45       45        45        45\n",
       "CrackB                 57        57       57        57        57\n",
       "CrackC                 32        32       32        32        32\n",
       "FingerFailure         169       169      169       169       169\n",
       "Negative             7010      7010        0      7010      7010"
      ]
     },
     "execution_count": 18,
     "metadata": {},
     "output_type": "execute_result"
    }
   ],
   "source": [
    "test.explode('Label').groupby('Label').count()"
   ]
  },
  {
   "cell_type": "code",
   "execution_count": 25,
   "metadata": {},
   "outputs": [
    {
     "data": {
      "text/plain": [
       "200"
      ]
     },
     "execution_count": 25,
     "metadata": {},
     "output_type": "execute_result"
    }
   ],
   "source": [
    "test.is_fault.sum()"
   ]
  },
  {
   "cell_type": "code",
   "execution_count": null,
   "metadata": {},
   "outputs": [],
   "source": []
  },
  {
   "cell_type": "markdown",
   "metadata": {},
   "source": [
    "## Before sorting"
   ]
  },
  {
   "cell_type": "code",
   "execution_count": 37,
   "metadata": {},
   "outputs": [],
   "source": [
    "all_panels = pd.read_csv('/Users/madsandersen/PycharmProjects/BscProjektData/BachelorProject/Data/VitusData/EL_data_all.csv')"
   ]
  },
  {
   "cell_type": "code",
   "execution_count": 35,
   "metadata": {},
   "outputs": [
    {
     "data": {
      "text/plain": [
       "36564"
      ]
     },
     "execution_count": 35,
     "metadata": {},
     "output_type": "execute_result"
    }
   ],
   "source": [
    "len(all_panels)"
   ]
  },
  {
   "cell_type": "code",
   "execution_count": null,
   "metadata": {},
   "outputs": [],
   "source": []
  },
  {
   "cell_type": "code",
   "execution_count": 37,
   "metadata": {},
   "outputs": [
    {
     "data": {
      "text/plain": [
       "(585,)"
      ]
     },
     "execution_count": 37,
     "metadata": {},
     "output_type": "execute_result"
    }
   ],
   "source": [
    "all_panels['panel_id'].unique().shape"
   ]
  },
  {
   "cell_type": "code",
   "execution_count": 43,
   "metadata": {},
   "outputs": [
    {
     "name": "stdout",
     "output_type": "stream",
     "text": [
      "Max image width: 424\n",
      "Min Image width: 252\n"
     ]
    }
   ],
   "source": [
    "s = f'Max image width: {all_panels.width.max()}\\nMin Image width: {all_panels.width.min()}'\n",
    "print(s)"
   ]
  },
  {
   "cell_type": "code",
   "execution_count": 45,
   "metadata": {},
   "outputs": [
    {
     "name": "stdout",
     "output_type": "stream",
     "text": [
      "Max image width: 427\n",
      "Min Image width: 6\n"
     ]
    }
   ],
   "source": [
    "s = f'Max image width: {all_panels.height.max()}\\nMin Image width: {all_panels.height.min()}'\n",
    "print(s)"
   ]
  },
  {
   "cell_type": "code",
   "execution_count": null,
   "metadata": {},
   "outputs": [],
   "source": []
  },
  {
   "cell_type": "code",
   "execution_count": 44,
   "metadata": {},
   "outputs": [
    {
     "data": {
      "text/html": [
       "<div>\n",
       "<style scoped>\n",
       "    .dataframe tbody tr th:only-of-type {\n",
       "        vertical-align: middle;\n",
       "    }\n",
       "\n",
       "    .dataframe tbody tr th {\n",
       "        vertical-align: top;\n",
       "    }\n",
       "\n",
       "    .dataframe thead th {\n",
       "        text-align: right;\n",
       "    }\n",
       "</style>\n",
       "<table border=\"1\" class=\"dataframe\">\n",
       "  <thead>\n",
       "    <tr style=\"text-align: right;\">\n",
       "      <th></th>\n",
       "      <th>name</th>\n",
       "      <th>series</th>\n",
       "      <th>panel_id</th>\n",
       "      <th>row</th>\n",
       "      <th>col</th>\n",
       "      <th>width</th>\n",
       "      <th>height</th>\n",
       "      <th>GS_mean</th>\n",
       "    </tr>\n",
       "  </thead>\n",
       "  <tbody>\n",
       "    <tr>\n",
       "      <th>0</th>\n",
       "      <td>Serie_1_ImageCorr_-10_4081_Cell_Row10_Col_1</td>\n",
       "      <td>1</td>\n",
       "      <td>10_4081</td>\n",
       "      <td>10</td>\n",
       "      <td>1</td>\n",
       "      <td>323</td>\n",
       "      <td>323</td>\n",
       "      <td>0.494703</td>\n",
       "    </tr>\n",
       "    <tr>\n",
       "      <th>1</th>\n",
       "      <td>Serie_1_ImageCorr_-10_4081_Cell_Row10_Col_2</td>\n",
       "      <td>1</td>\n",
       "      <td>10_4081</td>\n",
       "      <td>10</td>\n",
       "      <td>2</td>\n",
       "      <td>324</td>\n",
       "      <td>323</td>\n",
       "      <td>0.426713</td>\n",
       "    </tr>\n",
       "    <tr>\n",
       "      <th>2</th>\n",
       "      <td>Serie_1_ImageCorr_-10_4081_Cell_Row10_Col_3</td>\n",
       "      <td>1</td>\n",
       "      <td>10_4081</td>\n",
       "      <td>10</td>\n",
       "      <td>3</td>\n",
       "      <td>325</td>\n",
       "      <td>323</td>\n",
       "      <td>0.535716</td>\n",
       "    </tr>\n",
       "    <tr>\n",
       "      <th>3</th>\n",
       "      <td>Serie_1_ImageCorr_-10_4081_Cell_Row10_Col_4</td>\n",
       "      <td>1</td>\n",
       "      <td>10_4081</td>\n",
       "      <td>10</td>\n",
       "      <td>4</td>\n",
       "      <td>324</td>\n",
       "      <td>323</td>\n",
       "      <td>0.476981</td>\n",
       "    </tr>\n",
       "    <tr>\n",
       "      <th>4</th>\n",
       "      <td>Serie_1_ImageCorr_-10_4081_Cell_Row10_Col_5</td>\n",
       "      <td>1</td>\n",
       "      <td>10_4081</td>\n",
       "      <td>10</td>\n",
       "      <td>5</td>\n",
       "      <td>323</td>\n",
       "      <td>323</td>\n",
       "      <td>0.468487</td>\n",
       "    </tr>\n",
       "    <tr>\n",
       "      <th>...</th>\n",
       "      <td>...</td>\n",
       "      <td>...</td>\n",
       "      <td>...</td>\n",
       "      <td>...</td>\n",
       "      <td>...</td>\n",
       "      <td>...</td>\n",
       "      <td>...</td>\n",
       "      <td>...</td>\n",
       "    </tr>\n",
       "    <tr>\n",
       "      <th>36559</th>\n",
       "      <td>Serie_6_ImageCorr_-9_4283_PC_Cell_Row9_Col_2</td>\n",
       "      <td>6</td>\n",
       "      <td>9_4283</td>\n",
       "      <td>9</td>\n",
       "      <td>2</td>\n",
       "      <td>302</td>\n",
       "      <td>300</td>\n",
       "      <td>0.415072</td>\n",
       "    </tr>\n",
       "    <tr>\n",
       "      <th>36560</th>\n",
       "      <td>Serie_6_ImageCorr_-9_4283_PC_Cell_Row9_Col_3</td>\n",
       "      <td>6</td>\n",
       "      <td>9_4283</td>\n",
       "      <td>9</td>\n",
       "      <td>3</td>\n",
       "      <td>302</td>\n",
       "      <td>300</td>\n",
       "      <td>0.550505</td>\n",
       "    </tr>\n",
       "    <tr>\n",
       "      <th>36561</th>\n",
       "      <td>Serie_6_ImageCorr_-9_4283_PC_Cell_Row9_Col_4</td>\n",
       "      <td>6</td>\n",
       "      <td>9_4283</td>\n",
       "      <td>9</td>\n",
       "      <td>4</td>\n",
       "      <td>302</td>\n",
       "      <td>300</td>\n",
       "      <td>0.638767</td>\n",
       "    </tr>\n",
       "    <tr>\n",
       "      <th>36562</th>\n",
       "      <td>Serie_6_ImageCorr_-9_4283_PC_Cell_Row9_Col_5</td>\n",
       "      <td>6</td>\n",
       "      <td>9_4283</td>\n",
       "      <td>9</td>\n",
       "      <td>5</td>\n",
       "      <td>303</td>\n",
       "      <td>300</td>\n",
       "      <td>0.523925</td>\n",
       "    </tr>\n",
       "    <tr>\n",
       "      <th>36563</th>\n",
       "      <td>Serie_6_ImageCorr_-9_4283_PC_Cell_Row9_Col_6</td>\n",
       "      <td>6</td>\n",
       "      <td>9_4283</td>\n",
       "      <td>9</td>\n",
       "      <td>6</td>\n",
       "      <td>294</td>\n",
       "      <td>300</td>\n",
       "      <td>0.507093</td>\n",
       "    </tr>\n",
       "  </tbody>\n",
       "</table>\n",
       "<p>36564 rows × 8 columns</p>\n",
       "</div>"
      ],
      "text/plain": [
       "                                               name  series panel_id  row  \\\n",
       "0       Serie_1_ImageCorr_-10_4081_Cell_Row10_Col_1       1  10_4081   10   \n",
       "1       Serie_1_ImageCorr_-10_4081_Cell_Row10_Col_2       1  10_4081   10   \n",
       "2       Serie_1_ImageCorr_-10_4081_Cell_Row10_Col_3       1  10_4081   10   \n",
       "3       Serie_1_ImageCorr_-10_4081_Cell_Row10_Col_4       1  10_4081   10   \n",
       "4       Serie_1_ImageCorr_-10_4081_Cell_Row10_Col_5       1  10_4081   10   \n",
       "...                                             ...     ...      ...  ...   \n",
       "36559  Serie_6_ImageCorr_-9_4283_PC_Cell_Row9_Col_2       6   9_4283    9   \n",
       "36560  Serie_6_ImageCorr_-9_4283_PC_Cell_Row9_Col_3       6   9_4283    9   \n",
       "36561  Serie_6_ImageCorr_-9_4283_PC_Cell_Row9_Col_4       6   9_4283    9   \n",
       "36562  Serie_6_ImageCorr_-9_4283_PC_Cell_Row9_Col_5       6   9_4283    9   \n",
       "36563  Serie_6_ImageCorr_-9_4283_PC_Cell_Row9_Col_6       6   9_4283    9   \n",
       "\n",
       "       col  width  height   GS_mean  \n",
       "0        1    323     323  0.494703  \n",
       "1        2    324     323  0.426713  \n",
       "2        3    325     323  0.535716  \n",
       "3        4    324     323  0.476981  \n",
       "4        5    323     323  0.468487  \n",
       "...    ...    ...     ...       ...  \n",
       "36559    2    302     300  0.415072  \n",
       "36560    3    302     300  0.550505  \n",
       "36561    4    302     300  0.638767  \n",
       "36562    5    303     300  0.523925  \n",
       "36563    6    294     300  0.507093  \n",
       "\n",
       "[36564 rows x 8 columns]"
      ]
     },
     "execution_count": 44,
     "metadata": {},
     "output_type": "execute_result"
    }
   ],
   "source": [
    "all_panels"
   ]
  },
  {
   "cell_type": "code",
   "execution_count": 38,
   "metadata": {},
   "outputs": [],
   "source": [
    "Data_corr = pd.read_csv('/Users/madsandersen/PycharmProjects/BscProjektData/BachelorProject/Data/VitusData/EL_data_all.csv')\n"
   ]
  },
  {
   "cell_type": "code",
   "execution_count": 39,
   "metadata": {},
   "outputs": [
    {
     "data": {
      "text/html": [
       "<div>\n",
       "<style scoped>\n",
       "    .dataframe tbody tr th:only-of-type {\n",
       "        vertical-align: middle;\n",
       "    }\n",
       "\n",
       "    .dataframe tbody tr th {\n",
       "        vertical-align: top;\n",
       "    }\n",
       "\n",
       "    .dataframe thead th {\n",
       "        text-align: right;\n",
       "    }\n",
       "</style>\n",
       "<table border=\"1\" class=\"dataframe\">\n",
       "  <thead>\n",
       "    <tr style=\"text-align: right;\">\n",
       "      <th></th>\n",
       "      <th>name</th>\n",
       "      <th>series</th>\n",
       "      <th>panel_id</th>\n",
       "      <th>row</th>\n",
       "      <th>col</th>\n",
       "      <th>width</th>\n",
       "      <th>height</th>\n",
       "      <th>GS_mean</th>\n",
       "    </tr>\n",
       "  </thead>\n",
       "  <tbody>\n",
       "    <tr>\n",
       "      <th>0</th>\n",
       "      <td>Serie_1_ImageCorr_-10_4081_Cell_Row10_Col_1</td>\n",
       "      <td>1</td>\n",
       "      <td>10_4081</td>\n",
       "      <td>10</td>\n",
       "      <td>1</td>\n",
       "      <td>323</td>\n",
       "      <td>323</td>\n",
       "      <td>0.494703</td>\n",
       "    </tr>\n",
       "    <tr>\n",
       "      <th>1</th>\n",
       "      <td>Serie_1_ImageCorr_-10_4081_Cell_Row10_Col_2</td>\n",
       "      <td>1</td>\n",
       "      <td>10_4081</td>\n",
       "      <td>10</td>\n",
       "      <td>2</td>\n",
       "      <td>324</td>\n",
       "      <td>323</td>\n",
       "      <td>0.426713</td>\n",
       "    </tr>\n",
       "    <tr>\n",
       "      <th>2</th>\n",
       "      <td>Serie_1_ImageCorr_-10_4081_Cell_Row10_Col_3</td>\n",
       "      <td>1</td>\n",
       "      <td>10_4081</td>\n",
       "      <td>10</td>\n",
       "      <td>3</td>\n",
       "      <td>325</td>\n",
       "      <td>323</td>\n",
       "      <td>0.535716</td>\n",
       "    </tr>\n",
       "    <tr>\n",
       "      <th>3</th>\n",
       "      <td>Serie_1_ImageCorr_-10_4081_Cell_Row10_Col_4</td>\n",
       "      <td>1</td>\n",
       "      <td>10_4081</td>\n",
       "      <td>10</td>\n",
       "      <td>4</td>\n",
       "      <td>324</td>\n",
       "      <td>323</td>\n",
       "      <td>0.476981</td>\n",
       "    </tr>\n",
       "    <tr>\n",
       "      <th>4</th>\n",
       "      <td>Serie_1_ImageCorr_-10_4081_Cell_Row10_Col_5</td>\n",
       "      <td>1</td>\n",
       "      <td>10_4081</td>\n",
       "      <td>10</td>\n",
       "      <td>5</td>\n",
       "      <td>323</td>\n",
       "      <td>323</td>\n",
       "      <td>0.468487</td>\n",
       "    </tr>\n",
       "    <tr>\n",
       "      <th>...</th>\n",
       "      <td>...</td>\n",
       "      <td>...</td>\n",
       "      <td>...</td>\n",
       "      <td>...</td>\n",
       "      <td>...</td>\n",
       "      <td>...</td>\n",
       "      <td>...</td>\n",
       "      <td>...</td>\n",
       "    </tr>\n",
       "    <tr>\n",
       "      <th>36559</th>\n",
       "      <td>Serie_6_ImageCorr_-9_4283_PC_Cell_Row9_Col_2</td>\n",
       "      <td>6</td>\n",
       "      <td>9_4283</td>\n",
       "      <td>9</td>\n",
       "      <td>2</td>\n",
       "      <td>302</td>\n",
       "      <td>300</td>\n",
       "      <td>0.415072</td>\n",
       "    </tr>\n",
       "    <tr>\n",
       "      <th>36560</th>\n",
       "      <td>Serie_6_ImageCorr_-9_4283_PC_Cell_Row9_Col_3</td>\n",
       "      <td>6</td>\n",
       "      <td>9_4283</td>\n",
       "      <td>9</td>\n",
       "      <td>3</td>\n",
       "      <td>302</td>\n",
       "      <td>300</td>\n",
       "      <td>0.550505</td>\n",
       "    </tr>\n",
       "    <tr>\n",
       "      <th>36561</th>\n",
       "      <td>Serie_6_ImageCorr_-9_4283_PC_Cell_Row9_Col_4</td>\n",
       "      <td>6</td>\n",
       "      <td>9_4283</td>\n",
       "      <td>9</td>\n",
       "      <td>4</td>\n",
       "      <td>302</td>\n",
       "      <td>300</td>\n",
       "      <td>0.638767</td>\n",
       "    </tr>\n",
       "    <tr>\n",
       "      <th>36562</th>\n",
       "      <td>Serie_6_ImageCorr_-9_4283_PC_Cell_Row9_Col_5</td>\n",
       "      <td>6</td>\n",
       "      <td>9_4283</td>\n",
       "      <td>9</td>\n",
       "      <td>5</td>\n",
       "      <td>303</td>\n",
       "      <td>300</td>\n",
       "      <td>0.523925</td>\n",
       "    </tr>\n",
       "    <tr>\n",
       "      <th>36563</th>\n",
       "      <td>Serie_6_ImageCorr_-9_4283_PC_Cell_Row9_Col_6</td>\n",
       "      <td>6</td>\n",
       "      <td>9_4283</td>\n",
       "      <td>9</td>\n",
       "      <td>6</td>\n",
       "      <td>294</td>\n",
       "      <td>300</td>\n",
       "      <td>0.507093</td>\n",
       "    </tr>\n",
       "  </tbody>\n",
       "</table>\n",
       "<p>36564 rows × 8 columns</p>\n",
       "</div>"
      ],
      "text/plain": [
       "                                               name  series panel_id  row  \\\n",
       "0       Serie_1_ImageCorr_-10_4081_Cell_Row10_Col_1       1  10_4081   10   \n",
       "1       Serie_1_ImageCorr_-10_4081_Cell_Row10_Col_2       1  10_4081   10   \n",
       "2       Serie_1_ImageCorr_-10_4081_Cell_Row10_Col_3       1  10_4081   10   \n",
       "3       Serie_1_ImageCorr_-10_4081_Cell_Row10_Col_4       1  10_4081   10   \n",
       "4       Serie_1_ImageCorr_-10_4081_Cell_Row10_Col_5       1  10_4081   10   \n",
       "...                                             ...     ...      ...  ...   \n",
       "36559  Serie_6_ImageCorr_-9_4283_PC_Cell_Row9_Col_2       6   9_4283    9   \n",
       "36560  Serie_6_ImageCorr_-9_4283_PC_Cell_Row9_Col_3       6   9_4283    9   \n",
       "36561  Serie_6_ImageCorr_-9_4283_PC_Cell_Row9_Col_4       6   9_4283    9   \n",
       "36562  Serie_6_ImageCorr_-9_4283_PC_Cell_Row9_Col_5       6   9_4283    9   \n",
       "36563  Serie_6_ImageCorr_-9_4283_PC_Cell_Row9_Col_6       6   9_4283    9   \n",
       "\n",
       "       col  width  height   GS_mean  \n",
       "0        1    323     323  0.494703  \n",
       "1        2    324     323  0.426713  \n",
       "2        3    325     323  0.535716  \n",
       "3        4    324     323  0.476981  \n",
       "4        5    323     323  0.468487  \n",
       "...    ...    ...     ...       ...  \n",
       "36559    2    302     300  0.415072  \n",
       "36560    3    302     300  0.550505  \n",
       "36561    4    302     300  0.638767  \n",
       "36562    5    303     300  0.523925  \n",
       "36563    6    294     300  0.507093  \n",
       "\n",
       "[36564 rows x 8 columns]"
      ]
     },
     "execution_count": 39,
     "metadata": {},
     "output_type": "execute_result"
    }
   ],
   "source": [
    "Data_corr"
   ]
  },
  {
   "cell_type": "code",
   "execution_count": 40,
   "metadata": {},
   "outputs": [
    {
     "data": {
      "text/plain": [
       "(585,)"
      ]
     },
     "execution_count": 40,
     "metadata": {},
     "output_type": "execute_result"
    }
   ],
   "source": [
    "Data_corr['panel_id'].unique().shape"
   ]
  },
  {
   "cell_type": "code",
   "execution_count": 41,
   "metadata": {},
   "outputs": [
    {
     "data": {
      "text/plain": [
       "36564"
      ]
     },
     "execution_count": 41,
     "metadata": {},
     "output_type": "execute_result"
    }
   ],
   "source": [
    "len(Data_corr)"
   ]
  },
  {
   "cell_type": "code",
   "execution_count": null,
   "metadata": {},
   "outputs": [],
   "source": []
  },
  {
   "cell_type": "markdown",
   "metadata": {},
   "source": [
    "## Collected set"
   ]
  },
  {
   "cell_type": "code",
   "execution_count": 23,
   "metadata": {},
   "outputs": [],
   "source": [
    "base = '/Users/madsandersen/PycharmProjects/BscProjektData/BachelorProject/Data/VitusData/Serier'"
   ]
  },
  {
   "cell_type": "code",
   "execution_count": 24,
   "metadata": {},
   "outputs": [],
   "source": [
    "name = Data_corr.loc[0]['name']\n",
    "serie = Data_corr.loc[0]['series']"
   ]
  },
  {
   "cell_type": "code",
   "execution_count": 25,
   "metadata": {},
   "outputs": [],
   "source": [
    "def load_mat_file(row):\n",
    "    base = '/Users/madsandersen/PycharmProjects/BscProjektData/BachelorProject/Data/VitusData/Serier'\n",
    "    name = row['name']\n",
    "    serie = row['series']\n",
    "    directory = f'{base}/Series{serie}/MaskGT/GT_{name}.mat'\n",
    "    directory = directory.replace('ImageCorr','Image')\n",
    "    return loadmat(directory)"
   ]
  },
  {
   "cell_type": "code",
   "execution_count": 26,
   "metadata": {
    "scrolled": true
   },
   "outputs": [],
   "source": [
    "def format_mat_file(mat):\n",
    "    label = mat['GTLabel'].ravel()\n",
    "    mask = mat['GTMask'].ravel()\n",
    "    label = [l[0] for l in label]\n",
    "    return label,mask"
   ]
  },
  {
   "cell_type": "code",
   "execution_count": 27,
   "metadata": {},
   "outputs": [],
   "source": [
    "labels = []\n",
    "masks = []\n",
    "for idx,row in Data_corr.iterrows():\n",
    "    try:\n",
    "        mat = load_mat_file(row)\n",
    "        label,mask = format_mat_file(mat)\n",
    "        labels.append(label)\n",
    "        masks.append(mask)\n",
    "    except:\n",
    "        labels.append(['Negative'])        "
   ]
  },
  {
   "cell_type": "code",
   "execution_count": 28,
   "metadata": {},
   "outputs": [],
   "source": [
    "Data_corr['Labels'] = labels"
   ]
  },
  {
   "cell_type": "code",
   "execution_count": 29,
   "metadata": {},
   "outputs": [],
   "source": [
    "Data_corr['instance_count'] = Data_corr['Labels'].apply(lambda x: len(x) if x[0] != 'Negative' else 0)"
   ]
  },
  {
   "cell_type": "code",
   "execution_count": 30,
   "metadata": {},
   "outputs": [],
   "source": [
    "Data_corr['Finger Failure'] = Data_corr['Labels'].apply(lambda x: True if 'Finger Failure' in x else False)\n",
    "Data_corr['Crack A'] = Data_corr['Labels'].apply(lambda x: True if 'Crack A' in x else False)\n",
    "Data_corr['Crack B'] = Data_corr['Labels'].apply(lambda x: True if 'Crack B' in x else False)\n",
    "Data_corr['Crack C'] = Data_corr['Labels'].apply(lambda x: True if 'Crack C' in x else False)"
   ]
  },
  {
   "cell_type": "code",
   "execution_count": 31,
   "metadata": {},
   "outputs": [],
   "source": [
    "Data_corr.to_csv('/Users/madsandersen/PycharmProjects/BscProjektData/BachelorProject/Data/VitusData/EkstraDetection/Corr_with_labels.csv')"
   ]
  },
  {
   "cell_type": "code",
   "execution_count": 32,
   "metadata": {},
   "outputs": [],
   "source": [
    "d = Data_corr.groupby('instance_count').count()"
   ]
  },
  {
   "cell_type": "code",
   "execution_count": 33,
   "metadata": {},
   "outputs": [
    {
     "data": {
      "text/html": [
       "<div>\n",
       "<style scoped>\n",
       "    .dataframe tbody tr th:only-of-type {\n",
       "        vertical-align: middle;\n",
       "    }\n",
       "\n",
       "    .dataframe tbody tr th {\n",
       "        vertical-align: top;\n",
       "    }\n",
       "\n",
       "    .dataframe thead th {\n",
       "        text-align: right;\n",
       "    }\n",
       "</style>\n",
       "<table border=\"1\" class=\"dataframe\">\n",
       "  <thead>\n",
       "    <tr style=\"text-align: right;\">\n",
       "      <th></th>\n",
       "      <th>name</th>\n",
       "      <th>series</th>\n",
       "      <th>panel_id</th>\n",
       "      <th>row</th>\n",
       "      <th>col</th>\n",
       "      <th>width</th>\n",
       "      <th>height</th>\n",
       "      <th>GS_mean</th>\n",
       "      <th>Labels</th>\n",
       "      <th>Finger Failure</th>\n",
       "      <th>Crack A</th>\n",
       "      <th>Crack B</th>\n",
       "      <th>Crack C</th>\n",
       "    </tr>\n",
       "    <tr>\n",
       "      <th>instance_count</th>\n",
       "      <th></th>\n",
       "      <th></th>\n",
       "      <th></th>\n",
       "      <th></th>\n",
       "      <th></th>\n",
       "      <th></th>\n",
       "      <th></th>\n",
       "      <th></th>\n",
       "      <th></th>\n",
       "      <th></th>\n",
       "      <th></th>\n",
       "      <th></th>\n",
       "      <th></th>\n",
       "    </tr>\n",
       "  </thead>\n",
       "  <tbody>\n",
       "    <tr>\n",
       "      <th>0</th>\n",
       "      <td>34629</td>\n",
       "      <td>34629</td>\n",
       "      <td>34629</td>\n",
       "      <td>34629</td>\n",
       "      <td>34629</td>\n",
       "      <td>34629</td>\n",
       "      <td>34629</td>\n",
       "      <td>34629</td>\n",
       "      <td>34629</td>\n",
       "      <td>34629</td>\n",
       "      <td>34629</td>\n",
       "      <td>34629</td>\n",
       "      <td>34629</td>\n",
       "    </tr>\n",
       "    <tr>\n",
       "      <th>1</th>\n",
       "      <td>1146</td>\n",
       "      <td>1146</td>\n",
       "      <td>1146</td>\n",
       "      <td>1146</td>\n",
       "      <td>1146</td>\n",
       "      <td>1146</td>\n",
       "      <td>1146</td>\n",
       "      <td>1146</td>\n",
       "      <td>1146</td>\n",
       "      <td>1146</td>\n",
       "      <td>1146</td>\n",
       "      <td>1146</td>\n",
       "      <td>1146</td>\n",
       "    </tr>\n",
       "    <tr>\n",
       "      <th>2</th>\n",
       "      <td>155</td>\n",
       "      <td>155</td>\n",
       "      <td>155</td>\n",
       "      <td>155</td>\n",
       "      <td>155</td>\n",
       "      <td>155</td>\n",
       "      <td>155</td>\n",
       "      <td>155</td>\n",
       "      <td>155</td>\n",
       "      <td>155</td>\n",
       "      <td>155</td>\n",
       "      <td>155</td>\n",
       "      <td>155</td>\n",
       "    </tr>\n",
       "    <tr>\n",
       "      <th>3</th>\n",
       "      <td>58</td>\n",
       "      <td>58</td>\n",
       "      <td>58</td>\n",
       "      <td>58</td>\n",
       "      <td>58</td>\n",
       "      <td>58</td>\n",
       "      <td>58</td>\n",
       "      <td>58</td>\n",
       "      <td>58</td>\n",
       "      <td>58</td>\n",
       "      <td>58</td>\n",
       "      <td>58</td>\n",
       "      <td>58</td>\n",
       "    </tr>\n",
       "    <tr>\n",
       "      <th>4</th>\n",
       "      <td>27</td>\n",
       "      <td>27</td>\n",
       "      <td>27</td>\n",
       "      <td>27</td>\n",
       "      <td>27</td>\n",
       "      <td>27</td>\n",
       "      <td>27</td>\n",
       "      <td>27</td>\n",
       "      <td>27</td>\n",
       "      <td>27</td>\n",
       "      <td>27</td>\n",
       "      <td>27</td>\n",
       "      <td>27</td>\n",
       "    </tr>\n",
       "    <tr>\n",
       "      <th>5</th>\n",
       "      <td>16</td>\n",
       "      <td>16</td>\n",
       "      <td>16</td>\n",
       "      <td>16</td>\n",
       "      <td>16</td>\n",
       "      <td>16</td>\n",
       "      <td>16</td>\n",
       "      <td>16</td>\n",
       "      <td>16</td>\n",
       "      <td>16</td>\n",
       "      <td>16</td>\n",
       "      <td>16</td>\n",
       "      <td>16</td>\n",
       "    </tr>\n",
       "    <tr>\n",
       "      <th>6</th>\n",
       "      <td>12</td>\n",
       "      <td>12</td>\n",
       "      <td>12</td>\n",
       "      <td>12</td>\n",
       "      <td>12</td>\n",
       "      <td>12</td>\n",
       "      <td>12</td>\n",
       "      <td>12</td>\n",
       "      <td>12</td>\n",
       "      <td>12</td>\n",
       "      <td>12</td>\n",
       "      <td>12</td>\n",
       "      <td>12</td>\n",
       "    </tr>\n",
       "    <tr>\n",
       "      <th>7</th>\n",
       "      <td>9</td>\n",
       "      <td>9</td>\n",
       "      <td>9</td>\n",
       "      <td>9</td>\n",
       "      <td>9</td>\n",
       "      <td>9</td>\n",
       "      <td>9</td>\n",
       "      <td>9</td>\n",
       "      <td>9</td>\n",
       "      <td>9</td>\n",
       "      <td>9</td>\n",
       "      <td>9</td>\n",
       "      <td>9</td>\n",
       "    </tr>\n",
       "    <tr>\n",
       "      <th>8</th>\n",
       "      <td>4</td>\n",
       "      <td>4</td>\n",
       "      <td>4</td>\n",
       "      <td>4</td>\n",
       "      <td>4</td>\n",
       "      <td>4</td>\n",
       "      <td>4</td>\n",
       "      <td>4</td>\n",
       "      <td>4</td>\n",
       "      <td>4</td>\n",
       "      <td>4</td>\n",
       "      <td>4</td>\n",
       "      <td>4</td>\n",
       "    </tr>\n",
       "    <tr>\n",
       "      <th>9</th>\n",
       "      <td>1</td>\n",
       "      <td>1</td>\n",
       "      <td>1</td>\n",
       "      <td>1</td>\n",
       "      <td>1</td>\n",
       "      <td>1</td>\n",
       "      <td>1</td>\n",
       "      <td>1</td>\n",
       "      <td>1</td>\n",
       "      <td>1</td>\n",
       "      <td>1</td>\n",
       "      <td>1</td>\n",
       "      <td>1</td>\n",
       "    </tr>\n",
       "    <tr>\n",
       "      <th>10</th>\n",
       "      <td>1</td>\n",
       "      <td>1</td>\n",
       "      <td>1</td>\n",
       "      <td>1</td>\n",
       "      <td>1</td>\n",
       "      <td>1</td>\n",
       "      <td>1</td>\n",
       "      <td>1</td>\n",
       "      <td>1</td>\n",
       "      <td>1</td>\n",
       "      <td>1</td>\n",
       "      <td>1</td>\n",
       "      <td>1</td>\n",
       "    </tr>\n",
       "    <tr>\n",
       "      <th>11</th>\n",
       "      <td>2</td>\n",
       "      <td>2</td>\n",
       "      <td>2</td>\n",
       "      <td>2</td>\n",
       "      <td>2</td>\n",
       "      <td>2</td>\n",
       "      <td>2</td>\n",
       "      <td>2</td>\n",
       "      <td>2</td>\n",
       "      <td>2</td>\n",
       "      <td>2</td>\n",
       "      <td>2</td>\n",
       "      <td>2</td>\n",
       "    </tr>\n",
       "    <tr>\n",
       "      <th>13</th>\n",
       "      <td>1</td>\n",
       "      <td>1</td>\n",
       "      <td>1</td>\n",
       "      <td>1</td>\n",
       "      <td>1</td>\n",
       "      <td>1</td>\n",
       "      <td>1</td>\n",
       "      <td>1</td>\n",
       "      <td>1</td>\n",
       "      <td>1</td>\n",
       "      <td>1</td>\n",
       "      <td>1</td>\n",
       "      <td>1</td>\n",
       "    </tr>\n",
       "  </tbody>\n",
       "</table>\n",
       "</div>"
      ],
      "text/plain": [
       "                 name  series  panel_id    row    col  width  height  GS_mean  \\\n",
       "instance_count                                                                  \n",
       "0               34629   34629     34629  34629  34629  34629   34629    34629   \n",
       "1                1146    1146      1146   1146   1146   1146    1146     1146   \n",
       "2                 155     155       155    155    155    155     155      155   \n",
       "3                  58      58        58     58     58     58      58       58   \n",
       "4                  27      27        27     27     27     27      27       27   \n",
       "5                  16      16        16     16     16     16      16       16   \n",
       "6                  12      12        12     12     12     12      12       12   \n",
       "7                   9       9         9      9      9      9       9        9   \n",
       "8                   4       4         4      4      4      4       4        4   \n",
       "9                   1       1         1      1      1      1       1        1   \n",
       "10                  1       1         1      1      1      1       1        1   \n",
       "11                  2       2         2      2      2      2       2        2   \n",
       "13                  1       1         1      1      1      1       1        1   \n",
       "\n",
       "                Labels  Finger Failure  Crack A  Crack B  Crack C  \n",
       "instance_count                                                     \n",
       "0                34629           34629    34629    34629    34629  \n",
       "1                 1146            1146     1146     1146     1146  \n",
       "2                  155             155      155      155      155  \n",
       "3                   58              58       58       58       58  \n",
       "4                   27              27       27       27       27  \n",
       "5                   16              16       16       16       16  \n",
       "6                   12              12       12       12       12  \n",
       "7                    9               9        9        9        9  \n",
       "8                    4               4        4        4        4  \n",
       "9                    1               1        1        1        1  \n",
       "10                   1               1        1        1        1  \n",
       "11                   2               2        2        2        2  \n",
       "13                   1               1        1        1        1  "
      ]
     },
     "execution_count": 33,
     "metadata": {},
     "output_type": "execute_result"
    }
   ],
   "source": [
    "d"
   ]
  },
  {
   "cell_type": "code",
   "execution_count": 34,
   "metadata": {},
   "outputs": [
    {
     "data": {
      "text/html": [
       "<div>\n",
       "<style scoped>\n",
       "    .dataframe tbody tr th:only-of-type {\n",
       "        vertical-align: middle;\n",
       "    }\n",
       "\n",
       "    .dataframe tbody tr th {\n",
       "        vertical-align: top;\n",
       "    }\n",
       "\n",
       "    .dataframe thead th {\n",
       "        text-align: right;\n",
       "    }\n",
       "</style>\n",
       "<table border=\"1\" class=\"dataframe\">\n",
       "  <thead>\n",
       "    <tr style=\"text-align: right;\">\n",
       "      <th></th>\n",
       "      <th>name</th>\n",
       "      <th>series</th>\n",
       "      <th>panel_id</th>\n",
       "      <th>row</th>\n",
       "      <th>col</th>\n",
       "      <th>width</th>\n",
       "      <th>height</th>\n",
       "      <th>GS_mean</th>\n",
       "      <th>Labels</th>\n",
       "      <th>instance_count</th>\n",
       "      <th>Crack A</th>\n",
       "      <th>Crack B</th>\n",
       "      <th>Crack C</th>\n",
       "    </tr>\n",
       "    <tr>\n",
       "      <th>Finger Failure</th>\n",
       "      <th></th>\n",
       "      <th></th>\n",
       "      <th></th>\n",
       "      <th></th>\n",
       "      <th></th>\n",
       "      <th></th>\n",
       "      <th></th>\n",
       "      <th></th>\n",
       "      <th></th>\n",
       "      <th></th>\n",
       "      <th></th>\n",
       "      <th></th>\n",
       "      <th></th>\n",
       "    </tr>\n",
       "  </thead>\n",
       "  <tbody>\n",
       "    <tr>\n",
       "      <th>False</th>\n",
       "      <td>35296</td>\n",
       "      <td>35296</td>\n",
       "      <td>35296</td>\n",
       "      <td>35296</td>\n",
       "      <td>35296</td>\n",
       "      <td>35296</td>\n",
       "      <td>35296</td>\n",
       "      <td>35296</td>\n",
       "      <td>35296</td>\n",
       "      <td>35296</td>\n",
       "      <td>35296</td>\n",
       "      <td>35296</td>\n",
       "      <td>35296</td>\n",
       "    </tr>\n",
       "    <tr>\n",
       "      <th>True</th>\n",
       "      <td>765</td>\n",
       "      <td>765</td>\n",
       "      <td>765</td>\n",
       "      <td>765</td>\n",
       "      <td>765</td>\n",
       "      <td>765</td>\n",
       "      <td>765</td>\n",
       "      <td>765</td>\n",
       "      <td>765</td>\n",
       "      <td>765</td>\n",
       "      <td>765</td>\n",
       "      <td>765</td>\n",
       "      <td>765</td>\n",
       "    </tr>\n",
       "  </tbody>\n",
       "</table>\n",
       "</div>"
      ],
      "text/plain": [
       "                 name  series  panel_id    row    col  width  height  GS_mean  \\\n",
       "Finger Failure                                                                  \n",
       "False           35296   35296     35296  35296  35296  35296   35296    35296   \n",
       "True              765     765       765    765    765    765     765      765   \n",
       "\n",
       "                Labels  instance_count  Crack A  Crack B  Crack C  \n",
       "Finger Failure                                                     \n",
       "False            35296           35296    35296    35296    35296  \n",
       "True               765             765      765      765      765  "
      ]
     },
     "execution_count": 34,
     "metadata": {},
     "output_type": "execute_result"
    }
   ],
   "source": [
    "Data_corr.groupby('Finger Failure').count()"
   ]
  },
  {
   "cell_type": "code",
   "execution_count": 35,
   "metadata": {},
   "outputs": [],
   "source": [
    "Data_corr['is_fault'] = Data_corr['instance_count'].apply(lambda x: 1 if x > 0 else 0)"
   ]
  },
  {
   "cell_type": "code",
   "execution_count": 36,
   "metadata": {},
   "outputs": [
    {
     "data": {
      "text/plain": [
       "1432"
      ]
     },
     "execution_count": 36,
     "metadata": {},
     "output_type": "execute_result"
    }
   ],
   "source": [
    "Data_corr.is_fault.sum()"
   ]
  },
  {
   "cell_type": "code",
   "execution_count": null,
   "metadata": {},
   "outputs": [],
   "source": []
  },
  {
   "cell_type": "code",
   "execution_count": null,
   "metadata": {},
   "outputs": [],
   "source": []
  },
  {
   "cell_type": "code",
   "execution_count": null,
   "metadata": {},
   "outputs": [],
   "source": []
  },
  {
   "cell_type": "markdown",
   "metadata": {},
   "source": [
    "#### Masks "
   ]
  },
  {
   "cell_type": "code",
   "execution_count": 37,
   "metadata": {},
   "outputs": [],
   "source": [
    "masks_means = [mask.sum() for mask in masks]"
   ]
  },
  {
   "cell_type": "code",
   "execution_count": 38,
   "metadata": {},
   "outputs": [
    {
     "data": {
      "text/plain": [
       "7285.731145251397"
      ]
     },
     "execution_count": 38,
     "metadata": {},
     "output_type": "execute_result"
    }
   ],
   "source": [
    "sum(masks_means)/len(masks_means)"
   ]
  },
  {
   "cell_type": "code",
   "execution_count": 39,
   "metadata": {},
   "outputs": [
    {
     "data": {
      "text/plain": [
       "(array([1.023e+03, 1.260e+02, 7.800e+01, 5.400e+01, 3.600e+01, 1.700e+01,\n",
       "        1.100e+01, 1.100e+01, 7.000e+00, 1.200e+01, 3.000e+00, 7.000e+00,\n",
       "        4.000e+00, 2.000e+00, 3.000e+00, 4.000e+00, 3.000e+00, 1.000e+00,\n",
       "        3.000e+00, 1.000e+00, 2.000e+00, 1.000e+00, 2.000e+00, 2.000e+00,\n",
       "        0.000e+00, 1.000e+00, 0.000e+00, 1.000e+00, 1.000e+00, 0.000e+00,\n",
       "        2.000e+00, 1.000e+00, 1.000e+00, 1.000e+00, 1.000e+00, 1.000e+00,\n",
       "        1.000e+00, 0.000e+00, 1.000e+00, 0.000e+00, 0.000e+00, 0.000e+00,\n",
       "        1.000e+00, 1.000e+00, 0.000e+00, 0.000e+00, 0.000e+00, 0.000e+00,\n",
       "        0.000e+00, 1.000e+00, 0.000e+00, 0.000e+00, 0.000e+00, 1.000e+00,\n",
       "        0.000e+00, 0.000e+00, 0.000e+00, 0.000e+00, 0.000e+00, 0.000e+00,\n",
       "        0.000e+00, 0.000e+00, 0.000e+00, 0.000e+00, 0.000e+00, 0.000e+00,\n",
       "        0.000e+00, 0.000e+00, 0.000e+00, 0.000e+00, 0.000e+00, 0.000e+00,\n",
       "        0.000e+00, 0.000e+00, 0.000e+00, 0.000e+00, 0.000e+00, 0.000e+00,\n",
       "        0.000e+00, 0.000e+00, 0.000e+00, 0.000e+00, 0.000e+00, 0.000e+00,\n",
       "        0.000e+00, 0.000e+00, 0.000e+00, 0.000e+00, 1.000e+00, 0.000e+00,\n",
       "        0.000e+00, 0.000e+00, 0.000e+00, 0.000e+00, 0.000e+00, 0.000e+00,\n",
       "        0.000e+00, 1.000e+00, 0.000e+00, 1.000e+00]),\n",
       " array([     0.  ,   3699.82,   7399.64,  11099.46,  14799.28,  18499.1 ,\n",
       "         22198.92,  25898.74,  29598.56,  33298.38,  36998.2 ,  40698.02,\n",
       "         44397.84,  48097.66,  51797.48,  55497.3 ,  59197.12,  62896.94,\n",
       "         66596.76,  70296.58,  73996.4 ,  77696.22,  81396.04,  85095.86,\n",
       "         88795.68,  92495.5 ,  96195.32,  99895.14, 103594.96, 107294.78,\n",
       "        110994.6 , 114694.42, 118394.24, 122094.06, 125793.88, 129493.7 ,\n",
       "        133193.52, 136893.34, 140593.16, 144292.98, 147992.8 , 151692.62,\n",
       "        155392.44, 159092.26, 162792.08, 166491.9 , 170191.72, 173891.54,\n",
       "        177591.36, 181291.18, 184991.  , 188690.82, 192390.64, 196090.46,\n",
       "        199790.28, 203490.1 , 207189.92, 210889.74, 214589.56, 218289.38,\n",
       "        221989.2 , 225689.02, 229388.84, 233088.66, 236788.48, 240488.3 ,\n",
       "        244188.12, 247887.94, 251587.76, 255287.58, 258987.4 , 262687.22,\n",
       "        266387.04, 270086.86, 273786.68, 277486.5 , 281186.32, 284886.14,\n",
       "        288585.96, 292285.78, 295985.6 , 299685.42, 303385.24, 307085.06,\n",
       "        310784.88, 314484.7 , 318184.52, 321884.34, 325584.16, 329283.98,\n",
       "        332983.8 , 336683.62, 340383.44, 344083.26, 347783.08, 351482.9 ,\n",
       "        355182.72, 358882.54, 362582.36, 366282.18, 369982.  ]),\n",
       " <BarContainer object of 100 artists>)"
      ]
     },
     "execution_count": 39,
     "metadata": {},
     "output_type": "execute_result"
    },
    {
     "data": {
      "image/png": "[encoded data removed]",
      "text/plain": [
       "<Figure size 640x480 with 1 Axes>"
      ]
     },
     "metadata": {},
     "output_type": "display_data"
    }
   ],
   "source": [
    "plt.hist(masks_means,bins = 100)"
   ]
  },
  {
   "cell_type": "code",
   "execution_count": 40,
   "metadata": {},
   "outputs": [],
   "source": [
    "sums = np.array(masks_means)"
   ]
  },
  {
   "cell_type": "code",
   "execution_count": 41,
   "metadata": {},
   "outputs": [
    {
     "data": {
      "text/plain": [
       "1044.0"
      ]
     },
     "execution_count": 41,
     "metadata": {},
     "output_type": "execute_result"
    }
   ],
   "source": [
    "np.median(sums)"
   ]
  },
  {
   "cell_type": "code",
   "execution_count": 42,
   "metadata": {},
   "outputs": [
    {
     "data": {
      "text/plain": [
       "array([ 223.5, 1044. , 4968.5])"
      ]
     },
     "execution_count": 42,
     "metadata": {},
     "output_type": "execute_result"
    }
   ],
   "source": [
    "np.quantile(sums,[0.25,0.5,0.75])"
   ]
  },
  {
   "cell_type": "code",
   "execution_count": null,
   "metadata": {},
   "outputs": [],
   "source": []
  },
  {
   "cell_type": "markdown",
   "metadata": {},
   "source": [
    "## Counting with regards to panels"
   ]
  },
  {
   "cell_type": "code",
   "execution_count": 43,
   "metadata": {},
   "outputs": [
    {
     "data": {
      "text/html": [
       "<div>\n",
       "<style scoped>\n",
       "    .dataframe tbody tr th:only-of-type {\n",
       "        vertical-align: middle;\n",
       "    }\n",
       "\n",
       "    .dataframe tbody tr th {\n",
       "        vertical-align: top;\n",
       "    }\n",
       "\n",
       "    .dataframe thead th {\n",
       "        text-align: right;\n",
       "    }\n",
       "</style>\n",
       "<table border=\"1\" class=\"dataframe\">\n",
       "  <thead>\n",
       "    <tr style=\"text-align: right;\">\n",
       "      <th></th>\n",
       "      <th>name</th>\n",
       "      <th>series</th>\n",
       "      <th>row</th>\n",
       "      <th>col</th>\n",
       "      <th>width</th>\n",
       "      <th>height</th>\n",
       "      <th>GS_mean</th>\n",
       "      <th>Labels</th>\n",
       "      <th>instance_count</th>\n",
       "      <th>Finger Failure</th>\n",
       "      <th>Crack A</th>\n",
       "      <th>Crack B</th>\n",
       "      <th>Crack C</th>\n",
       "      <th>is_fault</th>\n",
       "    </tr>\n",
       "    <tr>\n",
       "      <th>panel_id</th>\n",
       "      <th></th>\n",
       "      <th></th>\n",
       "      <th></th>\n",
       "      <th></th>\n",
       "      <th></th>\n",
       "      <th></th>\n",
       "      <th></th>\n",
       "      <th></th>\n",
       "      <th></th>\n",
       "      <th></th>\n",
       "      <th></th>\n",
       "      <th></th>\n",
       "      <th></th>\n",
       "      <th></th>\n",
       "    </tr>\n",
       "  </thead>\n",
       "  <tbody>\n",
       "    <tr>\n",
       "      <th>10_3943</th>\n",
       "      <td>72</td>\n",
       "      <td>72</td>\n",
       "      <td>72</td>\n",
       "      <td>72</td>\n",
       "      <td>72</td>\n",
       "      <td>72</td>\n",
       "      <td>72</td>\n",
       "      <td>72</td>\n",
       "      <td>72</td>\n",
       "      <td>72</td>\n",
       "      <td>72</td>\n",
       "      <td>72</td>\n",
       "      <td>72</td>\n",
       "      <td>72</td>\n",
       "    </tr>\n",
       "    <tr>\n",
       "      <th>10_4000</th>\n",
       "      <td>72</td>\n",
       "      <td>72</td>\n",
       "      <td>72</td>\n",
       "      <td>72</td>\n",
       "      <td>72</td>\n",
       "      <td>72</td>\n",
       "      <td>72</td>\n",
       "      <td>72</td>\n",
       "      <td>72</td>\n",
       "      <td>72</td>\n",
       "      <td>72</td>\n",
       "      <td>72</td>\n",
       "      <td>72</td>\n",
       "      <td>72</td>\n",
       "    </tr>\n",
       "    <tr>\n",
       "      <th>10_4010</th>\n",
       "      <td>72</td>\n",
       "      <td>72</td>\n",
       "      <td>72</td>\n",
       "      <td>72</td>\n",
       "      <td>72</td>\n",
       "      <td>72</td>\n",
       "      <td>72</td>\n",
       "      <td>72</td>\n",
       "      <td>72</td>\n",
       "      <td>72</td>\n",
       "      <td>72</td>\n",
       "      <td>72</td>\n",
       "      <td>72</td>\n",
       "      <td>72</td>\n",
       "    </tr>\n",
       "    <tr>\n",
       "      <th>10_4043</th>\n",
       "      <td>69</td>\n",
       "      <td>69</td>\n",
       "      <td>69</td>\n",
       "      <td>69</td>\n",
       "      <td>69</td>\n",
       "      <td>69</td>\n",
       "      <td>69</td>\n",
       "      <td>69</td>\n",
       "      <td>69</td>\n",
       "      <td>69</td>\n",
       "      <td>69</td>\n",
       "      <td>69</td>\n",
       "      <td>69</td>\n",
       "      <td>69</td>\n",
       "    </tr>\n",
       "    <tr>\n",
       "      <th>10_4056</th>\n",
       "      <td>71</td>\n",
       "      <td>71</td>\n",
       "      <td>71</td>\n",
       "      <td>71</td>\n",
       "      <td>71</td>\n",
       "      <td>71</td>\n",
       "      <td>71</td>\n",
       "      <td>71</td>\n",
       "      <td>71</td>\n",
       "      <td>71</td>\n",
       "      <td>71</td>\n",
       "      <td>71</td>\n",
       "      <td>71</td>\n",
       "      <td>71</td>\n",
       "    </tr>\n",
       "    <tr>\n",
       "      <th>...</th>\n",
       "      <td>...</td>\n",
       "      <td>...</td>\n",
       "      <td>...</td>\n",
       "      <td>...</td>\n",
       "      <td>...</td>\n",
       "      <td>...</td>\n",
       "      <td>...</td>\n",
       "      <td>...</td>\n",
       "      <td>...</td>\n",
       "      <td>...</td>\n",
       "      <td>...</td>\n",
       "      <td>...</td>\n",
       "      <td>...</td>\n",
       "      <td>...</td>\n",
       "    </tr>\n",
       "    <tr>\n",
       "      <th>9_4243</th>\n",
       "      <td>60</td>\n",
       "      <td>60</td>\n",
       "      <td>60</td>\n",
       "      <td>60</td>\n",
       "      <td>60</td>\n",
       "      <td>60</td>\n",
       "      <td>60</td>\n",
       "      <td>60</td>\n",
       "      <td>60</td>\n",
       "      <td>60</td>\n",
       "      <td>60</td>\n",
       "      <td>60</td>\n",
       "      <td>60</td>\n",
       "      <td>60</td>\n",
       "    </tr>\n",
       "    <tr>\n",
       "      <th>9_4254</th>\n",
       "      <td>60</td>\n",
       "      <td>60</td>\n",
       "      <td>60</td>\n",
       "      <td>60</td>\n",
       "      <td>60</td>\n",
       "      <td>60</td>\n",
       "      <td>60</td>\n",
       "      <td>60</td>\n",
       "      <td>60</td>\n",
       "      <td>60</td>\n",
       "      <td>60</td>\n",
       "      <td>60</td>\n",
       "      <td>60</td>\n",
       "      <td>60</td>\n",
       "    </tr>\n",
       "    <tr>\n",
       "      <th>9_4263</th>\n",
       "      <td>60</td>\n",
       "      <td>60</td>\n",
       "      <td>60</td>\n",
       "      <td>60</td>\n",
       "      <td>60</td>\n",
       "      <td>60</td>\n",
       "      <td>60</td>\n",
       "      <td>60</td>\n",
       "      <td>60</td>\n",
       "      <td>60</td>\n",
       "      <td>60</td>\n",
       "      <td>60</td>\n",
       "      <td>60</td>\n",
       "      <td>60</td>\n",
       "    </tr>\n",
       "    <tr>\n",
       "      <th>9_4283</th>\n",
       "      <td>60</td>\n",
       "      <td>60</td>\n",
       "      <td>60</td>\n",
       "      <td>60</td>\n",
       "      <td>60</td>\n",
       "      <td>60</td>\n",
       "      <td>60</td>\n",
       "      <td>60</td>\n",
       "      <td>60</td>\n",
       "      <td>60</td>\n",
       "      <td>60</td>\n",
       "      <td>60</td>\n",
       "      <td>60</td>\n",
       "      <td>60</td>\n",
       "    </tr>\n",
       "    <tr>\n",
       "      <th>9_4343</th>\n",
       "      <td>60</td>\n",
       "      <td>60</td>\n",
       "      <td>60</td>\n",
       "      <td>60</td>\n",
       "      <td>60</td>\n",
       "      <td>60</td>\n",
       "      <td>60</td>\n",
       "      <td>60</td>\n",
       "      <td>60</td>\n",
       "      <td>60</td>\n",
       "      <td>60</td>\n",
       "      <td>60</td>\n",
       "      <td>60</td>\n",
       "      <td>60</td>\n",
       "    </tr>\n",
       "  </tbody>\n",
       "</table>\n",
       "<p>585 rows × 14 columns</p>\n",
       "</div>"
      ],
      "text/plain": [
       "          name  series  row  col  width  height  GS_mean  Labels  \\\n",
       "panel_id                                                           \n",
       "10_3943     72      72   72   72     72      72       72      72   \n",
       "10_4000     72      72   72   72     72      72       72      72   \n",
       "10_4010     72      72   72   72     72      72       72      72   \n",
       "10_4043     69      69   69   69     69      69       69      69   \n",
       "10_4056     71      71   71   71     71      71       71      71   \n",
       "...        ...     ...  ...  ...    ...     ...      ...     ...   \n",
       "9_4243      60      60   60   60     60      60       60      60   \n",
       "9_4254      60      60   60   60     60      60       60      60   \n",
       "9_4263      60      60   60   60     60      60       60      60   \n",
       "9_4283      60      60   60   60     60      60       60      60   \n",
       "9_4343      60      60   60   60     60      60       60      60   \n",
       "\n",
       "          instance_count  Finger Failure  Crack A  Crack B  Crack C  is_fault  \n",
       "panel_id                                                                       \n",
       "10_3943               72              72       72       72       72        72  \n",
       "10_4000               72              72       72       72       72        72  \n",
       "10_4010               72              72       72       72       72        72  \n",
       "10_4043               69              69       69       69       69        69  \n",
       "10_4056               71              71       71       71       71        71  \n",
       "...                  ...             ...      ...      ...      ...       ...  \n",
       "9_4243                60              60       60       60       60        60  \n",
       "9_4254                60              60       60       60       60        60  \n",
       "9_4263                60              60       60       60       60        60  \n",
       "9_4283                60              60       60       60       60        60  \n",
       "9_4343                60              60       60       60       60        60  \n",
       "\n",
       "[585 rows x 14 columns]"
      ]
     },
     "execution_count": 43,
     "metadata": {},
     "output_type": "execute_result"
    }
   ],
   "source": [
    "Data_corr.groupby('panel_id').count()"
   ]
  },
  {
   "cell_type": "code",
   "execution_count": 53,
   "metadata": {},
   "outputs": [
    {
     "data": {
      "text/html": [
       "<div>\n",
       "<style scoped>\n",
       "    .dataframe tbody tr th:only-of-type {\n",
       "        vertical-align: middle;\n",
       "    }\n",
       "\n",
       "    .dataframe tbody tr th {\n",
       "        vertical-align: top;\n",
       "    }\n",
       "\n",
       "    .dataframe thead th {\n",
       "        text-align: right;\n",
       "    }\n",
       "</style>\n",
       "<table border=\"1\" class=\"dataframe\">\n",
       "  <thead>\n",
       "    <tr style=\"text-align: right;\">\n",
       "      <th></th>\n",
       "      <th></th>\n",
       "      <th>name</th>\n",
       "      <th>series</th>\n",
       "      <th>row</th>\n",
       "      <th>col</th>\n",
       "      <th>width</th>\n",
       "      <th>height</th>\n",
       "      <th>GS_mean</th>\n",
       "      <th>Labels</th>\n",
       "      <th>instance_count</th>\n",
       "      <th>Finger Failure</th>\n",
       "      <th>Crack B</th>\n",
       "      <th>Crack C</th>\n",
       "      <th>is_fault</th>\n",
       "    </tr>\n",
       "    <tr>\n",
       "      <th>panel_id</th>\n",
       "      <th>Crack A</th>\n",
       "      <th></th>\n",
       "      <th></th>\n",
       "      <th></th>\n",
       "      <th></th>\n",
       "      <th></th>\n",
       "      <th></th>\n",
       "      <th></th>\n",
       "      <th></th>\n",
       "      <th></th>\n",
       "      <th></th>\n",
       "      <th></th>\n",
       "      <th></th>\n",
       "      <th></th>\n",
       "    </tr>\n",
       "  </thead>\n",
       "  <tbody>\n",
       "    <tr>\n",
       "      <th>10_3943</th>\n",
       "      <th>False</th>\n",
       "      <td>72</td>\n",
       "      <td>72</td>\n",
       "      <td>72</td>\n",
       "      <td>72</td>\n",
       "      <td>72</td>\n",
       "      <td>72</td>\n",
       "      <td>72</td>\n",
       "      <td>72</td>\n",
       "      <td>72</td>\n",
       "      <td>72</td>\n",
       "      <td>72</td>\n",
       "      <td>72</td>\n",
       "      <td>72</td>\n",
       "    </tr>\n",
       "    <tr>\n",
       "      <th>10_4000</th>\n",
       "      <th>False</th>\n",
       "      <td>72</td>\n",
       "      <td>72</td>\n",
       "      <td>72</td>\n",
       "      <td>72</td>\n",
       "      <td>72</td>\n",
       "      <td>72</td>\n",
       "      <td>72</td>\n",
       "      <td>72</td>\n",
       "      <td>72</td>\n",
       "      <td>72</td>\n",
       "      <td>72</td>\n",
       "      <td>72</td>\n",
       "      <td>72</td>\n",
       "    </tr>\n",
       "    <tr>\n",
       "      <th>10_4010</th>\n",
       "      <th>False</th>\n",
       "      <td>72</td>\n",
       "      <td>72</td>\n",
       "      <td>72</td>\n",
       "      <td>72</td>\n",
       "      <td>72</td>\n",
       "      <td>72</td>\n",
       "      <td>72</td>\n",
       "      <td>72</td>\n",
       "      <td>72</td>\n",
       "      <td>72</td>\n",
       "      <td>72</td>\n",
       "      <td>72</td>\n",
       "      <td>72</td>\n",
       "    </tr>\n",
       "    <tr>\n",
       "      <th>10_4043</th>\n",
       "      <th>False</th>\n",
       "      <td>69</td>\n",
       "      <td>69</td>\n",
       "      <td>69</td>\n",
       "      <td>69</td>\n",
       "      <td>69</td>\n",
       "      <td>69</td>\n",
       "      <td>69</td>\n",
       "      <td>69</td>\n",
       "      <td>69</td>\n",
       "      <td>69</td>\n",
       "      <td>69</td>\n",
       "      <td>69</td>\n",
       "      <td>69</td>\n",
       "    </tr>\n",
       "    <tr>\n",
       "      <th>10_4056</th>\n",
       "      <th>False</th>\n",
       "      <td>71</td>\n",
       "      <td>71</td>\n",
       "      <td>71</td>\n",
       "      <td>71</td>\n",
       "      <td>71</td>\n",
       "      <td>71</td>\n",
       "      <td>71</td>\n",
       "      <td>71</td>\n",
       "      <td>71</td>\n",
       "      <td>71</td>\n",
       "      <td>71</td>\n",
       "      <td>71</td>\n",
       "      <td>71</td>\n",
       "    </tr>\n",
       "    <tr>\n",
       "      <th>...</th>\n",
       "      <th>...</th>\n",
       "      <td>...</td>\n",
       "      <td>...</td>\n",
       "      <td>...</td>\n",
       "      <td>...</td>\n",
       "      <td>...</td>\n",
       "      <td>...</td>\n",
       "      <td>...</td>\n",
       "      <td>...</td>\n",
       "      <td>...</td>\n",
       "      <td>...</td>\n",
       "      <td>...</td>\n",
       "      <td>...</td>\n",
       "      <td>...</td>\n",
       "    </tr>\n",
       "    <tr>\n",
       "      <th rowspan=\"2\" valign=\"top\">9_4254</th>\n",
       "      <th>False</th>\n",
       "      <td>58</td>\n",
       "      <td>58</td>\n",
       "      <td>58</td>\n",
       "      <td>58</td>\n",
       "      <td>58</td>\n",
       "      <td>58</td>\n",
       "      <td>58</td>\n",
       "      <td>58</td>\n",
       "      <td>58</td>\n",
       "      <td>58</td>\n",
       "      <td>58</td>\n",
       "      <td>58</td>\n",
       "      <td>58</td>\n",
       "    </tr>\n",
       "    <tr>\n",
       "      <th>True</th>\n",
       "      <td>2</td>\n",
       "      <td>2</td>\n",
       "      <td>2</td>\n",
       "      <td>2</td>\n",
       "      <td>2</td>\n",
       "      <td>2</td>\n",
       "      <td>2</td>\n",
       "      <td>2</td>\n",
       "      <td>2</td>\n",
       "      <td>2</td>\n",
       "      <td>2</td>\n",
       "      <td>2</td>\n",
       "      <td>2</td>\n",
       "    </tr>\n",
       "    <tr>\n",
       "      <th>9_4263</th>\n",
       "      <th>False</th>\n",
       "      <td>60</td>\n",
       "      <td>60</td>\n",
       "      <td>60</td>\n",
       "      <td>60</td>\n",
       "      <td>60</td>\n",
       "      <td>60</td>\n",
       "      <td>60</td>\n",
       "      <td>60</td>\n",
       "      <td>60</td>\n",
       "      <td>60</td>\n",
       "      <td>60</td>\n",
       "      <td>60</td>\n",
       "      <td>60</td>\n",
       "    </tr>\n",
       "    <tr>\n",
       "      <th>9_4283</th>\n",
       "      <th>False</th>\n",
       "      <td>60</td>\n",
       "      <td>60</td>\n",
       "      <td>60</td>\n",
       "      <td>60</td>\n",
       "      <td>60</td>\n",
       "      <td>60</td>\n",
       "      <td>60</td>\n",
       "      <td>60</td>\n",
       "      <td>60</td>\n",
       "      <td>60</td>\n",
       "      <td>60</td>\n",
       "      <td>60</td>\n",
       "      <td>60</td>\n",
       "    </tr>\n",
       "    <tr>\n",
       "      <th>9_4343</th>\n",
       "      <th>False</th>\n",
       "      <td>60</td>\n",
       "      <td>60</td>\n",
       "      <td>60</td>\n",
       "      <td>60</td>\n",
       "      <td>60</td>\n",
       "      <td>60</td>\n",
       "      <td>60</td>\n",
       "      <td>60</td>\n",
       "      <td>60</td>\n",
       "      <td>60</td>\n",
       "      <td>60</td>\n",
       "      <td>60</td>\n",
       "      <td>60</td>\n",
       "    </tr>\n",
       "  </tbody>\n",
       "</table>\n",
       "<p>666 rows × 13 columns</p>\n",
       "</div>"
      ],
      "text/plain": [
       "                  name  series  row  col  width  height  GS_mean  Labels  \\\n",
       "panel_id Crack A                                                           \n",
       "10_3943  False      72      72   72   72     72      72       72      72   \n",
       "10_4000  False      72      72   72   72     72      72       72      72   \n",
       "10_4010  False      72      72   72   72     72      72       72      72   \n",
       "10_4043  False      69      69   69   69     69      69       69      69   \n",
       "10_4056  False      71      71   71   71     71      71       71      71   \n",
       "...                ...     ...  ...  ...    ...     ...      ...     ...   \n",
       "9_4254   False      58      58   58   58     58      58       58      58   \n",
       "         True        2       2    2    2      2       2        2       2   \n",
       "9_4263   False      60      60   60   60     60      60       60      60   \n",
       "9_4283   False      60      60   60   60     60      60       60      60   \n",
       "9_4343   False      60      60   60   60     60      60       60      60   \n",
       "\n",
       "                  instance_count  Finger Failure  Crack B  Crack C  is_fault  \n",
       "panel_id Crack A                                                              \n",
       "10_3943  False                72              72       72       72        72  \n",
       "10_4000  False                72              72       72       72        72  \n",
       "10_4010  False                72              72       72       72        72  \n",
       "10_4043  False                69              69       69       69        69  \n",
       "10_4056  False                71              71       71       71        71  \n",
       "...                          ...             ...      ...      ...       ...  \n",
       "9_4254   False                58              58       58       58        58  \n",
       "         True                  2               2        2        2         2  \n",
       "9_4263   False                60              60       60       60        60  \n",
       "9_4283   False                60              60       60       60        60  \n",
       "9_4343   False                60              60       60       60        60  \n",
       "\n",
       "[666 rows x 13 columns]"
      ]
     },
     "execution_count": 53,
     "metadata": {},
     "output_type": "execute_result"
    }
   ],
   "source": [
    "Data_corr.groupby(['panel_id','Crack A']).count()"
   ]
  },
  {
   "cell_type": "code",
   "execution_count": 70,
   "metadata": {},
   "outputs": [],
   "source": [
    "# Instance counting dict \n",
    "panel_stats = {pid: {'Crack A':0,'Crack B':0,'Crack C':0,'Finger Failure':0} for pid in Data_corr['panel_id'].unique()}\n",
    "\n",
    "#Loop over df.\n",
    "for i, row in Data_corr.iterrows():\n",
    "    panel_id = row['panel_id']\n",
    "    \n",
    "    ff = row['Finger Failure']\n",
    "    CA = row['Crack A']\n",
    "    CB = row['Crack B']\n",
    "    CC = row['Crack C']\n",
    "    \n",
    "    panel_stats[panel_id]['Finger Failure'] += ff\n",
    "    panel_stats[panel_id]['Crack A'] += CA\n",
    "    panel_stats[panel_id]['Crack B'] += CB\n",
    "    panel_stats[panel_id]['Crack C'] += CC\n",
    "    "
   ]
  },
  {
   "cell_type": "code",
   "execution_count": 74,
   "metadata": {},
   "outputs": [],
   "source": [
    "# Count how many panels each defect is distributed over: \n",
    "fault_panels = {'Crack A':0,'Crack B':0,'Crack C':0,'Finger Failure':0} # This dict counts the unique panels the fault is contained in\n",
    "is_fault_panels = 0\n",
    "for key in panel_stats.keys():\n",
    "    CA = panel_stats[key]['Crack A']\n",
    "    CB = panel_stats[key]['Crack B']\n",
    "    CC = panel_stats[key]['Crack C']\n",
    "    FF = panel_stats[key]['Finger Failure']\n",
    "    \n",
    "    if CA > 0: \n",
    "        fault_panels['Crack A'] += 1\n",
    "    \n",
    "    if CB > 0: \n",
    "        fault_panels['Crack B'] += 1\n",
    "    \n",
    "    if CC > 0: \n",
    "        fault_panels['Crack C'] += 1\n",
    "    \n",
    "    if FF > 0: \n",
    "        fault_panels['Finger Failure'] += 1\n",
    "    \n",
    "    if CA or CB or CC or FF: \n",
    "        is_fault_panels += 1\n",
    "    "
   ]
  },
  {
   "cell_type": "code",
   "execution_count": 75,
   "metadata": {},
   "outputs": [
    {
     "data": {
      "text/plain": [
       "{'Crack A': 81, 'Crack B': 112, 'Crack C': 67, 'Finger Failure': 162}"
      ]
     },
     "execution_count": 75,
     "metadata": {},
     "output_type": "execute_result"
    }
   ],
   "source": [
    "fault_panels"
   ]
  },
  {
   "cell_type": "code",
   "execution_count": 76,
   "metadata": {},
   "outputs": [
    {
     "data": {
      "text/plain": [
       "275"
      ]
     },
     "execution_count": 76,
     "metadata": {},
     "output_type": "execute_result"
    }
   ],
   "source": [
    "is_fault_panels"
   ]
  },
  {
   "cell_type": "code",
   "execution_count": null,
   "metadata": {},
   "outputs": [],
   "source": []
  },
  {
   "cell_type": "code",
   "execution_count": null,
   "metadata": {},
   "outputs": [],
   "source": []
  },
  {
   "cell_type": "code",
   "execution_count": null,
   "metadata": {},
   "outputs": [],
   "source": []
  }
 ],
 "metadata": {
  "kernelspec": {
   "display_name": "Python 3 (ipykernel)",
   "language": "python",
   "name": "python3"
  },
  "language_info": {
   "codemirror_mode": {
    "name": "ipython",
    "version": 3
   },
   "file_extension": ".py",
   "mimetype": "text/x-python",
   "name": "python",
   "nbconvert_exporter": "python",
   "pygments_lexer": "ipython3",
   "version": "3.10.9"
  }
 },
 "nbformat": 4,
 "nbformat_minor": 1
}
