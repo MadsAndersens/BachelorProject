{
 "cells": [
  {
   "cell_type": "markdown",
   "id": "f15fc76e",
   "metadata": {},
   "source": [
    "# PVLead data creation notebook "
   ]
  },
  {
   "cell_type": "code",
   "execution_count": 37,
   "id": "779fe616",
   "metadata": {},
   "outputs": [],
   "source": [
    "import pandas as pd \n",
    "import xml.etree.ElementTree as ET"
   ]
  },
  {
   "cell_type": "code",
   "execution_count": 5,
   "id": "ef5af139",
   "metadata": {},
   "outputs": [],
   "source": [
    "new_dir = \"/Users/madsandersen/PycharmProjects/BscProjektData/BachelorProject/Data/PVELAD\"\n",
    "os.chdir(new_dir)"
   ]
  },
  {
   "cell_type": "code",
   "execution_count": 6,
   "id": "6eb967d1",
   "metadata": {},
   "outputs": [
    {
     "data": {
      "text/plain": [
       "['trainval', '.DS_Store', 'test', 'othertypes', 'annotation_classes.txt']"
      ]
     },
     "execution_count": 6,
     "metadata": {},
     "output_type": "execute_result"
    }
   ],
   "source": [
    "os.listdir()"
   ]
  },
  {
   "cell_type": "code",
   "execution_count": 7,
   "id": "589d2235",
   "metadata": {},
   "outputs": [
    {
     "name": "stdout",
     "output_type": "stream",
     "text": [
      "Folders created successfully!\n"
     ]
    }
   ],
   "source": [
    "file_path = 'annotation_classes.txt'\n",
    "with open(file_path, 'r') as file:\n",
    "    folder_names = file.read().splitlines()\n",
    "\n",
    "# Create folders based on the list of names\n",
    "for folder_name in folder_names:\n",
    "    folder_path = os.path.join(os.getcwd(), folder_name)  # Construct the full path\n",
    "    os.makedirs(folder_path, exist_ok=True)  # Create the folder\n",
    "\n",
    "print(\"Folders created successfully!\")"
   ]
  },
  {
   "cell_type": "code",
   "execution_count": 8,
   "id": "b952a45e",
   "metadata": {},
   "outputs": [],
   "source": [
    "def extract_info_from_xml(xml_file):\n",
    "    # Parse the XML file\n",
    "    tree = ET.parse(xml_file)\n",
    "    root = tree.getroot()\n",
    "\n",
    "    # Extract filename\n",
    "    filename = root.find('filename').text\n",
    "\n",
    "    # Extract object name and bounding box\n",
    "    object_elem = root.find('object')\n",
    "    name = object_elem.find('name').text\n",
    "    bndbox_elem = object_elem.find('bndbox')\n",
    "    bndbox = {\n",
    "        'xmin': int(bndbox_elem.find('xmin').text),\n",
    "        'ymin': int(bndbox_elem.find('ymin').text),\n",
    "        'xmax': int(bndbox_elem.find('xmax').text),\n",
    "        'ymax': int(bndbox_elem.find('ymax').text)\n",
    "    }\n",
    "\n",
    "    return filename, name, bndbox"
   ]
  },
  {
   "cell_type": "code",
   "execution_count": 12,
   "id": "edd7287e",
   "metadata": {},
   "outputs": [
    {
     "data": {
      "text/plain": [
       "('img000001.jpg',\n",
       " 'black_core',\n",
       " {'xmin': 47, 'ymin': 69, 'xmax': 961, 'ymax': 967})"
      ]
     },
     "execution_count": 12,
     "metadata": {},
     "output_type": "execute_result"
    }
   ],
   "source": [
    "xml_file_path = \"trainval/Annotations/img000001.xml\"\n",
    "extract_info_from_xml(xml_file_path)"
   ]
  },
  {
   "cell_type": "markdown",
   "id": "08788c5c",
   "metadata": {},
   "source": [
    "### Add the defects to a dataset "
   ]
  },
  {
   "cell_type": "code",
   "execution_count": 53,
   "id": "0fc54700",
   "metadata": {},
   "outputs": [],
   "source": [
    "directory = os.listdir('trainval/Annotations')\n",
    "data = []\n",
    "for xml_file in directory:\n",
    "    root = 'trainval/Annotations/'\n",
    "    filename,defect,bbox = extract_info_from_xml(root + xml_file)\n",
    "    data.append({'file_name':filename,\n",
    "                 'defect':defect,\n",
    "                 'xmin': bbox['xmin'],\n",
    "                 'ymin': bbox['ymin'],\n",
    "                 'xmax': bbox['xmax'],\n",
    "                 'ymax': bbox['ymax']})"
   ]
  },
  {
   "cell_type": "markdown",
   "id": "fe351a22",
   "metadata": {},
   "source": [
    "### Add the non-defects to the data-set"
   ]
  },
  {
   "cell_type": "code",
   "execution_count": 47,
   "id": "45616564",
   "metadata": {},
   "outputs": [],
   "source": [
    "directory = os.listdir('othertypes/good')\n",
    "for img_file in directory:\n",
    "    filename,defect,bbox = img_file,'Negative',{'xmin': None, 'ymin': None, 'xmax': None, 'ymax': None}\n",
    "    data.append({'file_name':img_file,\n",
    "                 'defect':defect,\n",
    "                 'xmin': None,\n",
    "                 'ymin': None,\n",
    "                 'xmax': None,\n",
    "                 'ymax': None})"
   ]
  },
  {
   "cell_type": "code",
   "execution_count": 54,
   "id": "feb95582",
   "metadata": {},
   "outputs": [],
   "source": [
    "df = pd.DataFrame(data)\n",
    "df.to_csv('PVLEAD_dataset.csv')"
   ]
  },
  {
   "cell_type": "code",
   "execution_count": 51,
   "id": "f28d483f",
   "metadata": {},
   "outputs": [],
   "source": [
    "def resize_images(input_folder, output_folder, target_size):\n",
    "    # Loop through images in the input folder\n",
    "    for filename in os.listdir(input_folder):\n",
    "        if filename.endswith(('.jpg', '.jpeg', '.png')):\n",
    "            image_path = os.path.join(input_folder, filename)\n",
    "            output_path = os.path.join(output_folder, filename)\n",
    "\n",
    "            # Open the image\n",
    "            image = Image.open(image_path)\n",
    "\n",
    "            # Resize the image\n",
    "            resized_image = image.resize(target_size)\n",
    "\n",
    "            # Save the resized image\n",
    "            resized_image.save(output_path)\n",
    "\n",
    "            #print(f\"Resized image '{filename}' saved to '{output_folder}'.\")"
   ]
  },
  {
   "cell_type": "code",
   "execution_count": 52,
   "id": "16216c42",
   "metadata": {},
   "outputs": [],
   "source": [
    "# Example usage:\n",
    "input_folder_path = \"trainval/JPEGImages\"\n",
    "output_folder_path = \"PVLEAD_Defects/JPEGImages\"\n",
    "target_size = (320, 320)\n",
    "\n",
    "resize_images(input_folder_path, output_folder_path, target_size)"
   ]
  },
  {
   "cell_type": "code",
   "execution_count": 67,
   "id": "79136ea4",
   "metadata": {},
   "outputs": [
    {
     "data": {
      "text/plain": [
       "4500"
      ]
     },
     "execution_count": 67,
     "metadata": {},
     "output_type": "execute_result"
    }
   ],
   "source": [
    "len(df)"
   ]
  },
  {
   "cell_type": "markdown",
   "id": "3fb03be3",
   "metadata": {},
   "source": [
    "##### im = Image.open('PVLEAD_Defects/JPEGImages/img001445.jpg')\n",
    "(torchvision.transforms.ToTensor()(im))"
   ]
  },
  {
   "cell_type": "code",
   "execution_count": null,
   "id": "e8cd1cf5",
   "metadata": {},
   "outputs": [],
   "source": []
  }
 ],
 "metadata": {
  "kernelspec": {
   "display_name": "Python 3 (ipykernel)",
   "language": "python",
   "name": "python3"
  },
  "language_info": {
   "codemirror_mode": {
    "name": "ipython",
    "version": 3
   },
   "file_extension": ".py",
   "mimetype": "text/x-python",
   "name": "python",
   "nbconvert_exporter": "python",
   "pygments_lexer": "ipython3",
   "version": "3.10.9"
  }
 },
 "nbformat": 4,
 "nbformat_minor": 5
}
