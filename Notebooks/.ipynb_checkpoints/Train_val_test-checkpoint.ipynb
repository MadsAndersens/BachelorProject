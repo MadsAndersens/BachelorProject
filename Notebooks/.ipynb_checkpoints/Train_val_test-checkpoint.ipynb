{
 "cells": [
  {
   "cell_type": "code",
   "execution_count": 6,
   "metadata": {},
   "outputs": [],
   "source": [
    "import pandas as pd\n",
    "#from fast_ml.model_development import train_valid_test_split\n",
    "from sklearn.model_selection import train_test_split\n",
    "import ast\n",
    "import seaborn as sns\n",
    "import matplotlib.pyplot as plt\n",
    "import os "
   ]
  },
  {
   "cell_type": "markdown",
   "metadata": {},
   "source": [
    "## Test "
   ]
  },
  {
   "cell_type": "code",
   "execution_count": 7,
   "metadata": {},
   "outputs": [
    {
     "ename": "NameError",
     "evalue": "name 'series' is not defined",
     "output_type": "error",
     "traceback": [
      "\u001b[0;31m---------------------------------------------------------------------------\u001b[0m",
      "\u001b[0;31mNameError\u001b[0m                                 Traceback (most recent call last)",
      "Cell \u001b[0;32mIn[7], line 2\u001b[0m\n\u001b[1;32m      1\u001b[0m base_dir \u001b[38;5;241m=\u001b[39m \u001b[38;5;124m'\u001b[39m\u001b[38;5;124m/Users/madsandersen/PycharmProjects/BscProjektData\u001b[39m\u001b[38;5;124m'\u001b[39m\n\u001b[0;32m----> 2\u001b[0m gt_dirs \u001b[38;5;241m=\u001b[39m os\u001b[38;5;241m.\u001b[39mlistdir(\u001b[38;5;124mf\u001b[39m\u001b[38;5;124m'\u001b[39m\u001b[38;5;132;01m{\u001b[39;00mbase_dir\u001b[38;5;132;01m}\u001b[39;00m\u001b[38;5;124m/BachelorProject/Data/VitusData/Serier/\u001b[39m\u001b[38;5;132;01m{\u001b[39;00m\u001b[43mseries\u001b[49m\u001b[38;5;132;01m}\u001b[39;00m\u001b[38;5;124m/MaskGT\u001b[39m\u001b[38;5;124m'\u001b[39m)\n",
      "\u001b[0;31mNameError\u001b[0m: name 'series' is not defined"
     ]
    }
   ],
   "source": [
    "base_dir = '/Users/madsandersen/PycharmProjects/BscProjektData'\n",
    "gt_dirs = os.listdir(f'{base_dir}/BachelorProject/Data/VitusData/Serier/{series}/MaskGT')"
   ]
  },
  {
   "cell_type": "code",
   "execution_count": 4,
   "metadata": {},
   "outputs": [
    {
     "data": {
      "text/html": [
       "<div>\n",
       "<style scoped>\n",
       "    .dataframe tbody tr th:only-of-type {\n",
       "        vertical-align: middle;\n",
       "    }\n",
       "\n",
       "    .dataframe tbody tr th {\n",
       "        vertical-align: top;\n",
       "    }\n",
       "\n",
       "    .dataframe thead th {\n",
       "        text-align: right;\n",
       "    }\n",
       "</style>\n",
       "<table border=\"1\" class=\"dataframe\">\n",
       "  <thead>\n",
       "    <tr style=\"text-align: right;\">\n",
       "      <th></th>\n",
       "      <th>name</th>\n",
       "      <th>series</th>\n",
       "      <th>panel_id</th>\n",
       "      <th>row</th>\n",
       "      <th>col</th>\n",
       "      <th>width</th>\n",
       "      <th>height</th>\n",
       "      <th>GS_mean</th>\n",
       "    </tr>\n",
       "  </thead>\n",
       "  <tbody>\n",
       "    <tr>\n",
       "      <th>0</th>\n",
       "      <td>Serie_1_ImageCorr_-10_4081_Cell_Row10_Col_1</td>\n",
       "      <td>1</td>\n",
       "      <td>10_4081</td>\n",
       "      <td>10</td>\n",
       "      <td>1</td>\n",
       "      <td>323</td>\n",
       "      <td>323</td>\n",
       "      <td>0.494703</td>\n",
       "    </tr>\n",
       "    <tr>\n",
       "      <th>1</th>\n",
       "      <td>Serie_1_ImageCorr_-10_4081_Cell_Row10_Col_2</td>\n",
       "      <td>1</td>\n",
       "      <td>10_4081</td>\n",
       "      <td>10</td>\n",
       "      <td>2</td>\n",
       "      <td>324</td>\n",
       "      <td>323</td>\n",
       "      <td>0.426713</td>\n",
       "    </tr>\n",
       "    <tr>\n",
       "      <th>2</th>\n",
       "      <td>Serie_1_ImageCorr_-10_4081_Cell_Row10_Col_3</td>\n",
       "      <td>1</td>\n",
       "      <td>10_4081</td>\n",
       "      <td>10</td>\n",
       "      <td>3</td>\n",
       "      <td>325</td>\n",
       "      <td>323</td>\n",
       "      <td>0.535716</td>\n",
       "    </tr>\n",
       "    <tr>\n",
       "      <th>3</th>\n",
       "      <td>Serie_1_ImageCorr_-10_4081_Cell_Row10_Col_4</td>\n",
       "      <td>1</td>\n",
       "      <td>10_4081</td>\n",
       "      <td>10</td>\n",
       "      <td>4</td>\n",
       "      <td>324</td>\n",
       "      <td>323</td>\n",
       "      <td>0.476981</td>\n",
       "    </tr>\n",
       "    <tr>\n",
       "      <th>4</th>\n",
       "      <td>Serie_1_ImageCorr_-10_4081_Cell_Row10_Col_5</td>\n",
       "      <td>1</td>\n",
       "      <td>10_4081</td>\n",
       "      <td>10</td>\n",
       "      <td>5</td>\n",
       "      <td>323</td>\n",
       "      <td>323</td>\n",
       "      <td>0.468487</td>\n",
       "    </tr>\n",
       "    <tr>\n",
       "      <th>...</th>\n",
       "      <td>...</td>\n",
       "      <td>...</td>\n",
       "      <td>...</td>\n",
       "      <td>...</td>\n",
       "      <td>...</td>\n",
       "      <td>...</td>\n",
       "      <td>...</td>\n",
       "      <td>...</td>\n",
       "    </tr>\n",
       "    <tr>\n",
       "      <th>36056</th>\n",
       "      <td>Serie_6_ImageCorr_-9_4283_PC_Cell_Row9_Col_2</td>\n",
       "      <td>6</td>\n",
       "      <td>9_4283</td>\n",
       "      <td>9</td>\n",
       "      <td>2</td>\n",
       "      <td>302</td>\n",
       "      <td>300</td>\n",
       "      <td>0.415072</td>\n",
       "    </tr>\n",
       "    <tr>\n",
       "      <th>36057</th>\n",
       "      <td>Serie_6_ImageCorr_-9_4283_PC_Cell_Row9_Col_3</td>\n",
       "      <td>6</td>\n",
       "      <td>9_4283</td>\n",
       "      <td>9</td>\n",
       "      <td>3</td>\n",
       "      <td>302</td>\n",
       "      <td>300</td>\n",
       "      <td>0.550505</td>\n",
       "    </tr>\n",
       "    <tr>\n",
       "      <th>36058</th>\n",
       "      <td>Serie_6_ImageCorr_-9_4283_PC_Cell_Row9_Col_4</td>\n",
       "      <td>6</td>\n",
       "      <td>9_4283</td>\n",
       "      <td>9</td>\n",
       "      <td>4</td>\n",
       "      <td>302</td>\n",
       "      <td>300</td>\n",
       "      <td>0.638767</td>\n",
       "    </tr>\n",
       "    <tr>\n",
       "      <th>36059</th>\n",
       "      <td>Serie_6_ImageCorr_-9_4283_PC_Cell_Row9_Col_5</td>\n",
       "      <td>6</td>\n",
       "      <td>9_4283</td>\n",
       "      <td>9</td>\n",
       "      <td>5</td>\n",
       "      <td>303</td>\n",
       "      <td>300</td>\n",
       "      <td>0.523925</td>\n",
       "    </tr>\n",
       "    <tr>\n",
       "      <th>36060</th>\n",
       "      <td>Serie_6_ImageCorr_-9_4283_PC_Cell_Row9_Col_6</td>\n",
       "      <td>6</td>\n",
       "      <td>9_4283</td>\n",
       "      <td>9</td>\n",
       "      <td>6</td>\n",
       "      <td>294</td>\n",
       "      <td>300</td>\n",
       "      <td>0.507093</td>\n",
       "    </tr>\n",
       "  </tbody>\n",
       "</table>\n",
       "<p>36061 rows × 8 columns</p>\n",
       "</div>"
      ],
      "text/plain": [
       "                                               name  series panel_id  row  \\\n",
       "0       Serie_1_ImageCorr_-10_4081_Cell_Row10_Col_1       1  10_4081   10   \n",
       "1       Serie_1_ImageCorr_-10_4081_Cell_Row10_Col_2       1  10_4081   10   \n",
       "2       Serie_1_ImageCorr_-10_4081_Cell_Row10_Col_3       1  10_4081   10   \n",
       "3       Serie_1_ImageCorr_-10_4081_Cell_Row10_Col_4       1  10_4081   10   \n",
       "4       Serie_1_ImageCorr_-10_4081_Cell_Row10_Col_5       1  10_4081   10   \n",
       "...                                             ...     ...      ...  ...   \n",
       "36056  Serie_6_ImageCorr_-9_4283_PC_Cell_Row9_Col_2       6   9_4283    9   \n",
       "36057  Serie_6_ImageCorr_-9_4283_PC_Cell_Row9_Col_3       6   9_4283    9   \n",
       "36058  Serie_6_ImageCorr_-9_4283_PC_Cell_Row9_Col_4       6   9_4283    9   \n",
       "36059  Serie_6_ImageCorr_-9_4283_PC_Cell_Row9_Col_5       6   9_4283    9   \n",
       "36060  Serie_6_ImageCorr_-9_4283_PC_Cell_Row9_Col_6       6   9_4283    9   \n",
       "\n",
       "       col  width  height   GS_mean  \n",
       "0        1    323     323  0.494703  \n",
       "1        2    324     323  0.426713  \n",
       "2        3    325     323  0.535716  \n",
       "3        4    324     323  0.476981  \n",
       "4        5    323     323  0.468487  \n",
       "...    ...    ...     ...       ...  \n",
       "36056    2    302     300  0.415072  \n",
       "36057    3    302     300  0.550505  \n",
       "36058    4    302     300  0.638767  \n",
       "36059    5    303     300  0.523925  \n",
       "36060    6    294     300  0.507093  \n",
       "\n",
       "[36061 rows x 8 columns]"
      ]
     },
     "execution_count": 4,
     "metadata": {},
     "output_type": "execute_result"
    }
   ],
   "source": [
    "pd.read_csv('/Users/madsandersen/PycharmProjects/BscProjektData/BachelorProject/Data/VitusData/EL_data_filtered.csv')"
   ]
  },
  {
   "cell_type": "code",
   "execution_count": null,
   "metadata": {},
   "outputs": [],
   "source": []
  },
  {
   "cell_type": "markdown",
   "metadata": {},
   "source": [
    "## Actual splitting"
   ]
  },
  {
   "cell_type": "code",
   "execution_count": 2,
   "metadata": {},
   "outputs": [],
   "source": [
    "data = pd.read_csv('data/VitusData/DataSet.csv')"
   ]
  },
  {
   "cell_type": "code",
   "execution_count": 3,
   "metadata": {},
   "outputs": [
    {
     "data": {
      "text/plain": [
       "21631"
      ]
     },
     "execution_count": 3,
     "metadata": {},
     "output_type": "execute_result"
    }
   ],
   "source": [
    "len(data)"
   ]
  },
  {
   "cell_type": "code",
   "execution_count": 4,
   "metadata": {},
   "outputs": [],
   "source": [
    "data['MaskDir'] = data['MaskDir'].astype(str)"
   ]
  },
  {
   "cell_type": "code",
   "execution_count": 5,
   "metadata": {},
   "outputs": [
    {
     "data": {
      "text/html": [
       "<div>\n",
       "<style scoped>\n",
       "    .dataframe tbody tr th:only-of-type {\n",
       "        vertical-align: middle;\n",
       "    }\n",
       "\n",
       "    .dataframe tbody tr th {\n",
       "        vertical-align: top;\n",
       "    }\n",
       "\n",
       "    .dataframe thead th {\n",
       "        text-align: right;\n",
       "    }\n",
       "</style>\n",
       "<table border=\"1\" class=\"dataframe\">\n",
       "  <thead>\n",
       "    <tr style=\"text-align: right;\">\n",
       "      <th></th>\n",
       "      <th>Unnamed: 0</th>\n",
       "      <th>ImageDir</th>\n",
       "      <th>Label</th>\n",
       "      <th>MaskDir</th>\n",
       "      <th>is_fault</th>\n",
       "    </tr>\n",
       "  </thead>\n",
       "  <tbody>\n",
       "    <tr>\n",
       "      <th>0</th>\n",
       "      <td>14440</td>\n",
       "      <td>VitusData/Serier/Series3/CellsCorr/Serie_3_Ima...</td>\n",
       "      <td>['Negative']</td>\n",
       "      <td>nan</td>\n",
       "      <td>False</td>\n",
       "    </tr>\n",
       "    <tr>\n",
       "      <th>1</th>\n",
       "      <td>22593</td>\n",
       "      <td>VitusData/Serier/Series4/CellsCorr/Serie_4_Ima...</td>\n",
       "      <td>['Negative']</td>\n",
       "      <td>nan</td>\n",
       "      <td>False</td>\n",
       "    </tr>\n",
       "    <tr>\n",
       "      <th>2</th>\n",
       "      <td>21901</td>\n",
       "      <td>VitusData/Serier/Series4/CellsCorr/Serie_4_Ima...</td>\n",
       "      <td>['Negative']</td>\n",
       "      <td>nan</td>\n",
       "      <td>False</td>\n",
       "    </tr>\n",
       "    <tr>\n",
       "      <th>3</th>\n",
       "      <td>17351</td>\n",
       "      <td>VitusData/Serier/Series4/CellsCorr/Serie_4_Ima...</td>\n",
       "      <td>['Negative']</td>\n",
       "      <td>nan</td>\n",
       "      <td>False</td>\n",
       "    </tr>\n",
       "    <tr>\n",
       "      <th>4</th>\n",
       "      <td>1136</td>\n",
       "      <td>VitusData/Serier/Series1/CellsCorr/Serie_1_Ima...</td>\n",
       "      <td>['Negative']</td>\n",
       "      <td>nan</td>\n",
       "      <td>False</td>\n",
       "    </tr>\n",
       "    <tr>\n",
       "      <th>...</th>\n",
       "      <td>...</td>\n",
       "      <td>...</td>\n",
       "      <td>...</td>\n",
       "      <td>...</td>\n",
       "      <td>...</td>\n",
       "    </tr>\n",
       "    <tr>\n",
       "      <th>21626</th>\n",
       "      <td>1458</td>\n",
       "      <td>VitusData/Serier/Series1/CellsCorr/Serie_1_Ima...</td>\n",
       "      <td>['Negative']</td>\n",
       "      <td>nan</td>\n",
       "      <td>False</td>\n",
       "    </tr>\n",
       "    <tr>\n",
       "      <th>21627</th>\n",
       "      <td>16631</td>\n",
       "      <td>VitusData/Serier/Series3/CellsCorr/Serie_3_Ima...</td>\n",
       "      <td>['Negative']</td>\n",
       "      <td>nan</td>\n",
       "      <td>False</td>\n",
       "    </tr>\n",
       "    <tr>\n",
       "      <th>21628</th>\n",
       "      <td>8845</td>\n",
       "      <td>VitusData/Serier/Series2/CellsCorr/Serie_2_Ima...</td>\n",
       "      <td>['Negative']</td>\n",
       "      <td>nan</td>\n",
       "      <td>False</td>\n",
       "    </tr>\n",
       "    <tr>\n",
       "      <th>21629</th>\n",
       "      <td>3391</td>\n",
       "      <td>VitusData/Serier/Series1/CellsCorr/Serie_1_Ima...</td>\n",
       "      <td>['Negative']</td>\n",
       "      <td>nan</td>\n",
       "      <td>False</td>\n",
       "    </tr>\n",
       "    <tr>\n",
       "      <th>21630</th>\n",
       "      <td>9684</td>\n",
       "      <td>VitusData/Serier/Series2/CellsCorr/Serie_2_Ima...</td>\n",
       "      <td>['Negative']</td>\n",
       "      <td>nan</td>\n",
       "      <td>False</td>\n",
       "    </tr>\n",
       "  </tbody>\n",
       "</table>\n",
       "<p>21631 rows × 5 columns</p>\n",
       "</div>"
      ],
      "text/plain": [
       "       Unnamed: 0                                           ImageDir  \\\n",
       "0           14440  VitusData/Serier/Series3/CellsCorr/Serie_3_Ima...   \n",
       "1           22593  VitusData/Serier/Series4/CellsCorr/Serie_4_Ima...   \n",
       "2           21901  VitusData/Serier/Series4/CellsCorr/Serie_4_Ima...   \n",
       "3           17351  VitusData/Serier/Series4/CellsCorr/Serie_4_Ima...   \n",
       "4            1136  VitusData/Serier/Series1/CellsCorr/Serie_1_Ima...   \n",
       "...           ...                                                ...   \n",
       "21626        1458  VitusData/Serier/Series1/CellsCorr/Serie_1_Ima...   \n",
       "21627       16631  VitusData/Serier/Series3/CellsCorr/Serie_3_Ima...   \n",
       "21628        8845  VitusData/Serier/Series2/CellsCorr/Serie_2_Ima...   \n",
       "21629        3391  VitusData/Serier/Series1/CellsCorr/Serie_1_Ima...   \n",
       "21630        9684  VitusData/Serier/Series2/CellsCorr/Serie_2_Ima...   \n",
       "\n",
       "              Label MaskDir  is_fault  \n",
       "0      ['Negative']     nan     False  \n",
       "1      ['Negative']     nan     False  \n",
       "2      ['Negative']     nan     False  \n",
       "3      ['Negative']     nan     False  \n",
       "4      ['Negative']     nan     False  \n",
       "...             ...     ...       ...  \n",
       "21626  ['Negative']     nan     False  \n",
       "21627  ['Negative']     nan     False  \n",
       "21628  ['Negative']     nan     False  \n",
       "21629  ['Negative']     nan     False  \n",
       "21630  ['Negative']     nan     False  \n",
       "\n",
       "[21631 rows x 5 columns]"
      ]
     },
     "metadata": {},
     "output_type": "display_data"
    }
   ],
   "source": [
    "display(data)"
   ]
  },
  {
   "cell_type": "code",
   "execution_count": 6,
   "metadata": {},
   "outputs": [],
   "source": [
    "data['Label'] = data['Label'].apply(lambda x: ast.literal_eval(x))\n",
    "data['MaskDir'] = data['MaskDir'].apply(lambda x: ast.literal_eval(x) if str(x) != 'nan' else x)"
   ]
  },
  {
   "cell_type": "code",
   "execution_count": 7,
   "metadata": {},
   "outputs": [
    {
     "data": {
      "text/html": [
       "<div>\n",
       "<style scoped>\n",
       "    .dataframe tbody tr th:only-of-type {\n",
       "        vertical-align: middle;\n",
       "    }\n",
       "\n",
       "    .dataframe tbody tr th {\n",
       "        vertical-align: top;\n",
       "    }\n",
       "\n",
       "    .dataframe thead th {\n",
       "        text-align: right;\n",
       "    }\n",
       "</style>\n",
       "<table border=\"1\" class=\"dataframe\">\n",
       "  <thead>\n",
       "    <tr style=\"text-align: right;\">\n",
       "      <th></th>\n",
       "      <th>Unnamed: 0</th>\n",
       "      <th>ImageDir</th>\n",
       "      <th>Label</th>\n",
       "      <th>MaskDir</th>\n",
       "      <th>is_fault</th>\n",
       "    </tr>\n",
       "  </thead>\n",
       "  <tbody>\n",
       "    <tr>\n",
       "      <th>0</th>\n",
       "      <td>14440</td>\n",
       "      <td>VitusData/Serier/Series3/CellsCorr/Serie_3_Ima...</td>\n",
       "      <td>[Negative]</td>\n",
       "      <td>nan</td>\n",
       "      <td>False</td>\n",
       "    </tr>\n",
       "    <tr>\n",
       "      <th>1</th>\n",
       "      <td>22593</td>\n",
       "      <td>VitusData/Serier/Series4/CellsCorr/Serie_4_Ima...</td>\n",
       "      <td>[Negative]</td>\n",
       "      <td>nan</td>\n",
       "      <td>False</td>\n",
       "    </tr>\n",
       "    <tr>\n",
       "      <th>2</th>\n",
       "      <td>21901</td>\n",
       "      <td>VitusData/Serier/Series4/CellsCorr/Serie_4_Ima...</td>\n",
       "      <td>[Negative]</td>\n",
       "      <td>nan</td>\n",
       "      <td>False</td>\n",
       "    </tr>\n",
       "    <tr>\n",
       "      <th>3</th>\n",
       "      <td>17351</td>\n",
       "      <td>VitusData/Serier/Series4/CellsCorr/Serie_4_Ima...</td>\n",
       "      <td>[Negative]</td>\n",
       "      <td>nan</td>\n",
       "      <td>False</td>\n",
       "    </tr>\n",
       "    <tr>\n",
       "      <th>4</th>\n",
       "      <td>1136</td>\n",
       "      <td>VitusData/Serier/Series1/CellsCorr/Serie_1_Ima...</td>\n",
       "      <td>[Negative]</td>\n",
       "      <td>nan</td>\n",
       "      <td>False</td>\n",
       "    </tr>\n",
       "    <tr>\n",
       "      <th>...</th>\n",
       "      <td>...</td>\n",
       "      <td>...</td>\n",
       "      <td>...</td>\n",
       "      <td>...</td>\n",
       "      <td>...</td>\n",
       "    </tr>\n",
       "    <tr>\n",
       "      <th>21626</th>\n",
       "      <td>1458</td>\n",
       "      <td>VitusData/Serier/Series1/CellsCorr/Serie_1_Ima...</td>\n",
       "      <td>[Negative]</td>\n",
       "      <td>nan</td>\n",
       "      <td>False</td>\n",
       "    </tr>\n",
       "    <tr>\n",
       "      <th>21627</th>\n",
       "      <td>16631</td>\n",
       "      <td>VitusData/Serier/Series3/CellsCorr/Serie_3_Ima...</td>\n",
       "      <td>[Negative]</td>\n",
       "      <td>nan</td>\n",
       "      <td>False</td>\n",
       "    </tr>\n",
       "    <tr>\n",
       "      <th>21628</th>\n",
       "      <td>8845</td>\n",
       "      <td>VitusData/Serier/Series2/CellsCorr/Serie_2_Ima...</td>\n",
       "      <td>[Negative]</td>\n",
       "      <td>nan</td>\n",
       "      <td>False</td>\n",
       "    </tr>\n",
       "    <tr>\n",
       "      <th>21629</th>\n",
       "      <td>3391</td>\n",
       "      <td>VitusData/Serier/Series1/CellsCorr/Serie_1_Ima...</td>\n",
       "      <td>[Negative]</td>\n",
       "      <td>nan</td>\n",
       "      <td>False</td>\n",
       "    </tr>\n",
       "    <tr>\n",
       "      <th>21630</th>\n",
       "      <td>9684</td>\n",
       "      <td>VitusData/Serier/Series2/CellsCorr/Serie_2_Ima...</td>\n",
       "      <td>[Negative]</td>\n",
       "      <td>nan</td>\n",
       "      <td>False</td>\n",
       "    </tr>\n",
       "  </tbody>\n",
       "</table>\n",
       "<p>21631 rows × 5 columns</p>\n",
       "</div>"
      ],
      "text/plain": [
       "       Unnamed: 0                                           ImageDir  \\\n",
       "0           14440  VitusData/Serier/Series3/CellsCorr/Serie_3_Ima...   \n",
       "1           22593  VitusData/Serier/Series4/CellsCorr/Serie_4_Ima...   \n",
       "2           21901  VitusData/Serier/Series4/CellsCorr/Serie_4_Ima...   \n",
       "3           17351  VitusData/Serier/Series4/CellsCorr/Serie_4_Ima...   \n",
       "4            1136  VitusData/Serier/Series1/CellsCorr/Serie_1_Ima...   \n",
       "...           ...                                                ...   \n",
       "21626        1458  VitusData/Serier/Series1/CellsCorr/Serie_1_Ima...   \n",
       "21627       16631  VitusData/Serier/Series3/CellsCorr/Serie_3_Ima...   \n",
       "21628        8845  VitusData/Serier/Series2/CellsCorr/Serie_2_Ima...   \n",
       "21629        3391  VitusData/Serier/Series1/CellsCorr/Serie_1_Ima...   \n",
       "21630        9684  VitusData/Serier/Series2/CellsCorr/Serie_2_Ima...   \n",
       "\n",
       "            Label MaskDir  is_fault  \n",
       "0      [Negative]     nan     False  \n",
       "1      [Negative]     nan     False  \n",
       "2      [Negative]     nan     False  \n",
       "3      [Negative]     nan     False  \n",
       "4      [Negative]     nan     False  \n",
       "...           ...     ...       ...  \n",
       "21626  [Negative]     nan     False  \n",
       "21627  [Negative]     nan     False  \n",
       "21628  [Negative]     nan     False  \n",
       "21629  [Negative]     nan     False  \n",
       "21630  [Negative]     nan     False  \n",
       "\n",
       "[21631 rows x 5 columns]"
      ]
     },
     "metadata": {},
     "output_type": "display_data"
    }
   ],
   "source": [
    "display(data)"
   ]
  },
  {
   "cell_type": "code",
   "execution_count": 187,
   "metadata": {},
   "outputs": [],
   "source": [
    "data['ImageDir'] = data['ImageDir'].apply(lambda x: x.split('/')[7:])\n",
    "data['ImageDir'] = data['ImageDir'].apply(lambda x: '/'.join(x))"
   ]
  },
  {
   "cell_type": "code",
   "execution_count": 179,
   "metadata": {},
   "outputs": [],
   "source": [
    "data['MaskDir'] = data['MaskDir'].astype(str)"
   ]
  },
  {
   "cell_type": "code",
   "execution_count": 188,
   "metadata": {},
   "outputs": [
    {
     "data": {
      "text/plain": [
       "0        VitusData/Serier/Series1/CellsCorr/Serie_1_Ima...\n",
       "1        VitusData/Serier/Series1/CellsCorr/Serie_1_Ima...\n",
       "2        VitusData/Serier/Series1/CellsCorr/Serie_1_Ima...\n",
       "3        VitusData/Serier/Series1/CellsCorr/Serie_1_Ima...\n",
       "4        VitusData/Serier/Series1/CellsCorr/Serie_1_Ima...\n",
       "                               ...                        \n",
       "36047    VitusData/Serier/Series6/CellsCorr/Serie_6_Ima...\n",
       "36048    VitusData/Serier/Series6/CellsCorr/Serie_6_Ima...\n",
       "36049    VitusData/Serier/Series6/CellsCorr/Serie_6_Ima...\n",
       "36050    VitusData/Serier/Series6/CellsCorr/Serie_6_Ima...\n",
       "36051    VitusData/Serier/Series6/CellsCorr/Serie_6_Ima...\n",
       "Name: ImageDir, Length: 36052, dtype: object"
      ]
     },
     "metadata": {},
     "output_type": "display_data"
    }
   ],
   "source": [
    "display(data['ImageDir'])"
   ]
  },
  {
   "cell_type": "code",
   "execution_count": 190,
   "metadata": {},
   "outputs": [],
   "source": [
    "data['MaskDir'] = data['MaskDir'].apply(lambda x: [y.split('/')[7:] for y in x] if x != 'nan' else x)\n",
    "data['MaskDir'] = data['MaskDir'].apply(lambda x: ['/'.join(y) for y in x] if x != 'nan' else x)"
   ]
  },
  {
   "cell_type": "code",
   "execution_count": 191,
   "metadata": {},
   "outputs": [
    {
     "data": {
      "text/plain": [
       "'VitusData/Masks/-18_4101_Cell_Row4_Col_3_CrackB_0.png'"
      ]
     },
     "execution_count": 191,
     "metadata": {},
     "output_type": "execute_result"
    }
   ],
   "source": [
    "data['MaskDir'][data['MaskDir'] != 'nan'].iloc[0][0]"
   ]
  },
  {
   "cell_type": "code",
   "execution_count": 192,
   "metadata": {},
   "outputs": [
    {
     "data": {
      "text/html": [
       "<div>\n",
       "<style scoped>\n",
       "    .dataframe tbody tr th:only-of-type {\n",
       "        vertical-align: middle;\n",
       "    }\n",
       "\n",
       "    .dataframe tbody tr th {\n",
       "        vertical-align: top;\n",
       "    }\n",
       "\n",
       "    .dataframe thead th {\n",
       "        text-align: right;\n",
       "    }\n",
       "</style>\n",
       "<table border=\"1\" class=\"dataframe\">\n",
       "  <thead>\n",
       "    <tr style=\"text-align: right;\">\n",
       "      <th></th>\n",
       "      <th>ImageDir</th>\n",
       "      <th>Label</th>\n",
       "      <th>MaskDir</th>\n",
       "    </tr>\n",
       "  </thead>\n",
       "  <tbody>\n",
       "    <tr>\n",
       "      <th>27</th>\n",
       "      <td>VitusData/Serier/Series1/CellsCorr/Serie_1_Ima...</td>\n",
       "      <td>[CrackB]</td>\n",
       "      <td>[VitusData/Masks/-18_4101_Cell_Row4_Col_3_Crac...</td>\n",
       "    </tr>\n",
       "    <tr>\n",
       "      <th>33</th>\n",
       "      <td>VitusData/Serier/Series1/CellsCorr/Serie_1_Ima...</td>\n",
       "      <td>[CrackB, CrackB]</td>\n",
       "      <td>[VitusData/Masks/-19_4101_Cell_Row3_Col_3_Crac...</td>\n",
       "    </tr>\n",
       "    <tr>\n",
       "      <th>41</th>\n",
       "      <td>VitusData/Serier/Series1/CellsCorr/Serie_1_Ima...</td>\n",
       "      <td>[CrackC]</td>\n",
       "      <td>[VitusData/Masks/-2_4107_Cell_Row2_Col_5_Crack...</td>\n",
       "    </tr>\n",
       "    <tr>\n",
       "      <th>52</th>\n",
       "      <td>VitusData/Serier/Series1/CellsCorr/Serie_1_Ima...</td>\n",
       "      <td>[FingerFailure]</td>\n",
       "      <td>[VitusData/Masks/-11_4118_Cell_Row8_Col_4_Fing...</td>\n",
       "    </tr>\n",
       "    <tr>\n",
       "      <th>64</th>\n",
       "      <td>VitusData/Serier/Series1/CellsCorr/Serie_1_Ima...</td>\n",
       "      <td>[CrackA, FingerFailure, FingerFailure]</td>\n",
       "      <td>[VitusData/Masks/-16_4133_Cell_Row2_Col_3_Crac...</td>\n",
       "    </tr>\n",
       "    <tr>\n",
       "      <th>...</th>\n",
       "      <td>...</td>\n",
       "      <td>...</td>\n",
       "      <td>...</td>\n",
       "    </tr>\n",
       "    <tr>\n",
       "      <th>35783</th>\n",
       "      <td>VitusData/Serier/Series6/CellsCorr/Serie_6_Ima...</td>\n",
       "      <td>[CrackC]</td>\n",
       "      <td>[VitusData/Masks/-21_4259_PC_Cell_Row5_Col_6_C...</td>\n",
       "    </tr>\n",
       "    <tr>\n",
       "      <th>35785</th>\n",
       "      <td>VitusData/Serier/Series6/CellsCorr/Serie_6_Ima...</td>\n",
       "      <td>[CrackB]</td>\n",
       "      <td>[VitusData/Masks/-4_4285_PC_Cell_Row3_Col_3_Cr...</td>\n",
       "    </tr>\n",
       "    <tr>\n",
       "      <th>35862</th>\n",
       "      <td>VitusData/Serier/Series6/CellsCorr/Serie_6_Ima...</td>\n",
       "      <td>[CrackC]</td>\n",
       "      <td>[VitusData/Masks/-13_4282_PC_Cell_Row8_Col_3_C...</td>\n",
       "    </tr>\n",
       "    <tr>\n",
       "      <th>35904</th>\n",
       "      <td>VitusData/Serier/Series6/CellsCorr/Serie_6_Ima...</td>\n",
       "      <td>[CrackC]</td>\n",
       "      <td>[VitusData/Masks/-15_4251_PC_Cell_Row5_Col_3_C...</td>\n",
       "    </tr>\n",
       "    <tr>\n",
       "      <th>35987</th>\n",
       "      <td>VitusData/Serier/Series6/CellsCorr/Serie_6_Ima...</td>\n",
       "      <td>[CrackC]</td>\n",
       "      <td>[VitusData/Masks/-22_4279_PC_Cell_Row3_Col_4_C...</td>\n",
       "    </tr>\n",
       "  </tbody>\n",
       "</table>\n",
       "<p>510 rows × 3 columns</p>\n",
       "</div>"
      ],
      "text/plain": [
       "                                                ImageDir  \\\n",
       "27     VitusData/Serier/Series1/CellsCorr/Serie_1_Ima...   \n",
       "33     VitusData/Serier/Series1/CellsCorr/Serie_1_Ima...   \n",
       "41     VitusData/Serier/Series1/CellsCorr/Serie_1_Ima...   \n",
       "52     VitusData/Serier/Series1/CellsCorr/Serie_1_Ima...   \n",
       "64     VitusData/Serier/Series1/CellsCorr/Serie_1_Ima...   \n",
       "...                                                  ...   \n",
       "35783  VitusData/Serier/Series6/CellsCorr/Serie_6_Ima...   \n",
       "35785  VitusData/Serier/Series6/CellsCorr/Serie_6_Ima...   \n",
       "35862  VitusData/Serier/Series6/CellsCorr/Serie_6_Ima...   \n",
       "35904  VitusData/Serier/Series6/CellsCorr/Serie_6_Ima...   \n",
       "35987  VitusData/Serier/Series6/CellsCorr/Serie_6_Ima...   \n",
       "\n",
       "                                        Label  \\\n",
       "27                                   [CrackB]   \n",
       "33                           [CrackB, CrackB]   \n",
       "41                                   [CrackC]   \n",
       "52                            [FingerFailure]   \n",
       "64     [CrackA, FingerFailure, FingerFailure]   \n",
       "...                                       ...   \n",
       "35783                                [CrackC]   \n",
       "35785                                [CrackB]   \n",
       "35862                                [CrackC]   \n",
       "35904                                [CrackC]   \n",
       "35987                                [CrackC]   \n",
       "\n",
       "                                                 MaskDir  \n",
       "27     [VitusData/Masks/-18_4101_Cell_Row4_Col_3_Crac...  \n",
       "33     [VitusData/Masks/-19_4101_Cell_Row3_Col_3_Crac...  \n",
       "41     [VitusData/Masks/-2_4107_Cell_Row2_Col_5_Crack...  \n",
       "52     [VitusData/Masks/-11_4118_Cell_Row8_Col_4_Fing...  \n",
       "64     [VitusData/Masks/-16_4133_Cell_Row2_Col_3_Crac...  \n",
       "...                                                  ...  \n",
       "35783  [VitusData/Masks/-21_4259_PC_Cell_Row5_Col_6_C...  \n",
       "35785  [VitusData/Masks/-4_4285_PC_Cell_Row3_Col_3_Cr...  \n",
       "35862  [VitusData/Masks/-13_4282_PC_Cell_Row8_Col_3_C...  \n",
       "35904  [VitusData/Masks/-15_4251_PC_Cell_Row5_Col_3_C...  \n",
       "35987  [VitusData/Masks/-22_4279_PC_Cell_Row3_Col_4_C...  \n",
       "\n",
       "[510 rows x 3 columns]"
      ]
     },
     "metadata": {},
     "output_type": "display_data"
    }
   ],
   "source": [
    "display(data[data['MaskDir']!= 'nan'])"
   ]
  },
  {
   "cell_type": "code",
   "execution_count": 143,
   "metadata": {},
   "outputs": [
    {
     "data": {
      "text/plain": [
       "{'Negative': 35542,\n",
       " 'CrackB': 292,\n",
       " 'CrackC': 88,\n",
       " 'FingerFailure': 267,\n",
       " 'CrackA': 206}"
      ]
     },
     "metadata": {},
     "output_type": "display_data"
    }
   ],
   "source": [
    "def overview_disease(data):\n",
    "  overview = {}\n",
    "  for findings in data['Label']:\n",
    "    for j in findings:\n",
    "      if j in overview.keys():\n",
    "        overview[j] += 1\n",
    "      else:\n",
    "        overview[j] = 1\n",
    "  return overview\n",
    "overview = overview_disease(data)\n",
    "display(overview)"
   ]
  },
  {
   "cell_type": "code",
   "execution_count": 152,
   "metadata": {},
   "outputs": [
    {
     "data": {
      "text/plain": [
       "(array([0, 1, 2, 3, 4]),\n",
       " [Text(0, 0, 'Negative'),\n",
       "  Text(1, 0, 'CrackB'),\n",
       "  Text(2, 0, 'CrackC'),\n",
       "  Text(3, 0, 'FingerFailure'),\n",
       "  Text(4, 0, 'CrackA')])"
      ]
     },
     "execution_count": 152,
     "metadata": {},
     "output_type": "execute_result"
    },
    {
     "data": {
      "image/png": "[encoded data removed]",
      "text/plain": [
       "<Figure size 1000x500 with 1 Axes>"
      ]
     },
     "metadata": {},
     "output_type": "display_data"
    }
   ],
   "source": [
    "plt.rcParams[\"figure.figsize\"] = (10,5)\n",
    "x = list(overview.keys())\n",
    "y = list(overview.values())\n",
    "sns.barplot(x = x,y = y)\n",
    "plt.title('Distribution of findings')\n",
    "plt.xticks(rotation=45)"
   ]
  },
  {
   "cell_type": "markdown",
   "metadata": {},
   "source": [
    "## Splitting data\n",
    "Stratification er noget bøvl på multilabel, så vi laver en variabel der hedder isfault og stratifier på den i stedet for"
   ]
  },
  {
   "cell_type": "code",
   "execution_count": 193,
   "metadata": {},
   "outputs": [],
   "source": [
    "data['is_fault'] = data['Label'].apply(lambda x: True if x[0] != 'Negative' else False)"
   ]
  },
  {
   "cell_type": "code",
   "execution_count": 194,
   "metadata": {},
   "outputs": [
    {
     "data": {
      "text/html": [
       "<div>\n",
       "<style scoped>\n",
       "    .dataframe tbody tr th:only-of-type {\n",
       "        vertical-align: middle;\n",
       "    }\n",
       "\n",
       "    .dataframe tbody tr th {\n",
       "        vertical-align: top;\n",
       "    }\n",
       "\n",
       "    .dataframe thead th {\n",
       "        text-align: right;\n",
       "    }\n",
       "</style>\n",
       "<table border=\"1\" class=\"dataframe\">\n",
       "  <thead>\n",
       "    <tr style=\"text-align: right;\">\n",
       "      <th></th>\n",
       "      <th>ImageDir</th>\n",
       "      <th>Label</th>\n",
       "      <th>MaskDir</th>\n",
       "      <th>is_fault</th>\n",
       "    </tr>\n",
       "  </thead>\n",
       "  <tbody>\n",
       "    <tr>\n",
       "      <th>0</th>\n",
       "      <td>VitusData/Serier/Series1/CellsCorr/Serie_1_Ima...</td>\n",
       "      <td>[Negative]</td>\n",
       "      <td>nan</td>\n",
       "      <td>False</td>\n",
       "    </tr>\n",
       "    <tr>\n",
       "      <th>1</th>\n",
       "      <td>VitusData/Serier/Series1/CellsCorr/Serie_1_Ima...</td>\n",
       "      <td>[Negative]</td>\n",
       "      <td>nan</td>\n",
       "      <td>False</td>\n",
       "    </tr>\n",
       "    <tr>\n",
       "      <th>2</th>\n",
       "      <td>VitusData/Serier/Series1/CellsCorr/Serie_1_Ima...</td>\n",
       "      <td>[Negative]</td>\n",
       "      <td>nan</td>\n",
       "      <td>False</td>\n",
       "    </tr>\n",
       "    <tr>\n",
       "      <th>3</th>\n",
       "      <td>VitusData/Serier/Series1/CellsCorr/Serie_1_Ima...</td>\n",
       "      <td>[Negative]</td>\n",
       "      <td>nan</td>\n",
       "      <td>False</td>\n",
       "    </tr>\n",
       "    <tr>\n",
       "      <th>4</th>\n",
       "      <td>VitusData/Serier/Series1/CellsCorr/Serie_1_Ima...</td>\n",
       "      <td>[Negative]</td>\n",
       "      <td>nan</td>\n",
       "      <td>False</td>\n",
       "    </tr>\n",
       "    <tr>\n",
       "      <th>...</th>\n",
       "      <td>...</td>\n",
       "      <td>...</td>\n",
       "      <td>...</td>\n",
       "      <td>...</td>\n",
       "    </tr>\n",
       "    <tr>\n",
       "      <th>36047</th>\n",
       "      <td>VitusData/Serier/Series6/CellsCorr/Serie_6_Ima...</td>\n",
       "      <td>[Negative]</td>\n",
       "      <td>nan</td>\n",
       "      <td>False</td>\n",
       "    </tr>\n",
       "    <tr>\n",
       "      <th>36048</th>\n",
       "      <td>VitusData/Serier/Series6/CellsCorr/Serie_6_Ima...</td>\n",
       "      <td>[Negative]</td>\n",
       "      <td>nan</td>\n",
       "      <td>False</td>\n",
       "    </tr>\n",
       "    <tr>\n",
       "      <th>36049</th>\n",
       "      <td>VitusData/Serier/Series6/CellsCorr/Serie_6_Ima...</td>\n",
       "      <td>[Negative]</td>\n",
       "      <td>nan</td>\n",
       "      <td>False</td>\n",
       "    </tr>\n",
       "    <tr>\n",
       "      <th>36050</th>\n",
       "      <td>VitusData/Serier/Series6/CellsCorr/Serie_6_Ima...</td>\n",
       "      <td>[Negative]</td>\n",
       "      <td>nan</td>\n",
       "      <td>False</td>\n",
       "    </tr>\n",
       "    <tr>\n",
       "      <th>36051</th>\n",
       "      <td>VitusData/Serier/Series6/CellsCorr/Serie_6_Ima...</td>\n",
       "      <td>[Negative]</td>\n",
       "      <td>nan</td>\n",
       "      <td>False</td>\n",
       "    </tr>\n",
       "  </tbody>\n",
       "</table>\n",
       "<p>36052 rows × 4 columns</p>\n",
       "</div>"
      ],
      "text/plain": [
       "                                                ImageDir       Label MaskDir  \\\n",
       "0      VitusData/Serier/Series1/CellsCorr/Serie_1_Ima...  [Negative]     nan   \n",
       "1      VitusData/Serier/Series1/CellsCorr/Serie_1_Ima...  [Negative]     nan   \n",
       "2      VitusData/Serier/Series1/CellsCorr/Serie_1_Ima...  [Negative]     nan   \n",
       "3      VitusData/Serier/Series1/CellsCorr/Serie_1_Ima...  [Negative]     nan   \n",
       "4      VitusData/Serier/Series1/CellsCorr/Serie_1_Ima...  [Negative]     nan   \n",
       "...                                                  ...         ...     ...   \n",
       "36047  VitusData/Serier/Series6/CellsCorr/Serie_6_Ima...  [Negative]     nan   \n",
       "36048  VitusData/Serier/Series6/CellsCorr/Serie_6_Ima...  [Negative]     nan   \n",
       "36049  VitusData/Serier/Series6/CellsCorr/Serie_6_Ima...  [Negative]     nan   \n",
       "36050  VitusData/Serier/Series6/CellsCorr/Serie_6_Ima...  [Negative]     nan   \n",
       "36051  VitusData/Serier/Series6/CellsCorr/Serie_6_Ima...  [Negative]     nan   \n",
       "\n",
       "       is_fault  \n",
       "0         False  \n",
       "1         False  \n",
       "2         False  \n",
       "3         False  \n",
       "4         False  \n",
       "...         ...  \n",
       "36047     False  \n",
       "36048     False  \n",
       "36049     False  \n",
       "36050     False  \n",
       "36051     False  \n",
       "\n",
       "[36052 rows x 4 columns]"
      ]
     },
     "metadata": {},
     "output_type": "display_data"
    }
   ],
   "source": [
    "display(data)"
   ]
  },
  {
   "cell_type": "code",
   "execution_count": 195,
   "metadata": {},
   "outputs": [],
   "source": [
    "Train,test_val = train_test_split(data, test_size = 0.4, random_state = 42, stratify = data['is_fault'])\n",
    "test,val = train_test_split(test_val, test_size = 0.5, random_state = 42, stratify = test_val['is_fault'])"
   ]
  },
  {
   "cell_type": "code",
   "execution_count": 196,
   "metadata": {},
   "outputs": [],
   "source": [
    "Train.to_csv('data/VitusData/Train.csv')\n",
    "test.to_csv('data/VitusData/Test.csv')\n",
    "val.to_csv('data/VitusData/Val.csv')"
   ]
  },
  {
   "cell_type": "code",
   "execution_count": 197,
   "metadata": {},
   "outputs": [
    {
     "data": {
      "text/plain": [
       "102"
      ]
     },
     "execution_count": 197,
     "metadata": {},
     "output_type": "execute_result"
    }
   ],
   "source": [
    "len(val[val['is_fault']])"
   ]
  },
  {
   "cell_type": "code",
   "execution_count": 12,
   "metadata": {},
   "outputs": [
    {
     "ename": "IndexError",
     "evalue": "index 22246 is out of bounds for axis 0 with size 22246",
     "output_type": "error",
     "traceback": [
      "\u001b[0;31m---------------------------------------------------------------------------\u001b[0m",
      "\u001b[0;31mIndexError\u001b[0m                                Traceback (most recent call last)",
      "Cell \u001b[0;32mIn[12], line 1\u001b[0m\n\u001b[0;32m----> 1\u001b[0m \u001b[43mTrain\u001b[49m\u001b[38;5;241;43m.\u001b[39;49m\u001b[43miloc\u001b[49m\u001b[43m[\u001b[49m\u001b[38;5;241;43m22246\u001b[39;49m\u001b[43m,\u001b[49m\u001b[38;5;241;43m0\u001b[39;49m\u001b[43m]\u001b[49m\n",
      "File \u001b[0;32m~/Desktop/Projects/BscProjektData/lib/python3.10/site-packages/pandas/core/indexing.py:1066\u001b[0m, in \u001b[0;36m_LocationIndexer.__getitem__\u001b[0;34m(self, key)\u001b[0m\n\u001b[1;32m   1064\u001b[0m     key \u001b[38;5;241m=\u001b[39m \u001b[38;5;28mtuple\u001b[39m(com\u001b[38;5;241m.\u001b[39mapply_if_callable(x, \u001b[38;5;28mself\u001b[39m\u001b[38;5;241m.\u001b[39mobj) \u001b[38;5;28;01mfor\u001b[39;00m x \u001b[38;5;129;01min\u001b[39;00m key)\n\u001b[1;32m   1065\u001b[0m     \u001b[38;5;28;01mif\u001b[39;00m \u001b[38;5;28mself\u001b[39m\u001b[38;5;241m.\u001b[39m_is_scalar_access(key):\n\u001b[0;32m-> 1066\u001b[0m         \u001b[38;5;28;01mreturn\u001b[39;00m \u001b[38;5;28;43mself\u001b[39;49m\u001b[38;5;241;43m.\u001b[39;49m\u001b[43mobj\u001b[49m\u001b[38;5;241;43m.\u001b[39;49m\u001b[43m_get_value\u001b[49m\u001b[43m(\u001b[49m\u001b[38;5;241;43m*\u001b[39;49m\u001b[43mkey\u001b[49m\u001b[43m,\u001b[49m\u001b[43m \u001b[49m\u001b[43mtakeable\u001b[49m\u001b[38;5;241;43m=\u001b[39;49m\u001b[38;5;28;43mself\u001b[39;49m\u001b[38;5;241;43m.\u001b[39;49m\u001b[43m_takeable\u001b[49m\u001b[43m)\u001b[49m\n\u001b[1;32m   1067\u001b[0m     \u001b[38;5;28;01mreturn\u001b[39;00m \u001b[38;5;28mself\u001b[39m\u001b[38;5;241m.\u001b[39m_getitem_tuple(key)\n\u001b[1;32m   1068\u001b[0m \u001b[38;5;28;01melse\u001b[39;00m:\n\u001b[1;32m   1069\u001b[0m     \u001b[38;5;66;03m# we by definition only have the 0th axis\u001b[39;00m\n",
      "File \u001b[0;32m~/Desktop/Projects/BscProjektData/lib/python3.10/site-packages/pandas/core/frame.py:3915\u001b[0m, in \u001b[0;36mDataFrame._get_value\u001b[0;34m(self, index, col, takeable)\u001b[0m\n\u001b[1;32m   3913\u001b[0m \u001b[38;5;28;01mif\u001b[39;00m takeable:\n\u001b[1;32m   3914\u001b[0m     series \u001b[38;5;241m=\u001b[39m \u001b[38;5;28mself\u001b[39m\u001b[38;5;241m.\u001b[39m_ixs(col, axis\u001b[38;5;241m=\u001b[39m\u001b[38;5;241m1\u001b[39m)\n\u001b[0;32m-> 3915\u001b[0m     \u001b[38;5;28;01mreturn\u001b[39;00m \u001b[43mseries\u001b[49m\u001b[38;5;241;43m.\u001b[39;49m\u001b[43m_values\u001b[49m\u001b[43m[\u001b[49m\u001b[43mindex\u001b[49m\u001b[43m]\u001b[49m\n\u001b[1;32m   3917\u001b[0m series \u001b[38;5;241m=\u001b[39m \u001b[38;5;28mself\u001b[39m\u001b[38;5;241m.\u001b[39m_get_item_cache(col)\n\u001b[1;32m   3918\u001b[0m engine \u001b[38;5;241m=\u001b[39m \u001b[38;5;28mself\u001b[39m\u001b[38;5;241m.\u001b[39mindex\u001b[38;5;241m.\u001b[39m_engine\n",
      "\u001b[0;31mIndexError\u001b[0m: index 22246 is out of bounds for axis 0 with size 22246"
     ]
    }
   ],
   "source": []
  },
  {
   "cell_type": "code",
   "execution_count": null,
   "metadata": {},
   "outputs": [],
   "source": []
  },
  {
   "cell_type": "code",
   "execution_count": 46,
   "metadata": {},
   "outputs": [],
   "source": [
    "X_train,y_train,X_valid,y_valid,X_test,y_test = train_valid_test_split(data, target = 'Label',\n",
    "                                            train_size = 0.6,\n",
    "                                            valid_size = 0.2,\n",
    "                                            test_size = 0.2,\n",
    "                                            random_state = 42)"
   ]
  },
  {
   "cell_type": "code",
   "execution_count": null,
   "metadata": {},
   "outputs": [],
   "source": []
  },
  {
   "cell_type": "code",
   "execution_count": 47,
   "metadata": {},
   "outputs": [
    {
     "data": {
      "text/html": [
       "<div>\n",
       "<style scoped>\n",
       "    .dataframe tbody tr th:only-of-type {\n",
       "        vertical-align: middle;\n",
       "    }\n",
       "\n",
       "    .dataframe tbody tr th {\n",
       "        vertical-align: top;\n",
       "    }\n",
       "\n",
       "    .dataframe thead th {\n",
       "        text-align: right;\n",
       "    }\n",
       "</style>\n",
       "<table border=\"1\" class=\"dataframe\">\n",
       "  <thead>\n",
       "    <tr style=\"text-align: right;\">\n",
       "      <th></th>\n",
       "      <th>ImageDir</th>\n",
       "      <th>MaskDir</th>\n",
       "    </tr>\n",
       "  </thead>\n",
       "  <tbody>\n",
       "    <tr>\n",
       "      <th>21366</th>\n",
       "      <td>VitusData/Serier/Series4/CellsCorr/Serie_4_Ima...</td>\n",
       "      <td>nan</td>\n",
       "    </tr>\n",
       "    <tr>\n",
       "      <th>32931</th>\n",
       "      <td>VitusData/Serier/Series6/CellsCorr/Serie_6_Ima...</td>\n",
       "      <td>nan</td>\n",
       "    </tr>\n",
       "    <tr>\n",
       "      <th>6711</th>\n",
       "      <td>VitusData/Serier/Series1/CellsCorr/Serie_1_Ima...</td>\n",
       "      <td>nan</td>\n",
       "    </tr>\n",
       "    <tr>\n",
       "      <th>23674</th>\n",
       "      <td>VitusData/Serier/Series4/CellsCorr/Serie_4_Ima...</td>\n",
       "      <td>nan</td>\n",
       "    </tr>\n",
       "    <tr>\n",
       "      <th>13910</th>\n",
       "      <td>VitusData/Serier/Series2/CellsCorr/Serie_2_Ima...</td>\n",
       "      <td>nan</td>\n",
       "    </tr>\n",
       "  </tbody>\n",
       "</table>\n",
       "</div>"
      ],
      "text/plain": [
       "                                                ImageDir MaskDir\n",
       "21366  VitusData/Serier/Series4/CellsCorr/Serie_4_Ima...     nan\n",
       "32931  VitusData/Serier/Series6/CellsCorr/Serie_6_Ima...     nan\n",
       "6711   VitusData/Serier/Series1/CellsCorr/Serie_1_Ima...     nan\n",
       "23674  VitusData/Serier/Series4/CellsCorr/Serie_4_Ima...     nan\n",
       "13910  VitusData/Serier/Series2/CellsCorr/Serie_2_Ima...     nan"
      ]
     },
     "execution_count": 47,
     "metadata": {},
     "output_type": "execute_result"
    }
   ],
   "source": [
    "X_train.head()"
   ]
  },
  {
   "cell_type": "code",
   "execution_count": 4,
   "metadata": {},
   "outputs": [],
   "source": [
    "from PIL import Image\n",
    "import numpy as np\n",
    "import matplotlib.pyplot as plt\n",
    "import torch\n",
    "import torchvision.transforms as transforms"
   ]
  },
  {
   "cell_type": "code",
   "execution_count": 2,
   "metadata": {},
   "outputs": [],
   "source": [
    "im = Image.open('/Users/madsandersen/PycharmProjects/BscProjektData/BachelorProject/Data/VitusData/Serier/Series1/CellsCorr/Serie_1_ImageCorr_-1_4085_Cell_Row1_Col_2.png')"
   ]
  },
  {
   "cell_type": "code",
   "execution_count": 7,
   "metadata": {},
   "outputs": [
    {
     "name": "stdout",
     "output_type": "stream",
     "text": [
      "[[31 32 23 ... 12  9 10]\n",
      " [26 28 21 ...  9  7 10]\n",
      " [21 20 21 ...  5  5 10]\n",
      " ...\n",
      " [36 40 44 ... 28 32 37]\n",
      " [41 47 42 ... 39 40 43]\n",
      " [46 52 42 ... 37 40 43]]\n"
     ]
    }
   ],
   "source": [
    "print(np.array(im))"
   ]
  },
  {
   "cell_type": "code",
   "execution_count": 5,
   "metadata": {},
   "outputs": [
    {
     "data": {
      "text/plain": [
       "tensor([[[0.1216, 0.1255, 0.0902,  ..., 0.0471, 0.0353, 0.0392],\n",
       "         [0.1020, 0.1098, 0.0824,  ..., 0.0353, 0.0275, 0.0392],\n",
       "         [0.0824, 0.0784, 0.0824,  ..., 0.0196, 0.0196, 0.0392],\n",
       "         ...,\n",
       "         [0.1412, 0.1569, 0.1725,  ..., 0.1098, 0.1255, 0.1451],\n",
       "         [0.1608, 0.1843, 0.1647,  ..., 0.1529, 0.1569, 0.1686],\n",
       "         [0.1804, 0.2039, 0.1647,  ..., 0.1451, 0.1569, 0.1686]]])"
      ]
     },
     "execution_count": 5,
     "metadata": {},
     "output_type": "execute_result"
    }
   ],
   "source": [
    "transforms.ToTensor()(im)"
   ]
  },
  {
   "cell_type": "code",
   "execution_count": 22,
   "metadata": {},
   "outputs": [
    {
     "data": {
      "text/plain": [
       "5678.450000000001"
      ]
     },
     "execution_count": 22,
     "metadata": {},
     "output_type": "execute_result"
    }
   ],
   "source": [
    "(337**2)*0.05"
   ]
  },
  {
   "cell_type": "code",
   "execution_count": 48,
   "metadata": {},
   "outputs": [],
   "source": [
    "im = Image.open('/Users/madsandersen/PycharmProjects/BscProjektData/BachelorProject/Data/VitusData/Masks/-2_4141_Cell_Row7_Col_2_CrackB_4.png')"
   ]
  },
  {
   "cell_type": "code",
   "execution_count": 49,
   "metadata": {},
   "outputs": [
    {
     "data": {
      "image/png": "[encoded data removed]",
      "text/plain": [
       "<PIL.PngImagePlugin.PngImageFile image mode=L size=403x405>"
      ]
     },
     "execution_count": 49,
     "metadata": {},
     "output_type": "execute_result"
    }
   ],
   "source": [
    "im"
   ]
  },
  {
   "cell_type": "code",
   "execution_count": 54,
   "metadata": {},
   "outputs": [],
   "source": [
    "a = np.array(im)"
   ]
  },
  {
   "cell_type": "code",
   "execution_count": 55,
   "metadata": {},
   "outputs": [
    {
     "name": "stdout",
     "output_type": "stream",
     "text": [
      "[[0 0 0 ... 0 0 0]\n",
      " [0 0 0 ... 0 0 0]\n",
      " [0 0 0 ... 0 0 0]\n",
      " ...\n",
      " [0 0 0 ... 0 0 0]\n",
      " [0 0 0 ... 0 0 0]\n",
      " [0 0 0 ... 0 0 0]]\n"
     ]
    }
   ],
   "source": [
    "print(a)"
   ]
  },
  {
   "cell_type": "code",
   "execution_count": 56,
   "metadata": {},
   "outputs": [
    {
     "data": {
      "text/plain": [
       "17175"
      ]
     },
     "execution_count": 56,
     "metadata": {},
     "output_type": "execute_result"
    }
   ],
   "source": [
    "a.sum()"
   ]
  },
  {
   "cell_type": "code",
   "execution_count": 53,
   "metadata": {},
   "outputs": [
    {
     "data": {
      "text/plain": [
       "<matplotlib.image.AxesImage at 0x155fc02b0>"
      ]
     },
     "execution_count": 53,
     "metadata": {},
     "output_type": "execute_result"
    },
    {
     "data": {
      "image/png": "[encoded data removed]",
      "text/plain": [
       "<Figure size 640x480 with 1 Axes>"
      ]
     },
     "metadata": {},
     "output_type": "display_data"
    }
   ],
   "source": [
    "plt.imshow(a)"
   ]
  },
  {
   "cell_type": "code",
   "execution_count": 198,
   "metadata": {},
   "outputs": [],
   "source": [
    "import torch"
   ]
  },
  {
   "cell_type": "code",
   "execution_count": 200,
   "metadata": {},
   "outputs": [
    {
     "data": {
      "text/plain": [
       "tensor(6)"
      ]
     },
     "execution_count": 200,
     "metadata": {},
     "output_type": "execute_result"
    }
   ],
   "source": [
    "a = torch.tensor([1,2,3])\n",
    "a.sum()"
   ]
  },
  {
   "cell_type": "code",
   "execution_count": null,
   "metadata": {},
   "outputs": [],
   "source": [
    ".sum"
   ]
  }
 ],
 "metadata": {
  "kernelspec": {
   "display_name": "Python 3 (ipykernel)",
   "language": "python",
   "name": "python3"
  },
  "language_info": {
   "codemirror_mode": {
    "name": "ipython",
    "version": 3
   },
   "file_extension": ".py",
   "mimetype": "text/x-python",
   "name": "python",
   "nbconvert_exporter": "python",
   "pygments_lexer": "ipython3",
   "version": "3.10.9"
  }
 },
 "nbformat": 4,
 "nbformat_minor": 1
}
