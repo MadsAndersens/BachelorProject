{
 "cells": [
  {
   "cell_type": "code",
   "execution_count": 1,
   "metadata": {
    "collapsed": true
   },
   "outputs": [],
   "source": [
    "import pandas as pd\n",
    "from fast_ml.model_development import train_valid_test_split\n",
    "from sklearn.model_selection import train_test_split"
   ]
  },
  {
   "cell_type": "code",
   "execution_count": 2,
   "outputs": [],
   "source": [
    "data = pd.read_csv('data/VitusData/DataSet.csv')"
   ],
   "metadata": {
    "collapsed": false
   }
  },
  {
   "cell_type": "code",
   "execution_count": 3,
   "outputs": [
    {
     "data": {
      "text/plain": "37078"
     },
     "execution_count": 3,
     "metadata": {},
     "output_type": "execute_result"
    }
   ],
   "source": [
    "len(data)"
   ],
   "metadata": {
    "collapsed": false
   }
  },
  {
   "cell_type": "code",
   "execution_count": 4,
   "outputs": [],
   "source": [
    "data['ImageDir'] = data['ImageDir'].apply(lambda x: x.split('/')[7:])\n",
    "data['ImageDir'] = data['ImageDir'].apply(lambda x: '/'.join(x))"
   ],
   "metadata": {
    "collapsed": false
   }
  },
  {
   "cell_type": "code",
   "execution_count": 5,
   "outputs": [],
   "source": [
    "data['MaskDir'] = data['MaskDir'].astype(str)"
   ],
   "metadata": {
    "collapsed": false
   }
  },
  {
   "cell_type": "code",
   "execution_count": 6,
   "outputs": [],
   "source": [
    "data['MaskDir'] = data['MaskDir'].apply(lambda x: x.split('/')[7:] if x != 'nan' else x)\n",
    "data['MaskDir'] = data['MaskDir'].apply(lambda x: '/'.join(x) if x != 'nan' else x)"
   ],
   "metadata": {
    "collapsed": false
   }
  },
  {
   "cell_type": "code",
   "execution_count": 7,
   "outputs": [
    {
     "data": {
      "text/plain": "67       VitusData/Masks/-16_4133_Cell_Row2_Col_3_Crack...\n190      VitusData/Masks/-20_4078_Cell_Row7_Col_3_Crack...\n228      VitusData/Masks/-5_4139_Cell_Row4_Col_4_CrackA...\n241      VitusData/Masks/-9_4104_Cell_Row10_Col_6_Crack...\n284      VitusData/Masks/-18_4132_Cell_Row7_Col_5_Crack...\n                               ...                        \n35433    VitusData/Masks/-17_4281_PC_Cell_Row9_Col_3_Cr...\n35979    VitusData/Masks/-9_4254_PC_Cell_Row3_Col_2_Cra...\n35983    VitusData/Masks/-2_4237_PC_Cell_Row7_Col_3_Cra...\n36164    VitusData/Masks/-13_4272_PC_Cell_Row5_Col_3_Cr...\n36458    VitusData/Masks/-2_4286_PC_Cell_Row6_Col_4_Cra...\nName: MaskDir, Length: 315, dtype: object"
     },
     "execution_count": 7,
     "metadata": {},
     "output_type": "execute_result"
    }
   ],
   "source": [
    "data[data['Label'] == 'CrackA']['MaskDir']"
   ],
   "metadata": {
    "collapsed": false
   }
  },
  {
   "cell_type": "code",
   "execution_count": 58,
   "outputs": [
    {
     "data": {
      "text/plain": "                                                ImageDir     Label MaskDir\n0      VitusData/Serier/Series1/CellsCorr/Serie_1_Ima...  Negative     nan\n1      VitusData/Serier/Series1/CellsCorr/Serie_1_Ima...  Negative     nan\n2      VitusData/Serier/Series1/CellsCorr/Serie_1_Ima...  Negative     nan\n3      VitusData/Serier/Series1/CellsCorr/Serie_1_Ima...  Negative     nan\n4      VitusData/Serier/Series1/CellsCorr/Serie_1_Ima...  Negative     nan\n...                                                  ...       ...     ...\n37073  VitusData/Serier/Series6/CellsCorr/Serie_6_Ima...  Negative     nan\n37074  VitusData/Serier/Series6/CellsCorr/Serie_6_Ima...  Negative     nan\n37075  VitusData/Serier/Series6/CellsCorr/Serie_6_Ima...  Negative     nan\n37076  VitusData/Serier/Series6/CellsCorr/Serie_6_Ima...  Negative     nan\n37077  VitusData/Serier/Series6/CellsCorr/Serie_6_Ima...  Negative     nan\n\n[37078 rows x 3 columns]",
      "text/html": "<div>\n<style scoped>\n    .dataframe tbody tr th:only-of-type {\n        vertical-align: middle;\n    }\n\n    .dataframe tbody tr th {\n        vertical-align: top;\n    }\n\n    .dataframe thead th {\n        text-align: right;\n    }\n</style>\n<table border=\"1\" class=\"dataframe\">\n  <thead>\n    <tr style=\"text-align: right;\">\n      <th></th>\n      <th>ImageDir</th>\n      <th>Label</th>\n      <th>MaskDir</th>\n    </tr>\n  </thead>\n  <tbody>\n    <tr>\n      <th>0</th>\n      <td>VitusData/Serier/Series1/CellsCorr/Serie_1_Ima...</td>\n      <td>Negative</td>\n      <td>nan</td>\n    </tr>\n    <tr>\n      <th>1</th>\n      <td>VitusData/Serier/Series1/CellsCorr/Serie_1_Ima...</td>\n      <td>Negative</td>\n      <td>nan</td>\n    </tr>\n    <tr>\n      <th>2</th>\n      <td>VitusData/Serier/Series1/CellsCorr/Serie_1_Ima...</td>\n      <td>Negative</td>\n      <td>nan</td>\n    </tr>\n    <tr>\n      <th>3</th>\n      <td>VitusData/Serier/Series1/CellsCorr/Serie_1_Ima...</td>\n      <td>Negative</td>\n      <td>nan</td>\n    </tr>\n    <tr>\n      <th>4</th>\n      <td>VitusData/Serier/Series1/CellsCorr/Serie_1_Ima...</td>\n      <td>Negative</td>\n      <td>nan</td>\n    </tr>\n    <tr>\n      <th>...</th>\n      <td>...</td>\n      <td>...</td>\n      <td>...</td>\n    </tr>\n    <tr>\n      <th>37073</th>\n      <td>VitusData/Serier/Series6/CellsCorr/Serie_6_Ima...</td>\n      <td>Negative</td>\n      <td>nan</td>\n    </tr>\n    <tr>\n      <th>37074</th>\n      <td>VitusData/Serier/Series6/CellsCorr/Serie_6_Ima...</td>\n      <td>Negative</td>\n      <td>nan</td>\n    </tr>\n    <tr>\n      <th>37075</th>\n      <td>VitusData/Serier/Series6/CellsCorr/Serie_6_Ima...</td>\n      <td>Negative</td>\n      <td>nan</td>\n    </tr>\n    <tr>\n      <th>37076</th>\n      <td>VitusData/Serier/Series6/CellsCorr/Serie_6_Ima...</td>\n      <td>Negative</td>\n      <td>nan</td>\n    </tr>\n    <tr>\n      <th>37077</th>\n      <td>VitusData/Serier/Series6/CellsCorr/Serie_6_Ima...</td>\n      <td>Negative</td>\n      <td>nan</td>\n    </tr>\n  </tbody>\n</table>\n<p>37078 rows × 3 columns</p>\n</div>"
     },
     "execution_count": 58,
     "metadata": {},
     "output_type": "execute_result"
    }
   ],
   "source": [
    "data"
   ],
   "metadata": {
    "collapsed": false
   }
  },
  {
   "cell_type": "code",
   "execution_count": 8,
   "outputs": [],
   "source": [
    "Train,test_val = train_test_split(data, test_size = 0.4, random_state = 42, stratify = data['Label'])\n",
    "test,val = train_test_split(test_val, test_size = 0.5, random_state = 42, stratify = test_val['Label'])"
   ],
   "metadata": {
    "collapsed": false
   }
  },
  {
   "cell_type": "code",
   "execution_count": 78,
   "outputs": [],
   "source": [
    "Train.to_csv('data/VitusData/Train.csv')\n",
    "test.to_csv('data/VitusData/Test.csv')\n",
    "val.to_csv('data/VitusData/Val.csv')"
   ],
   "metadata": {
    "collapsed": false
   }
  },
  {
   "cell_type": "code",
   "execution_count": 11,
   "outputs": [
    {
     "data": {
      "text/plain": "22246"
     },
     "execution_count": 11,
     "metadata": {},
     "output_type": "execute_result"
    }
   ],
   "source": [
    "len(Train)"
   ],
   "metadata": {
    "collapsed": false
   }
  },
  {
   "cell_type": "code",
   "execution_count": 12,
   "outputs": [
    {
     "ename": "IndexError",
     "evalue": "index 22246 is out of bounds for axis 0 with size 22246",
     "output_type": "error",
     "traceback": [
      "\u001B[0;31m---------------------------------------------------------------------------\u001B[0m",
      "\u001B[0;31mIndexError\u001B[0m                                Traceback (most recent call last)",
      "Cell \u001B[0;32mIn[12], line 1\u001B[0m\n\u001B[0;32m----> 1\u001B[0m \u001B[43mTrain\u001B[49m\u001B[38;5;241;43m.\u001B[39;49m\u001B[43miloc\u001B[49m\u001B[43m[\u001B[49m\u001B[38;5;241;43m22246\u001B[39;49m\u001B[43m,\u001B[49m\u001B[38;5;241;43m0\u001B[39;49m\u001B[43m]\u001B[49m\n",
      "File \u001B[0;32m~/Desktop/Projects/BscProjektData/lib/python3.10/site-packages/pandas/core/indexing.py:1066\u001B[0m, in \u001B[0;36m_LocationIndexer.__getitem__\u001B[0;34m(self, key)\u001B[0m\n\u001B[1;32m   1064\u001B[0m     key \u001B[38;5;241m=\u001B[39m \u001B[38;5;28mtuple\u001B[39m(com\u001B[38;5;241m.\u001B[39mapply_if_callable(x, \u001B[38;5;28mself\u001B[39m\u001B[38;5;241m.\u001B[39mobj) \u001B[38;5;28;01mfor\u001B[39;00m x \u001B[38;5;129;01min\u001B[39;00m key)\n\u001B[1;32m   1065\u001B[0m     \u001B[38;5;28;01mif\u001B[39;00m \u001B[38;5;28mself\u001B[39m\u001B[38;5;241m.\u001B[39m_is_scalar_access(key):\n\u001B[0;32m-> 1066\u001B[0m         \u001B[38;5;28;01mreturn\u001B[39;00m \u001B[38;5;28;43mself\u001B[39;49m\u001B[38;5;241;43m.\u001B[39;49m\u001B[43mobj\u001B[49m\u001B[38;5;241;43m.\u001B[39;49m\u001B[43m_get_value\u001B[49m\u001B[43m(\u001B[49m\u001B[38;5;241;43m*\u001B[39;49m\u001B[43mkey\u001B[49m\u001B[43m,\u001B[49m\u001B[43m \u001B[49m\u001B[43mtakeable\u001B[49m\u001B[38;5;241;43m=\u001B[39;49m\u001B[38;5;28;43mself\u001B[39;49m\u001B[38;5;241;43m.\u001B[39;49m\u001B[43m_takeable\u001B[49m\u001B[43m)\u001B[49m\n\u001B[1;32m   1067\u001B[0m     \u001B[38;5;28;01mreturn\u001B[39;00m \u001B[38;5;28mself\u001B[39m\u001B[38;5;241m.\u001B[39m_getitem_tuple(key)\n\u001B[1;32m   1068\u001B[0m \u001B[38;5;28;01melse\u001B[39;00m:\n\u001B[1;32m   1069\u001B[0m     \u001B[38;5;66;03m# we by definition only have the 0th axis\u001B[39;00m\n",
      "File \u001B[0;32m~/Desktop/Projects/BscProjektData/lib/python3.10/site-packages/pandas/core/frame.py:3915\u001B[0m, in \u001B[0;36mDataFrame._get_value\u001B[0;34m(self, index, col, takeable)\u001B[0m\n\u001B[1;32m   3913\u001B[0m \u001B[38;5;28;01mif\u001B[39;00m takeable:\n\u001B[1;32m   3914\u001B[0m     series \u001B[38;5;241m=\u001B[39m \u001B[38;5;28mself\u001B[39m\u001B[38;5;241m.\u001B[39m_ixs(col, axis\u001B[38;5;241m=\u001B[39m\u001B[38;5;241m1\u001B[39m)\n\u001B[0;32m-> 3915\u001B[0m     \u001B[38;5;28;01mreturn\u001B[39;00m \u001B[43mseries\u001B[49m\u001B[38;5;241;43m.\u001B[39;49m\u001B[43m_values\u001B[49m\u001B[43m[\u001B[49m\u001B[43mindex\u001B[49m\u001B[43m]\u001B[49m\n\u001B[1;32m   3917\u001B[0m series \u001B[38;5;241m=\u001B[39m \u001B[38;5;28mself\u001B[39m\u001B[38;5;241m.\u001B[39m_get_item_cache(col)\n\u001B[1;32m   3918\u001B[0m engine \u001B[38;5;241m=\u001B[39m \u001B[38;5;28mself\u001B[39m\u001B[38;5;241m.\u001B[39mindex\u001B[38;5;241m.\u001B[39m_engine\n",
      "\u001B[0;31mIndexError\u001B[0m: index 22246 is out of bounds for axis 0 with size 22246"
     ]
    }
   ],
   "source": [
    "Train.iloc[22246,0]"
   ],
   "metadata": {
    "collapsed": false
   }
  },
  {
   "cell_type": "code",
   "execution_count": null,
   "outputs": [],
   "source": [],
   "metadata": {
    "collapsed": false
   }
  },
  {
   "cell_type": "code",
   "execution_count": 46,
   "outputs": [],
   "source": [
    "X_train,y_train,X_valid,y_valid,X_test,y_test = train_valid_test_split(data, target = 'Label',\n",
    "                                            train_size = 0.6,\n",
    "                                            valid_size = 0.2,\n",
    "                                            test_size = 0.2,\n",
    "                                            random_state = 42)"
   ],
   "metadata": {
    "collapsed": false
   }
  },
  {
   "cell_type": "code",
   "execution_count": null,
   "outputs": [],
   "source": [],
   "metadata": {
    "collapsed": false
   }
  },
  {
   "cell_type": "code",
   "execution_count": 47,
   "outputs": [
    {
     "data": {
      "text/plain": "                                                ImageDir MaskDir\n21366  VitusData/Serier/Series4/CellsCorr/Serie_4_Ima...     nan\n32931  VitusData/Serier/Series6/CellsCorr/Serie_6_Ima...     nan\n6711   VitusData/Serier/Series1/CellsCorr/Serie_1_Ima...     nan\n23674  VitusData/Serier/Series4/CellsCorr/Serie_4_Ima...     nan\n13910  VitusData/Serier/Series2/CellsCorr/Serie_2_Ima...     nan",
      "text/html": "<div>\n<style scoped>\n    .dataframe tbody tr th:only-of-type {\n        vertical-align: middle;\n    }\n\n    .dataframe tbody tr th {\n        vertical-align: top;\n    }\n\n    .dataframe thead th {\n        text-align: right;\n    }\n</style>\n<table border=\"1\" class=\"dataframe\">\n  <thead>\n    <tr style=\"text-align: right;\">\n      <th></th>\n      <th>ImageDir</th>\n      <th>MaskDir</th>\n    </tr>\n  </thead>\n  <tbody>\n    <tr>\n      <th>21366</th>\n      <td>VitusData/Serier/Series4/CellsCorr/Serie_4_Ima...</td>\n      <td>nan</td>\n    </tr>\n    <tr>\n      <th>32931</th>\n      <td>VitusData/Serier/Series6/CellsCorr/Serie_6_Ima...</td>\n      <td>nan</td>\n    </tr>\n    <tr>\n      <th>6711</th>\n      <td>VitusData/Serier/Series1/CellsCorr/Serie_1_Ima...</td>\n      <td>nan</td>\n    </tr>\n    <tr>\n      <th>23674</th>\n      <td>VitusData/Serier/Series4/CellsCorr/Serie_4_Ima...</td>\n      <td>nan</td>\n    </tr>\n    <tr>\n      <th>13910</th>\n      <td>VitusData/Serier/Series2/CellsCorr/Serie_2_Ima...</td>\n      <td>nan</td>\n    </tr>\n  </tbody>\n</table>\n</div>"
     },
     "execution_count": 47,
     "metadata": {},
     "output_type": "execute_result"
    }
   ],
   "source": [
    "X_train.head()"
   ],
   "metadata": {
    "collapsed": false
   }
  },
  {
   "cell_type": "code",
   "execution_count": null,
   "outputs": [],
   "source": [],
   "metadata": {
    "collapsed": false
   }
  }
 ],
 "metadata": {
  "kernelspec": {
   "display_name": "Python 3",
   "language": "python",
   "name": "python3"
  },
  "language_info": {
   "codemirror_mode": {
    "name": "ipython",
    "version": 2
   },
   "file_extension": ".py",
   "mimetype": "text/x-python",
   "name": "python",
   "nbconvert_exporter": "python",
   "pygments_lexer": "ipython2",
   "version": "2.7.6"
  }
 },
 "nbformat": 4,
 "nbformat_minor": 0
}
